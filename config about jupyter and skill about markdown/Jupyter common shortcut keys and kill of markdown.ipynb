{
 "cells": [
  {
   "cell_type": "markdown",
   "id": "9060e3c8",
   "metadata": {},
   "source": [
    "# jupyter notebook常用快捷键\n",
    "#### 两种键盘输入模式介绍  \n",
    "Jupyter Notebook 有两种键盘输入模式：<p>\n",
    "编辑模式，允许你往单元中键入代码或文本；  \n",
    "按\"Enter\"键进入到编辑模式，此时单元框为绿色： <p>\n",
    "命令模式，键盘输入运行程序命令；  \n",
    "按\"Esc\"键进入到命令模式，此时单元框为蓝色："
   ]
  },
  {
   "cell_type": "markdown",
   "id": "3176ab5c",
   "metadata": {},
   "source": [
    "#### 查看快捷键的方式\n",
    "1.直接按“Ctrl+Shift+P”  \n",
    "2.help->Keyboard Shortcuts  \n",
    "3.点击工具栏的键盘键：  \n",
    "4.命令模式下直接使用快捷键h。"
   ]
  },
  {
   "cell_type": "markdown",
   "id": "27b9d6c3",
   "metadata": {},
   "source": [
    "#### 命令模式下常用的快捷键\n",
    "Shift-Enter : 运行本单元，选中下个单元  \n",
    "Ctrl-Enter : 运行本单元  \n",
    "Alt-Enter : 运行本单元，在其下插入新单元  \n",
    "Y : 单元转入代码状态  \n",
    "M :单元转入markdown状态  \n",
    "R : 单元转入raw状态  \n",
    "1 : 设定 1 级标题  \n",
    "2 : 设定 2 级标题  \n",
    "3 : 设定 3 级标题  \n",
    "4 : 设定 4 级标题  \n",
    "5 : 设定 5 级标题  \n",
    "6 : 设定 6 级标题  \n",
    "A : 在上方插入新单元  \n",
    "B : 在下方插入新单元  \n",
    "X : 剪切选中的单元  \n",
    "C : 复制选中的单元  \n",
    "Shift-V : 粘贴到上方单元  \n",
    "V : 粘贴到下方单元  \n",
    "Z : 恢复删除的最后一个单元  \n",
    "D,D : 删除选中的单元  \n",
    "Shift-M : 合并选中的单元  \n",
    "Ctrl-s : 文件存盘  \n",
    "H : 显示快捷键帮助  \n",
    "    \n",
    "#### 编辑模式下常用的快捷键\n",
    "Tab : 代码补全或缩进  \n",
    "Shift-Tab : 提示  \n",
    "Ctrl-] : 缩进  \n",
    "Ctrl-[ : 解除缩进  \n",
    "Ctrl-A : 全选  \n",
    "Ctrl-Z : 复原  \n",
    "Ctrl-Shift-Z : 再做  \n",
    "Ctrl-Y : 再做  \n",
    "Ctrl-Home : 跳到单元开头  \n",
    "Ctrl-Up : 跳到单元开头  \n",
    "Ctrl-End : 跳到单元末尾  \n",
    "Ctrl-Down : 跳到单元末尾  \n",
    "Ctrl-Left : 跳到左边一个字首  \n",
    "Ctrl-Right : 跳到右边一个字首  \n",
    "Ctrl-Backspace : 删除前面一个字  \n",
    "Ctrl-Delete : 删除后面一个字  \n",
    "Esc : 进入命令模式  \n",
    "Ctrl-M : 进入命令模式  \n",
    "Shift-Enter : 运行本单元，选中下一单元  \n",
    "Ctrl-Enter : 运行本单元  \n",
    "Alt-Enter : 运行本单元，在下面插入一单元  \n",
    "Ctrl-Shift-- : 分割单元  \n",
    "Ctrl-Shift-Subtract : 分割单元  \n",
    "Ctrl-S : 文件存盘  \n",
    "Shift : 忽略  \n",
    "Up : 光标上移或转入上一单元  "
   ]
  },
  {
   "cell_type": "code",
   "execution_count": null,
   "id": "c89e73f9",
   "metadata": {},
   "outputs": [],
   "source": []
  },
  {
   "cell_type": "code",
   "execution_count": null,
   "id": "d47226ad",
   "metadata": {},
   "outputs": [],
   "source": []
  },
  {
   "cell_type": "code",
   "execution_count": null,
   "id": "1cd51105",
   "metadata": {},
   "outputs": [],
   "source": []
  }
 ],
 "metadata": {
  "kernelspec": {
   "display_name": "Python 3 (ipykernel)",
   "language": "python",
   "name": "python3"
  },
  "language_info": {
   "codemirror_mode": {
    "name": "ipython",
    "version": 3
   },
   "file_extension": ".py",
   "mimetype": "text/x-python",
   "name": "python",
   "nbconvert_exporter": "python",
   "pygments_lexer": "ipython3",
   "version": "3.7.0"
  }
 },
 "nbformat": 4,
 "nbformat_minor": 5
}
