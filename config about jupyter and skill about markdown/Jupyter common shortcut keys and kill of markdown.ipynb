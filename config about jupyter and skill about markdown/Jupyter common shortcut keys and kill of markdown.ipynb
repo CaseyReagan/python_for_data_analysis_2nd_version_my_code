{
 "cells": [
  {
   "cell_type": "markdown",
   "id": "70bcb4d0",
   "metadata": {},
   "source": [
    "# jupyter notebook常用快捷键\n",
    "#### 两种键盘输入模式介绍  \n",
    "Jupyter Notebook 有两种键盘输入模式：<p>\n",
    "编辑模式，允许你往单元中键入代码或文本；  \n",
    "按\"Enter\"键进入到编辑模式，此时单元框为绿色： <p>\n",
    "命令模式，键盘输入运行程序命令；  \n",
    "按\"Esc\"键进入到命令模式，此时单元框为蓝色："
   ]
  },
  {
   "cell_type": "markdown",
   "id": "8a43bd99",
   "metadata": {},
   "source": [
    "#### 查看快捷键的方式\n",
    "1.直接按“Ctrl+Shift+P”  \n",
    "2.help->Keyboard Shortcuts  \n",
    "3.点击工具栏的键盘键：  \n",
    "4.命令模式下直接使用快捷键h。"
   ]
  },
  {
   "cell_type": "markdown",
   "id": "a03d2598",
   "metadata": {},
   "source": [
    "#### 命令模式下常用的快捷键\n",
    "Shift-Enter : 运行本单元，选中下个单元  \n",
    "Ctrl-Enter : 运行本单元  \n",
    "Alt-Enter : 运行本单元，在其下插入新单元  \n",
    "Y : 单元转入代码状态  \n",
    "M :单元转入markdown状态  \n",
    "R : 单元转入raw状态  \n",
    "1 : 设定 1 级标题  \n",
    "2 : 设定 2 级标题  \n",
    "3 : 设定 3 级标题  \n",
    "4 : 设定 4 级标题  \n",
    "5 : 设定 5 级标题  \n",
    "6 : 设定 6 级标题  \n",
    "A : 在上方插入新单元  \n",
    "B : 在下方插入新单元  \n",
    "X : 剪切选中的单元  \n",
    "C : 复制选中的单元  \n",
    "Shift-V : 粘贴到上方单元  \n",
    "V : 粘贴到下方单元  \n",
    "Z : 恢复删除的最后一个单元  \n",
    "D,D : 删除选中的单元  \n",
    "Shift-M : 合并选中的单元  \n",
    "Ctrl-s : 文件存盘  \n",
    "H : 显示快捷键帮助  \n",
    "    \n",
    "#### 编辑模式下常用的快捷键\n",
    "Tab : 代码补全或缩进  \n",
    "Shift-Tab : 提示  \n",
    "Ctrl-] : 缩进  \n",
    "Ctrl-[ : 解除缩进  \n",
    "Ctrl-A : 全选  \n",
    "Ctrl-Z : 复原  \n",
    "Ctrl-Shift-Z : 再做  \n",
    "Ctrl-Y : 再做  \n",
    "Ctrl-Home : 跳到单元开头  \n",
    "Ctrl-Up : 跳到单元开头  \n",
    "Ctrl-End : 跳到单元末尾  \n",
    "Ctrl-Down : 跳到单元末尾  \n",
    "Ctrl-Left : 跳到左边一个字首  \n",
    "Ctrl-Right : 跳到右边一个字首  \n",
    "Ctrl-Backspace : 删除前面一个字  \n",
    "Ctrl-Delete : 删除后面一个字  \n",
    "Esc : 进入命令模式  \n",
    "Ctrl-M : 进入命令模式  \n",
    "Shift-Enter : 运行本单元，选中下一单元  \n",
    "Ctrl-Enter : 运行本单元  \n",
    "Alt-Enter : 运行本单元，在下面插入一单元  \n",
    "Ctrl-Shift-- : 分割单元  \n",
    "Ctrl-Shift-Subtract : 分割单元  \n",
    "Ctrl-S : 文件存盘  \n",
    "Shift : 忽略  \n",
    "Up : 光标上移或转入上一单元  "
   ]
  },
  {
   "cell_type": "markdown",
   "id": "3401615f",
   "metadata": {},
   "source": [
    "# Markdown基本语法使用\n",
    "\n",
    "一.标题\n",
    "想要设置文字标题一般用使用#来设置.\n",
    "\n",
    "一个#是一级标题(最大的),二个#是二级标题,以此类推\n",
    "\n",
    "注：标准语法一般在#后跟个空格再写文字，貌似简书不加空格也行。\n",
    "\n",
    "注：标准语法一般在#后跟个空格再写文字，貌似简书不加空格也行。\n",
    "\n",
    "示例:"
   ]
  },
  {
   "cell_type": "markdown",
   "id": "5307d332",
   "metadata": {},
   "source": [
    "#  这是一级标题\n",
    "## 这是二级标题\n",
    "###  这是三级标题\n",
    "####  这是四级标题"
   ]
  },
  {
   "cell_type": "markdown",
   "id": "06ba252e",
   "metadata": {},
   "source": [
    "# 二,字体\n",
    "加粗  \n",
    "要加粗的文字左右分别用两个*号包起来  \n",
    "斜体  \n",
    "要倾斜的文字左右分别用一个*号包起来  \n",
    "斜体加粗  \n",
    "要倾斜和加粗的文字左右分别用三个*号包起来  \n",
    "删除线  \n",
    "要加删除线的文字左右分别用两个~~号包起来  \n",
    "示例:"
   ]
  },
  {
   "cell_type": "code",
   "execution_count": null,
   "id": "819cb727",
   "metadata": {},
   "outputs": [],
   "source": [
    "**这是加粗的文字**\n",
    "*这是倾斜的文字*\n",
    "***这是斜体加粗的文字***\n",
    "~~这是加删除线的文字~~"
   ]
  },
  {
   "cell_type": "markdown",
   "id": "a3774e2b",
   "metadata": {},
   "source": [
    "**这是加粗的文字**  \n",
    "*这是倾斜的文字*  \n",
    "***这是斜体加粗的文字***  \n",
    "~~这是加删除线的文字~~"
   ]
  },
  {
   "cell_type": "markdown",
   "id": "b373fc3a",
   "metadata": {},
   "source": [
    "# 三,引用\n",
    "在引用的文字前加>即可。引用也可以嵌套，如加两个>>三个>>>\n",
    "\n",
    "示例:"
   ]
  },
  {
   "cell_type": "code",
   "execution_count": null,
   "id": "22faddde",
   "metadata": {},
   "outputs": [],
   "source": [
    ">这是引用的内容\n",
    ">>这是引用的内容\n",
    ">>>这是引用的内容\n",
    ">>>>>>>...这是引用的内容"
   ]
  },
  {
   "cell_type": "markdown",
   "id": "80399ffb",
   "metadata": {},
   "source": [
    ">这是引用的内容\n",
    ">>这是引用的内容\n",
    ">>>这是引用的内容\n",
    ">>>>>>>...这是引用的内容"
   ]
  },
  {
   "cell_type": "markdown",
   "id": "97e160f1",
   "metadata": {},
   "source": [
    "# 四,分割线\n",
    "三个或者三个以上的-或者*都可以\n",
    "\n",
    "示例；"
   ]
  },
  {
   "cell_type": "code",
   "execution_count": null,
   "id": "4d159856",
   "metadata": {},
   "outputs": [],
   "source": [
    "---  \n",
    "----   \n",
    "***  \n",
    "****  "
   ]
  },
  {
   "cell_type": "markdown",
   "id": "c57ea1b8",
   "metadata": {},
   "source": [
    "---\n",
    "----  \n",
    "***\n",
    "****"
   ]
  },
  {
   "cell_type": "markdown",
   "id": "7f1fd368",
   "metadata": {},
   "source": [
    "# 五,图片\n",
    "语法:\n",
    "\n",
    "# 六,超链接\n",
    "语法:\n",
    "\n",
    "[超链接名称](超链接地址 \"超链接title\")  \n",
    "\"超链接title\"可加可不加  "
   ]
  },
  {
   "cell_type": "markdown",
   "id": "296c4c1b",
   "metadata": {},
   "source": [
    "# 七,表格"
   ]
  },
  {
   "cell_type": "code",
   "execution_count": null,
   "id": "b222d204",
   "metadata": {},
   "outputs": [],
   "source": [
    "表头|表头|表头  \n",
    ":---:|:---|---:  \n",
    "内容|内容|内容  \n",
    "行:  ---   \n",
    "列:  |  \n",
    "内容的位置: (居中 :---:)  (左边 :---) (右边 ---:)  "
   ]
  },
  {
   "cell_type": "markdown",
   "id": "630fc470",
   "metadata": {},
   "source": [
    "表头|表头|表头\n",
    ":---:|:---|---:\n",
    "内容|内容|内容\n",
    "行:  --- \n",
    "列:  |\n",
    "内容的位置: (居中 :---:)  (左边 :---) (右边 ---:)"
   ]
  },
  {
   "cell_type": "markdown",
   "id": "0759747d",
   "metadata": {},
   "source": [
    "# 八，代码块"
   ]
  },
  {
   "cell_type": "code",
   "execution_count": null,
   "id": "5c22ff99",
   "metadata": {},
   "outputs": [],
   "source": [
    "单行代码块 `代码内容`\n",
    "\n",
    "多行代码块 ```\n",
    "          代码内容\n",
    "          ```"
   ]
  },
  {
   "cell_type": "markdown",
   "id": "83afd4d2",
   "metadata": {},
   "source": [
    "单行代码块 `代码内容`\n",
    "\n",
    "多行代码块 ```\n",
    "          代码内容\n",
    "          ```"
   ]
  },
  {
   "cell_type": "markdown",
   "id": "3667f1d1",
   "metadata": {},
   "source": [
    "单行  \n",
    "代码之间分别用一个反引号包起来  \n",
    "\n",
    "`这是单行代码块`\n",
    "\n",
    "多行  \n",
    "代码之间分别用三个反引号包起来，且两边的反引号单独占一行  "
   ]
  },
  {
   "cell_type": "markdown",
   "id": "e417d3a1",
   "metadata": {},
   "source": [
    "# 九,反斜杠\n",
    "反斜杠的作用是转义，转义是指让特殊符号表示其原本的意思，成为不具有Markdown语法的普通符号。\n",
    "Markdown使用了一些特殊符号来定义一些文字的格式，例如斜体或粗体，我们使用号来标记，但是当我们需要在页面上呈现星号()而不使用它在Markdown中的语法时，需要在星号()前加上反斜杠()，形如：。\n",
    "Markdown支持以下符号在前面加上反斜杠来帮助插入普通符号："
   ]
  },
  {
   "cell_type": "code",
   "execution_count": null,
   "id": "c695c7f8",
   "metadata": {},
   "outputs": [],
   "source": [
    "\\ 反斜杠　\\\n",
    "` 反引号　\\`\n",
    "* 星号　\\*\n",
    "_ 下划线　\\_\n",
    "{} 花括号　\\{}\n",
    "[] 方括号　\\[]\n",
    "() 圆括号　\\()\n",
    "# 井号　\\#\n",
    "+ 加号　\\+\n",
    "- 减号　\\-\n",
    ". 英文句点　\\.\n",
    "! 感叹号　\\!"
   ]
  }
 ],
 "metadata": {
  "kernelspec": {
   "display_name": "Python 3 (ipykernel)",
   "language": "python",
   "name": "python3"
  },
  "language_info": {
   "codemirror_mode": {
    "name": "ipython",
    "version": 3
   },
   "file_extension": ".py",
   "mimetype": "text/x-python",
   "name": "python",
   "nbconvert_exporter": "python",
   "pygments_lexer": "ipython3",
   "version": "3.7.0"
  }
 },
 "nbformat": 4,
 "nbformat_minor": 5
}
