{
 "cells": [
  {
   "cell_type": "markdown",
   "id": "3ea135b0",
   "metadata": {},
   "source": [
    "# 通过Markdown格式插入图片\n",
    "插入图片的格式为：![图片标签](图片源 src)，其中，在图像显示错误的时候会显示图像标签的内容。  \n",
    "#### 插入本地图片  \n",
    "需将图片源换成图片的本地路径，可以是绝对路径或相对路径。  "
   ]
  },
  {
   "cell_type": "code",
   "execution_count": null,
   "id": "e4ebf450",
   "metadata": {},
   "outputs": [],
   "source": [
    "![jupyter](./jupyter_logo.png)"
   ]
  },
  {
   "cell_type": "markdown",
   "id": "2caf83f4",
   "metadata": {},
   "source": [
    "![jupyter](./jupyter_logo.png)"
   ]
  },
  {
   "cell_type": "markdown",
   "id": "46e7ae2c",
   "metadata": {},
   "source": [
    "#### 插入网络图片 \n",
    " 需将图像源设为图像网址，"
   ]
  },
  {
   "cell_type": "code",
   "execution_count": null,
   "id": "cc8faee1",
   "metadata": {},
   "outputs": [],
   "source": [
    "![jupyter](http://jupyter.org/assets/main-logo.svg)"
   ]
  },
  {
   "cell_type": "markdown",
   "id": "ecd065ea",
   "metadata": {},
   "source": [
    "![jupyter](http://jupyter.org/assets/main-logo.svg)"
   ]
  },
  {
   "cell_type": "code",
   "execution_count": null,
   "id": "17cc40ab",
   "metadata": {},
   "outputs": [],
   "source": []
  }
 ],
 "metadata": {
  "kernelspec": {
   "display_name": "Python 3 (ipykernel)",
   "language": "python",
   "name": "python3"
  },
  "language_info": {
   "codemirror_mode": {
    "name": "ipython",
    "version": 3
   },
   "file_extension": ".py",
   "mimetype": "text/x-python",
   "name": "python",
   "nbconvert_exporter": "python",
   "pygments_lexer": "ipython3",
   "version": "3.7.0"
  }
 },
 "nbformat": 4,
 "nbformat_minor": 5
}
