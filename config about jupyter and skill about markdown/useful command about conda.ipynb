{
 "cells": [
  {
   "cell_type": "markdown",
   "id": "f8b1d9d9",
   "metadata": {},
   "source": [
    "# 安装\n",
    "linux环境"
   ]
  },
  {
   "cell_type": "code",
   "execution_count": null,
   "id": "efb42f00",
   "metadata": {},
   "outputs": [],
   "source": [
    "bash Anaconda3-2019.07-Linux-x86_64.sh\n",
    "#yes+回车 \n",
    "#然后重启terminal"
   ]
  },
  {
   "cell_type": "markdown",
   "id": "7d3e178b",
   "metadata": {},
   "source": [
    "window环境：直接双击安装exe文件，然后根据安装向导进行安装"
   ]
  },
  {
   "cell_type": "markdown",
   "id": "94bfe06a",
   "metadata": {},
   "source": [
    "# 升级\n",
    "升级Anaconda需要先升级conda"
   ]
  },
  {
   "cell_type": "code",
   "execution_count": null,
   "id": "ea0e574d",
   "metadata": {},
   "outputs": [],
   "source": [
    "conda update conda          #基本升级\n",
    "conda update anaconda       #大的升级\n",
    "conda update anaconda-navigator    //update最新版本的anaconda-navigator   "
   ]
  },
  {
   "cell_type": "markdown",
   "id": "9fe34c41",
   "metadata": {},
   "source": [
    "# 卸载Anaconda软件\n",
    "由于Anaconda的安装文件都包含在一个目录中，所以直接将该目录删除即可。删除整个Anaconda目录：  \n",
    ">计算机控制面板->程序与应用->卸载 //windows"
   ]
  },
  {
   "cell_type": "markdown",
   "id": "21753cb4",
   "metadata": {},
   "source": [
    "或者\n",
    "\n",
    ">找到C:\\ProgramData\\Anaconda3\\Uninstall-Anaconda3.exe执行卸载"
   ]
  },
  {
   "cell_type": "code",
   "execution_count": null,
   "id": "a3fbab95",
   "metadata": {},
   "outputs": [],
   "source": [
    "rm -rf anaconda    //ubuntu"
   ]
  },
  {
   "cell_type": "markdown",
   "id": "0402d8ae",
   "metadata": {},
   "source": [
    "最后，建议清理下.bashrc中的Anaconda路径。"
   ]
  },
  {
   "cell_type": "markdown",
   "id": "aad08a48",
   "metadata": {},
   "source": [
    "# conda环境使用基本命令"
   ]
  },
  {
   "cell_type": "code",
   "execution_count": null,
   "id": "b37b7e10",
   "metadata": {},
   "outputs": [],
   "source": [
    "conda update -n base conda        #update最新版本的conda\n",
    "conda create -n xxxx python=3.5   #创建python3.5的xxxx虚拟环境\n",
    "conda activate xxxx               #开启xxxx环境\n",
    "conda deactivate                  #关闭环境\n",
    "conda env list                    #显示所有的虚拟环境\n",
    "conda info --envs                 #显示所有的虚拟环境"
   ]
  },
  {
   "cell_type": "markdown",
   "id": "14e66f8c",
   "metadata": {},
   "source": [
    "# 查看指定包可安装版本信息命令\n",
    "参考：https://blog.csdn.net/qq_35203425/article/details/79965389  \n",
    "查看tensorflow各个版本：（查看会发现有一大堆TensorFlow源，但是不能随便选，选择可以用查找命令定位）"
   ]
  },
  {
   "cell_type": "code",
   "execution_count": null,
   "id": "37c0e2eb",
   "metadata": {},
   "outputs": [],
   "source": [
    "anaconda search -t conda tensorflow  "
   ]
  },
  {
   "cell_type": "markdown",
   "id": "3c865dd6",
   "metadata": {},
   "source": [
    "查看指定包可安装版本信息命令"
   ]
  },
  {
   "cell_type": "code",
   "execution_count": null,
   "id": "5a14b945",
   "metadata": {},
   "outputs": [],
   "source": [
    "anaconda show <USER/PACKAGE>  "
   ]
  },
  {
   "cell_type": "markdown",
   "id": "01f98e3d",
   "metadata": {},
   "source": [
    "查看指定anaconda/tensorflow版本信息"
   ]
  },
  {
   "cell_type": "code",
   "execution_count": null,
   "id": "eebd357f",
   "metadata": {},
   "outputs": [],
   "source": [
    "anaconda show tensorflow"
   ]
  },
  {
   "cell_type": "markdown",
   "id": "36bd6d9b",
   "metadata": {},
   "source": [
    "输出结果会提供一个下载地址，使用下面命令就可指定安装1.8.0版本tensorflow"
   ]
  },
  {
   "cell_type": "code",
   "execution_count": null,
   "id": "7e4b25cc",
   "metadata": {},
   "outputs": [],
   "source": [
    "conda install --channel https://conda.anaconda.org/anaconda tensorflow=1.8.0 "
   ]
  },
  {
   "cell_type": "markdown",
   "id": "5954cd05",
   "metadata": {},
   "source": [
    "# 更新，卸载安装包："
   ]
  },
  {
   "cell_type": "code",
   "execution_count": null,
   "id": "88fb64ce",
   "metadata": {},
   "outputs": [],
   "source": [
    "conda list         #查看已经安装的文件包\n",
    "conda list  -n xxx       #指定查看xxx虚拟环境下安装的package\n",
    "conda update xxx   #更新xxx文件包\n",
    "conda uninstall xxx   #卸载xxx文件包"
   ]
  },
  {
   "cell_type": "markdown",
   "id": "d73d7499",
   "metadata": {},
   "source": [
    "# 删除虚拟环境"
   ]
  },
  {
   "cell_type": "code",
   "execution_count": null,
   "id": "55f120b6",
   "metadata": {},
   "outputs": [],
   "source": [
    "conda remove -n xxxx --all   //创建xxxx虚拟环境"
   ]
  },
  {
   "cell_type": "markdown",
   "id": "9850d3a4",
   "metadata": {},
   "source": [
    "# 清理（conda瘦身）\n",
    "conda clean就可以轻松搞定！第一步：通过conda clean -p来删除一些没用的包，这个命令会检查哪些包没有在包缓存中被硬依赖到其他地方，并删除它们。第二步：通过conda clean -t可以将删除conda保存下来的tar包。"
   ]
  },
  {
   "cell_type": "code",
   "execution_count": null,
   "id": "089919b4",
   "metadata": {},
   "outputs": [],
   "source": [
    "conda clean -p      //删除没有用的包\n",
    "conda clean -t      //删除tar包\n",
    "conda clean -y --all //删除所有的安装包及cache"
   ]
  },
  {
   "cell_type": "markdown",
   "id": "cde25f03",
   "metadata": {},
   "source": [
    "参考：https://blog.csdn.net/menc15/article/details/71477949"
   ]
  },
  {
   "cell_type": "code",
   "execution_count": null,
   "id": "29ac3646",
   "metadata": {},
   "outputs": [],
   "source": []
  }
 ],
 "metadata": {
  "kernelspec": {
   "display_name": "Python 3 (ipykernel)",
   "language": "python",
   "name": "python3"
  },
  "language_info": {
   "codemirror_mode": {
    "name": "ipython",
    "version": 3
   },
   "file_extension": ".py",
   "mimetype": "text/x-python",
   "name": "python",
   "nbconvert_exporter": "python",
   "pygments_lexer": "ipython3",
   "version": "3.7.0"
  }
 },
 "nbformat": 4,
 "nbformat_minor": 5
}
