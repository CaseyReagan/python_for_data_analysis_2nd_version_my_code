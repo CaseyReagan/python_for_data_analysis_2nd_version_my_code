{
 "cells": [
  {
   "cell_type": "markdown",
   "id": "29435ec9",
   "metadata": {},
   "source": [
    "# 安装\n",
    "linux环境"
   ]
  },
  {
   "cell_type": "code",
   "execution_count": null,
   "id": "2149d8ab",
   "metadata": {},
   "outputs": [],
   "source": [
    "bash Anaconda3-2019.07-Linux-x86_64.sh\n",
    "#yes+回车 \n",
    "#然后重启terminal"
   ]
  },
  {
   "cell_type": "markdown",
   "id": "4345b989",
   "metadata": {},
   "source": [
    "window环境：直接双击安装exe文件，然后根据安装向导进行安装"
   ]
  },
  {
   "cell_type": "markdown",
   "id": "56985d57",
   "metadata": {},
   "source": [
    "# 升级\n",
    "升级Anaconda需要先升级conda"
   ]
  },
  {
   "cell_type": "code",
   "execution_count": null,
   "id": "886c3a62",
   "metadata": {},
   "outputs": [],
   "source": [
    "conda update conda          #基本升级\n",
    "conda update anaconda       #大的升级\n",
    "conda update anaconda-navigator    //update最新版本的anaconda-navigator   "
   ]
  },
  {
   "cell_type": "markdown",
   "id": "7cdbce9a",
   "metadata": {},
   "source": [
    "# 卸载Anaconda软件\n",
    "由于Anaconda的安装文件都包含在一个目录中，所以直接将该目录删除即可。删除整个Anaconda目录：  \n",
    ">计算机控制面板->程序与应用->卸载 //windows"
   ]
  },
  {
   "cell_type": "markdown",
   "id": "e93f9403",
   "metadata": {},
   "source": [
    "或者\n",
    "\n",
    ">找到C:\\ProgramData\\Anaconda3\\Uninstall-Anaconda3.exe执行卸载"
   ]
  },
  {
   "cell_type": "code",
   "execution_count": null,
   "id": "9866f561",
   "metadata": {},
   "outputs": [],
   "source": [
    "rm -rf anaconda    //ubuntu"
   ]
  },
  {
   "cell_type": "markdown",
   "id": "e59558e1",
   "metadata": {},
   "source": [
    "最后，建议清理下.bashrc中的Anaconda路径。"
   ]
  },
  {
   "cell_type": "code",
   "execution_count": null,
   "id": "6ce0aa7f",
   "metadata": {},
   "outputs": [],
   "source": []
  }
 ],
 "metadata": {
  "kernelspec": {
   "display_name": "Python 3 (ipykernel)",
   "language": "python",
   "name": "python3"
  },
  "language_info": {
   "codemirror_mode": {
    "name": "ipython",
    "version": 3
   },
   "file_extension": ".py",
   "mimetype": "text/x-python",
   "name": "python",
   "nbconvert_exporter": "python",
   "pygments_lexer": "ipython3",
   "version": "3.7.0"
  }
 },
 "nbformat": 4,
 "nbformat_minor": 5
}
