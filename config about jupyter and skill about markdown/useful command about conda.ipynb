{
 "cells": [
  {
   "cell_type": "markdown",
   "id": "1a2ad495",
   "metadata": {},
   "source": [
    "# 安装\n",
    "linux环境"
   ]
  },
  {
   "cell_type": "code",
   "execution_count": null,
   "id": "14185284",
   "metadata": {},
   "outputs": [],
   "source": [
    "bash Anaconda3-2019.07-Linux-x86_64.sh\n",
    "#yes+回车 \n",
    "#然后重启terminal"
   ]
  },
  {
   "cell_type": "markdown",
   "id": "0259dc67",
   "metadata": {},
   "source": [
    "window环境：直接双击安装exe文件，然后根据安装向导进行安装"
   ]
  },
  {
   "cell_type": "markdown",
   "id": "f1af1e08",
   "metadata": {},
   "source": [
    "# 升级\n",
    "升级Anaconda需要先升级conda"
   ]
  },
  {
   "cell_type": "code",
   "execution_count": null,
   "id": "41101e82",
   "metadata": {},
   "outputs": [],
   "source": [
    "conda update conda          #基本升级\n",
    "conda update anaconda       #大的升级\n",
    "conda update anaconda-navigator    //update最新版本的anaconda-navigator   "
   ]
  },
  {
   "cell_type": "markdown",
   "id": "ad7411df",
   "metadata": {},
   "source": [
    "# 卸载Anaconda软件\n",
    "由于Anaconda的安装文件都包含在一个目录中，所以直接将该目录删除即可。删除整个Anaconda目录：  \n",
    ">计算机控制面板->程序与应用->卸载 //windows"
   ]
  },
  {
   "cell_type": "markdown",
   "id": "c3e28018",
   "metadata": {},
   "source": [
    "或者\n",
    "\n",
    ">找到C:\\ProgramData\\Anaconda3\\Uninstall-Anaconda3.exe执行卸载"
   ]
  },
  {
   "cell_type": "code",
   "execution_count": null,
   "id": "e7d4b26b",
   "metadata": {},
   "outputs": [],
   "source": [
    "rm -rf anaconda    //ubuntu"
   ]
  },
  {
   "cell_type": "markdown",
   "id": "68832870",
   "metadata": {},
   "source": [
    "最后，建议清理下.bashrc中的Anaconda路径。"
   ]
  },
  {
   "cell_type": "markdown",
   "id": "093cd5a1",
   "metadata": {},
   "source": [
    "# conda环境使用基本命令"
   ]
  },
  {
   "cell_type": "code",
   "execution_count": null,
   "id": "d6943e03",
   "metadata": {},
   "outputs": [],
   "source": [
    "conda update -n base conda        #update最新版本的conda\n",
    "conda create -n xxxx python=3.5   #创建python3.5的xxxx虚拟环境\n",
    "conda activate xxxx               #开启xxxx环境\n",
    "conda deactivate                  #关闭环境\n",
    "conda env list                    #显示所有的虚拟环境\n",
    "conda info --envs                 #显示所有的虚拟环境"
   ]
  },
  {
   "cell_type": "markdown",
   "id": "853a6cb1",
   "metadata": {},
   "source": [
    "# 查看指定包可安装版本信息命令\n",
    "参考：https://blog.csdn.net/qq_35203425/article/details/79965389  \n",
    "查看tensorflow各个版本：（查看会发现有一大堆TensorFlow源，但是不能随便选，选择可以用查找命令定位）"
   ]
  },
  {
   "cell_type": "code",
   "execution_count": null,
   "id": "81f47ae2",
   "metadata": {},
   "outputs": [],
   "source": [
    "anaconda search -t conda tensorflow  "
   ]
  },
  {
   "cell_type": "markdown",
   "id": "392af72b",
   "metadata": {},
   "source": [
    "查看指定包可安装版本信息命令"
   ]
  },
  {
   "cell_type": "code",
   "execution_count": null,
   "id": "b7ebd3ca",
   "metadata": {},
   "outputs": [],
   "source": [
    "anaconda show <USER/PACKAGE>  "
   ]
  },
  {
   "cell_type": "markdown",
   "id": "66598ece",
   "metadata": {},
   "source": [
    "查看指定anaconda/tensorflow版本信息"
   ]
  },
  {
   "cell_type": "code",
   "execution_count": null,
   "id": "9713ff4c",
   "metadata": {},
   "outputs": [],
   "source": [
    "anaconda show tensorflow"
   ]
  },
  {
   "cell_type": "markdown",
   "id": "d531d51b",
   "metadata": {},
   "source": [
    "输出结果会提供一个下载地址，使用下面命令就可指定安装1.8.0版本tensorflow"
   ]
  },
  {
   "cell_type": "code",
   "execution_count": null,
   "id": "20290131",
   "metadata": {},
   "outputs": [],
   "source": [
    "conda install --channel https://conda.anaconda.org/anaconda tensorflow=1.8.0 "
   ]
  },
  {
   "cell_type": "markdown",
   "id": "2f280baf",
   "metadata": {},
   "source": [
    "# 更新，卸载安装包："
   ]
  },
  {
   "cell_type": "code",
   "execution_count": null,
   "id": "6067b0d8",
   "metadata": {},
   "outputs": [],
   "source": [
    "conda list         #查看已经安装的文件包\n",
    "conda list  -n xxx       #指定查看xxx虚拟环境下安装的package\n",
    "conda update xxx   #更新xxx文件包\n",
    "conda uninstall xxx   #卸载xxx文件包"
   ]
  },
  {
   "cell_type": "markdown",
   "id": "7a265c88",
   "metadata": {},
   "source": [
    "# 删除虚拟环境"
   ]
  },
  {
   "cell_type": "code",
   "execution_count": null,
   "id": "055ec12a",
   "metadata": {},
   "outputs": [],
   "source": [
    "conda remove -n xxxx --all   //创建xxxx虚拟环境"
   ]
  },
  {
   "cell_type": "markdown",
   "id": "63df5e00",
   "metadata": {},
   "source": [
    "# 清理（conda瘦身）\n",
    "conda clean就可以轻松搞定！第一步：通过conda clean -p来删除一些没用的包，这个命令会检查哪些包没有在包缓存中被硬依赖到其他地方，并删除它们。第二步：通过conda clean -t可以将删除conda保存下来的tar包。"
   ]
  },
  {
   "cell_type": "code",
   "execution_count": null,
   "id": "903d75a2",
   "metadata": {},
   "outputs": [],
   "source": [
    "conda clean -p      //删除没有用的包\n",
    "conda clean -t      //删除tar包\n",
    "conda clean -y --all //删除所有的安装包及cache"
   ]
  },
  {
   "cell_type": "markdown",
   "id": "e5d0b7b6",
   "metadata": {},
   "source": [
    "参考：https://blog.csdn.net/menc15/article/details/71477949"
   ]
  },
  {
   "cell_type": "markdown",
   "id": "e344d2d5",
   "metadata": {},
   "source": [
    "# 复制/重命名/删除env环境\n",
    "Conda是没有重命名环境的功能的, 要实现这个基本需求, 只能通过愚蠢的克隆-删除的过程。  \n",
    "切记不要直接mv移动环境的文件夹来重命名, 会导致一系列无法想象的错误的发生!"
   ]
  },
  {
   "cell_type": "code",
   "execution_count": null,
   "id": "3365a3c5",
   "metadata": {},
   "outputs": [],
   "source": [
    "//克隆oldname环境为newname环境\n",
    "conda create --name newname --clone oldname \n",
    "//彻底删除旧环境\n",
    "conda remove --name oldname --all      "
   ]
  },
  {
   "cell_type": "markdown",
   "id": "8081b598",
   "metadata": {},
   "source": [
    ">注意：必须在base环境下进行以上操作，否则会出现各种莫名的问题。"
   ]
  },
  {
   "cell_type": "markdown",
   "id": "04b68f76",
   "metadata": {},
   "source": [
    "# conda自动开启/关闭激活  \n",
    "参考：https://www.cnblogs.com/clemente/p/11231539.html"
   ]
  },
  {
   "cell_type": "code",
   "execution_count": null,
   "id": "905342d6",
   "metadata": {},
   "outputs": [],
   "source": [
    "conda activate   #默认激活base环境\n",
    "conda activate xxx  #激活xxx环境\n",
    "conda deactivate #关闭当前环境\n",
    "conda config --set auto_activate_base false  #关闭自动激活状态\n",
    "conda config --set auto_activate_base true  #关闭自动激活状态"
   ]
  },
  {
   "cell_type": "markdown",
   "id": "a4aa495f",
   "metadata": {},
   "source": [
    "# Conda 安装本地包\n",
    "有时conda或pip源下载速度太慢，install a过程中会中断连接导致压缩包下载不全，  \n",
    "此时，我们可以用浏览器等工具先下载指定包再用conda或pip进行本地安装"
   ]
  },
  {
   "cell_type": "code",
   "execution_count": null,
   "id": "c04e18ef",
   "metadata": {},
   "outputs": [],
   "source": [
    "#pip 安装本地包\n",
    "pip install   ～/Downloads/a.whl\n",
    "#conda 安装本地包\n",
    "conda install --use-local  ~/Downloads/a.tar.bz2"
   ]
  },
  {
   "cell_type": "markdown",
   "id": "e449b64d",
   "metadata": {},
   "source": [
    "# 解决conda/pip install 下载速度慢\n",
    "conda数据源管理"
   ]
  },
  {
   "cell_type": "code",
   "execution_count": null,
   "id": "1c9500d8",
   "metadata": {},
   "outputs": [],
   "source": [
    "#显示目前conda的数据源有哪些\n",
    "conda config --show channels\n",
    "#添加数据源：例如, 添加清华anaconda镜像：\n",
    "conda config --add channels https://mirrors.tuna.tsinghua.edu.cn/anaconda/pkgs/free/\n",
    "conda config --add channels https://mirrors.tuna.tsinghua.edu.cn/anaconda/pkgs/main/\n",
    "conda config --set show_channel_urls yes\n",
    "#删除数据源\n",
    "conda config --remove channels https://mirrors.tuna.tsinghua.edu.cn/anaconda/pkgs/free/"
   ]
  },
  {
   "cell_type": "markdown",
   "id": "9ba42f88",
   "metadata": {},
   "source": [
    "# pip数据源管理"
   ]
  },
  {
   "cell_type": "code",
   "execution_count": null,
   "id": "5f333f5b",
   "metadata": {},
   "outputs": [],
   "source": [
    "#显示目前pip的数据源有哪些\n",
    "pip config list\n",
    "pip config list --[user|global] # 列出用户|全局的设置\n",
    "pip config get global.index-url # 得到这key对应的value 如：https://mirrors.aliyun.com/pypi/simple/\n",
    "\n",
    "# 添加\n",
    "pip config set key value\n",
    "#添加数据源：例如, 添加USTC中科大的源：\n",
    "pip config set global.index-url https://mirrors.ustc.edu.cn/pypi/web/simple\n",
    "#添加全局使用该数据源\n",
    "pip config set global.trusted-host https://mirrors.ustc.edu.cn/pypi/web/simple\n",
    "\n",
    "# 删除\n",
    "pip config unset key\n",
    "# 例如\n",
    "conda config --remove channels https://mirrors.tuna.tsinghua.edu.cn/anaconda/pkgs/free/\n",
    "\n",
    "#搜索\n",
    "pip search flask  #搜素flask安装包\n",
    "\n",
    "# 升级pip\n",
    "pip install pip -U"
   ]
  },
  {
   "cell_type": "markdown",
   "id": "708791fe",
   "metadata": {},
   "source": [
    "# pip安装包管理"
   ]
  },
  {
   "cell_type": "code",
   "execution_count": null,
   "id": "adcde15c",
   "metadata": {},
   "outputs": [],
   "source": [
    "pip list #列出当前缓存的包\n",
    "pip purge #清除缓存\n",
    "pip remove #删除对应的缓存\n",
    "pip help #帮助\n",
    "pip install xxx #安装xxx包\n",
    "pip uninstall xxx #删除xxx包\n",
    "pip show xxx #展示指定的已安装的xxx包\n",
    "pip check xxx #检查xxx包的依赖是否合适"
   ]
  },
  {
   "cell_type": "markdown",
   "id": "e7edc439",
   "metadata": {},
   "source": [
    "# 常见问题\n",
    "## 1:failed ERROR conda.core.link:_execute(502):"
   ]
  },
  {
   "cell_type": "code",
   "execution_count": null,
   "id": "6f82e7cf",
   "metadata": {},
   "outputs": [],
   "source": [
    "conda install 软件时出现如下错误信息：\n",
    "Preparing transaction: done\n",
    "Verifying transaction: done\n",
    "Executing transaction: \n",
    "failed ERROR conda.core.link:_execute(502):"
   ]
  },
  {
   "cell_type": "markdown",
   "id": "9458b0d8",
   "metadata": {},
   "source": [
    "解决方法：往往时权限不够，需要以管理员方式运行Anaconda prompt进行安装\n",
    "\n",
    "# 2.anaconda或conda不是内部命令\n",
    "解决方法：https://zhuanlan.zhihu.com/p/32446675"
   ]
  },
  {
   "cell_type": "markdown",
   "id": "7158bfe3",
   "metadata": {},
   "source": [
    "![jupyter](https://img-blog.csdnimg.cn/20190624104613684.PNG?x-oss-process=image/watermark,type_ZmFuZ3poZW5naGVpdGk,shadow_10,text_aHR0cHM6Ly9ibG9nLmNzZG4ubmV0L3poYXl1c2h1aQ==,size_16,color_FFFFFF,t_70)"
   ]
  },
  {
   "cell_type": "markdown",
   "id": "88c6c938",
   "metadata": {},
   "source": [
    "添加上图环境变量即可  \n",
    "\n",
    "jupyter notebook默认工作目录设置  \n",
    "参考：https://blog.csdn.net/liwei1205/article/details/78818568  \n",
    "\n",
    "1）在Anaconda Prompt终端中输入下面命令，查看你的notebook配置文件在哪里：  "
   ]
  },
  {
   "cell_type": "code",
   "execution_count": null,
   "id": "1eaa28ca",
   "metadata": {},
   "outputs": [],
   "source": [
    "jupyter notebook --generate-config\n",
    "#会生成文件C:\\Users\\用户\\.jupyter\\jupyter_notebook_config.py"
   ]
  },
  {
   "cell_type": "markdown",
   "id": "8e0ab3c2",
   "metadata": {},
   "source": [
    "2）打开jupyter_notebook_config.py文件通过搜索关键词：c.NotebookApp.notebook_dir，修改如下"
   ]
  },
  {
   "cell_type": "code",
   "execution_count": null,
   "id": "fcdc008d",
   "metadata": {},
   "outputs": [],
   "source": [
    "c.NotebookApp.notebook_dir = 'E:\\\\tf_models'     //修改到自定义文件夹"
   ]
  },
  {
   "cell_type": "markdown",
   "id": "a0ff8904",
   "metadata": {},
   "source": [
    "3）然后重启notebook服务器就可以了\n",
    "\n",
    ">**注：**其它方法直接命令到指定目录，Anaconda Prompt终端中输：jupyter notebook 目录地址"
   ]
  },
  {
   "cell_type": "markdown",
   "id": "75dc36b0",
   "metadata": {},
   "source": [
    "# 3.conda创建环境时报错：NotWritableError: The current user does not have write permissions to a required path.\n",
    "问题出现的主要原因：用户没有对.conda文件夹的读写权限，造成其原因是由于在安装conda时使用了管理员权限。"
   ]
  },
  {
   "cell_type": "code",
   "execution_count": null,
   "id": "8b66bbed",
   "metadata": {},
   "outputs": [],
   "source": [
    "sudo chown -R xxx:xxx .conda    #xxx为自己的用户名/组"
   ]
  }
 ],
 "metadata": {
  "kernelspec": {
   "display_name": "Python 3 (ipykernel)",
   "language": "python",
   "name": "python3"
  },
  "language_info": {
   "codemirror_mode": {
    "name": "ipython",
    "version": 3
   },
   "file_extension": ".py",
   "mimetype": "text/x-python",
   "name": "python",
   "nbconvert_exporter": "python",
   "pygments_lexer": "ipython3",
   "version": "3.7.0"
  }
 },
 "nbformat": 4,
 "nbformat_minor": 5
}
