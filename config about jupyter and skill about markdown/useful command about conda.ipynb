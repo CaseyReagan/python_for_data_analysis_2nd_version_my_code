{
 "cells": [
  {
   "cell_type": "markdown",
   "id": "683ae27f",
   "metadata": {},
   "source": [
    "# 安装\n",
    "linux环境"
   ]
  },
  {
   "cell_type": "code",
   "execution_count": null,
   "id": "7abb106b",
   "metadata": {},
   "outputs": [],
   "source": [
    "bash Anaconda3-2019.07-Linux-x86_64.sh\n",
    "#yes+回车 \n",
    "#然后重启terminal"
   ]
  },
  {
   "cell_type": "markdown",
   "id": "898ca9ef",
   "metadata": {},
   "source": [
    "window环境：直接双击安装exe文件，然后根据安装向导进行安装"
   ]
  },
  {
   "cell_type": "markdown",
   "id": "8c42a221",
   "metadata": {},
   "source": [
    "# 升级\n",
    "升级Anaconda需要先升级conda"
   ]
  },
  {
   "cell_type": "code",
   "execution_count": null,
   "id": "f6802439",
   "metadata": {},
   "outputs": [],
   "source": [
    "conda update conda          #基本升级\n",
    "conda update anaconda       #大的升级\n",
    "conda update anaconda-navigator    //update最新版本的anaconda-navigator   "
   ]
  },
  {
   "cell_type": "markdown",
   "id": "4850b51b",
   "metadata": {},
   "source": [
    "# 卸载Anaconda软件\n",
    "由于Anaconda的安装文件都包含在一个目录中，所以直接将该目录删除即可。删除整个Anaconda目录：  \n",
    ">计算机控制面板->程序与应用->卸载 //windows"
   ]
  },
  {
   "cell_type": "markdown",
   "id": "9c8b2405",
   "metadata": {},
   "source": [
    "或者\n",
    "\n",
    ">找到C:\\ProgramData\\Anaconda3\\Uninstall-Anaconda3.exe执行卸载"
   ]
  },
  {
   "cell_type": "code",
   "execution_count": null,
   "id": "4ed8bec9",
   "metadata": {},
   "outputs": [],
   "source": [
    "rm -rf anaconda    //ubuntu"
   ]
  },
  {
   "cell_type": "markdown",
   "id": "69dd21f2",
   "metadata": {},
   "source": [
    "最后，建议清理下.bashrc中的Anaconda路径。"
   ]
  },
  {
   "cell_type": "markdown",
   "id": "f80020a2",
   "metadata": {},
   "source": [
    "# conda环境使用基本命令"
   ]
  },
  {
   "cell_type": "code",
   "execution_count": null,
   "id": "44edf78c",
   "metadata": {},
   "outputs": [],
   "source": [
    "conda update -n base conda        #update最新版本的conda\n",
    "conda create -n xxxx python=3.5   #创建python3.5的xxxx虚拟环境\n",
    "conda activate xxxx               #开启xxxx环境\n",
    "conda deactivate                  #关闭环境\n",
    "conda env list                    #显示所有的虚拟环境\n",
    "conda info --envs                 #显示所有的虚拟环境"
   ]
  },
  {
   "cell_type": "markdown",
   "id": "89714cc2",
   "metadata": {},
   "source": [
    "# 查看指定包可安装版本信息命令\n",
    "参考：https://blog.csdn.net/qq_35203425/article/details/79965389  \n",
    "查看tensorflow各个版本：（查看会发现有一大堆TensorFlow源，但是不能随便选，选择可以用查找命令定位）"
   ]
  },
  {
   "cell_type": "code",
   "execution_count": null,
   "id": "d53fada2",
   "metadata": {},
   "outputs": [],
   "source": [
    "anaconda search -t conda tensorflow  "
   ]
  },
  {
   "cell_type": "markdown",
   "id": "0904aa47",
   "metadata": {},
   "source": [
    "查看指定包可安装版本信息命令"
   ]
  },
  {
   "cell_type": "code",
   "execution_count": null,
   "id": "11ed56fd",
   "metadata": {},
   "outputs": [],
   "source": [
    "anaconda show <USER/PACKAGE>  "
   ]
  },
  {
   "cell_type": "markdown",
   "id": "facd6378",
   "metadata": {},
   "source": [
    "查看指定anaconda/tensorflow版本信息"
   ]
  },
  {
   "cell_type": "code",
   "execution_count": null,
   "id": "81edaf28",
   "metadata": {},
   "outputs": [],
   "source": [
    "anaconda show tensorflow"
   ]
  },
  {
   "cell_type": "markdown",
   "id": "1714f55f",
   "metadata": {},
   "source": [
    "输出结果会提供一个下载地址，使用下面命令就可指定安装1.8.0版本tensorflow"
   ]
  },
  {
   "cell_type": "code",
   "execution_count": null,
   "id": "fcba73e3",
   "metadata": {},
   "outputs": [],
   "source": [
    "conda install --channel https://conda.anaconda.org/anaconda tensorflow=1.8.0 "
   ]
  },
  {
   "cell_type": "code",
   "execution_count": null,
   "id": "5d7ef3cd",
   "metadata": {},
   "outputs": [],
   "source": []
  }
 ],
 "metadata": {
  "kernelspec": {
   "display_name": "Python 3 (ipykernel)",
   "language": "python",
   "name": "python3"
  },
  "language_info": {
   "codemirror_mode": {
    "name": "ipython",
    "version": 3
   },
   "file_extension": ".py",
   "mimetype": "text/x-python",
   "name": "python",
   "nbconvert_exporter": "python",
   "pygments_lexer": "ipython3",
   "version": "3.7.0"
  }
 },
 "nbformat": 4,
 "nbformat_minor": 5
}
