{
 "cells": [
  {
   "cell_type": "markdown",
   "id": "63c40a4c",
   "metadata": {},
   "source": [
    "# 问题描述：  \n",
    "以前都是点开就运行的，直接进入anaconda界面的（Windows），突然有一天点开后就一直停留在 loading applications 上，一直显示loading applications，却一直不开，等了好久。 因为网上一直没找到解决这种情况的方法，自己偶然遇到了，也偶然算是解决了，于是记录下来，分享那些遇到“同样”问题的人：\n"
   ]
  },
  {
   "cell_type": "markdown",
   "id": "4730d343",
   "metadata": {},
   "source": [
    "# 尝试解决：  \n",
    "然后就是网上找方法各种尝试，比如重新开机后进入conda prompt命令界面，分别依次尝试了如下指令，"
   ]
  },
  {
   "cell_type": "code",
   "execution_count": null,
   "id": "ea779204",
   "metadata": {},
   "outputs": [],
   "source": [
    "conda update anaconda-navigator"
   ]
  },
  {
   "cell_type": "code",
   "execution_count": null,
   "id": "e6cff1b0",
   "metadata": {},
   "outputs": [],
   "source": [
    "anaconda-navigator --reset"
   ]
  },
  {
   "cell_type": "code",
   "execution_count": null,
   "id": "8c60467f",
   "metadata": {},
   "outputs": [],
   "source": [
    "conda update anaconda-client"
   ]
  },
  {
   "cell_type": "code",
   "execution_count": null,
   "id": "f88ff77c",
   "metadata": {},
   "outputs": [],
   "source": [
    "conda update -f anaconda-client"
   ]
  },
  {
   "cell_type": "markdown",
   "id": "84969e23",
   "metadata": {},
   "source": [
    "然后鼠标点击anaconda，再次出现同样问题，于是再次anaconda-navigator --reset，发现如下图的错误，显示有另外一个程序在使用此文件，于是乎我进入任务管理器，尝试将名称和python相关的进程关掉（因为其实这个时候是没有用python的，按理说不应该有相关进程开启），关掉此进程后,就可以anaconda-navigator --reset，conda prompt命令界面下：输入anaconda-navigator，也就是尝试通过命令界面直接打开anaconda（如果直接点开，不通过命令，会不会成功就不知道了），然后就能进入anaconda界面了。"
   ]
  },
  {
   "cell_type": "code",
   "execution_count": null,
   "id": "b068bbe9",
   "metadata": {},
   "outputs": [],
   "source": []
  }
 ],
 "metadata": {
  "kernelspec": {
   "display_name": "Python 3 (ipykernel)",
   "language": "python",
   "name": "python3"
  },
  "language_info": {
   "codemirror_mode": {
    "name": "ipython",
    "version": 3
   },
   "file_extension": ".py",
   "mimetype": "text/x-python",
   "name": "python",
   "nbconvert_exporter": "python",
   "pygments_lexer": "ipython3",
   "version": "3.7.0"
  }
 },
 "nbformat": 4,
 "nbformat_minor": 5
}
