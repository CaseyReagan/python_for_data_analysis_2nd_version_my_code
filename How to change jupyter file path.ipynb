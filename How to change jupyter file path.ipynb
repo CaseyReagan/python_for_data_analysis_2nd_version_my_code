{
 "cells": [
  {
   "cell_type": "markdown",
   "id": "05ea13e4",
   "metadata": {},
   "source": [
    "# How to change jupyter file path."
   ]
  },
  {
   "cell_type": "markdown",
   "id": "f7c5716a",
   "metadata": {},
   "source": [
    "# 1. 打开 Anaconda Prompt，\n",
    "输入"
   ]
  },
  {
   "cell_type": "code",
   "execution_count": null,
   "id": "d8fb1bb1",
   "metadata": {},
   "outputs": [],
   "source": [
    "jupyter notebook --generate-config"
   ]
  },
  {
   "cell_type": "markdown",
   "id": "2cf4f3a6",
   "metadata": {},
   "source": [
    "这个命令的作用是生成 Jupyter notebook 的配置文件。如果你是第一次运行，会直接生成这个文件。如果曾经运行过这个命令，就会像下图一样问你时候要覆盖原来的文件。这个时候不用理会。我们的主要目的只是为了找到这个文件的路径。<p>\n",
    "找到 jupyter_notebook_config.py 的路径并打此文件。(C:\\Users\\Reagan\\.jupyter)  \n",
    "找到 c.NotebookApp.notebook_dir 这个变量，将你希望的路径赋值给这个变量，并删除这一行前面的“#”。"
   ]
  },
  {
   "cell_type": "markdown",
   "id": "d29048d4",
   "metadata": {},
   "source": [
    "注意：<p>\n",
    "1.一定要确保删除 “#”，取消这一行的注释模式。<p>\n",
    "2.这一行代码前不能有空格。<p>\n",
    "3.路径一定要是已经存在的，否则会闪退。且路径要用英文单引号括起来。<p>\n",
    "4.路径要写\\\\转义, 或者在路径字符串前用r标识. 例:c.NotebookApp.notebook_dir = r'C:\\Users\\Administrator\\Desktop\\jupyter'<p>\n",
    "改完后保存。再次通过 Anaconda Navigator 进入 Jupyter Notebook 的时候会发现默认路径已经更改。"
   ]
  },
  {
   "cell_type": "markdown",
   "id": "4ab4a5d8",
   "metadata": {},
   "source": [
    "然而，如果你直接通过 Jupyter Notebook 的快捷方式进入，默认目录还是原来那个。如果需要修改，还需要进行如下步骤：  \n",
    "找到快捷方式，右键打开属性，将“目标”最后面的 “%USERPROFILE%” 删除就可以了。"
   ]
  },
  {
   "cell_type": "markdown",
   "id": "a093bdef",
   "metadata": {},
   "source": [
    "![jupyter](https://pic1.zhimg.com/80/v2-2efae6273647203c56f2c0e75ae78560_720w.jpg)"
   ]
  },
  {
   "cell_type": "code",
   "execution_count": null,
   "id": "1651ff05",
   "metadata": {},
   "outputs": [],
   "source": []
  }
 ],
 "metadata": {
  "kernelspec": {
   "display_name": "Python 3 (ipykernel)",
   "language": "python",
   "name": "python3"
  },
  "language_info": {
   "codemirror_mode": {
    "name": "ipython",
    "version": 3
   },
   "file_extension": ".py",
   "mimetype": "text/x-python",
   "name": "python",
   "nbconvert_exporter": "python",
   "pygments_lexer": "ipython3",
   "version": "3.7.0"
  }
 },
 "nbformat": 4,
 "nbformat_minor": 5
}
