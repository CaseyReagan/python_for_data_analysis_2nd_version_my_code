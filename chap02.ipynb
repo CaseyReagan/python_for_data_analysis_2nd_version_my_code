{
 "cells": [
  {
   "cell_type": "code",
   "execution_count": 1,
   "id": "8ae7f8f4",
   "metadata": {},
   "outputs": [],
   "source": [
    "import numpy as np\n",
    "import matplotlib.pyplot as plt\n",
    "import pandas as pd\n",
    "import seaborn as sns\n",
    "import statsmodels as sm\n",
    "#import os"
   ]
  },
  {
   "cell_type": "code",
   "execution_count": 2,
   "id": "2f3f05ae",
   "metadata": {},
   "outputs": [
    {
     "name": "stdout",
     "output_type": "stream",
     "text": [
      "Hello, World!\n"
     ]
    }
   ],
   "source": [
    "print(\"Hello, World!\")"
   ]
  },
  {
   "cell_type": "code",
   "execution_count": 3,
   "id": "ac68d6ac",
   "metadata": {},
   "outputs": [],
   "source": [
    "b = [1, 2, 3]\n",
    "b?"
   ]
  },
  {
   "cell_type": "markdown",
   "id": "ab412219",
   "metadata": {},
   "source": [
    "使用问号可以把函数的注释里的内容打印出来："
   ]
  },
  {
   "cell_type": "code",
   "execution_count": 4,
   "id": "68cf8a2b",
   "metadata": {},
   "outputs": [],
   "source": [
    "def add_numbers(a, b):\n",
    "    \"\"\"\n",
    "    Add two numbers together\n",
    "    \n",
    "    Returns\n",
    "    -------\n",
    "    the_sum : type of arguments\n",
    "    \"\"\"\n",
    "    return a + b\n",
    "\n",
    "add_numbers?"
   ]
  },
  {
   "cell_type": "markdown",
   "id": "471aa31f",
   "metadata": {},
   "source": [
    "使用??会显示函数的源码："
   ]
  },
  {
   "cell_type": "code",
   "execution_count": 5,
   "id": "240a6ffb",
   "metadata": {},
   "outputs": [],
   "source": [
    "add_numbers??"
   ]
  },
  {
   "cell_type": "markdown",
   "id": "c0b4ef82",
   "metadata": {},
   "source": [
    "?还有一个用途，就是像Unix或Windows命令行一样搜索IPython的命名空间。字符与通配符结合可以匹配所有的名字。例如，我们可以获得所有包含load的顶级NumPy命名空间："
   ]
  },
  {
   "cell_type": "code",
   "execution_count": 6,
   "id": "187fdd37",
   "metadata": {},
   "outputs": [],
   "source": [
    "np.*load*?"
   ]
  },
  {
   "cell_type": "markdown",
   "id": "d801cf3f",
   "metadata": {},
   "source": [
    "### 中断运行的代码\n",
    "代码运行时按Ctrl-C，无论是%run或长时间运行命令，都会导致KeyboardInterrupt。这会导致几乎所有Python程序立即停止，除非一些特殊情况。"
   ]
  },
  {
   "cell_type": "markdown",
   "id": "9a5fcc13",
   "metadata": {},
   "source": [
    "### 魔术命令\n",
    "IPython中特殊的命令（Python中没有）被称作“魔术”命令。这些命令可以使普通任务更便捷，更容易控制IPython系统。魔术命令是在指令前添加百分号%前缀。例如，可以用%timeit（这个命令后面会详谈）测量任何Python语句，例如矩阵乘法，的执行时间："
   ]
  },
  {
   "cell_type": "code",
   "execution_count": 7,
   "id": "26e622c9",
   "metadata": {},
   "outputs": [
    {
     "name": "stdout",
     "output_type": "stream",
     "text": [
      "23.3 µs ± 980 ns per loop (mean ± std. dev. of 7 runs, 10000 loops each)\n"
     ]
    }
   ],
   "source": [
    "a = np.random.randn(100, 100)\n",
    "\n",
    "%timeit np.dot(a, a)"
   ]
  },
  {
   "cell_type": "markdown",
   "id": "835f6f38",
   "metadata": {},
   "source": [
    "魔术命令可以被看做IPython中运行的命令行。许多魔术命令有“命令行”选项，可以通过？查看："
   ]
  },
  {
   "cell_type": "code",
   "execution_count": 8,
   "id": "c9a546a6",
   "metadata": {},
   "outputs": [],
   "source": [
    "#%debug?     # This is doesn't work"
   ]
  },
  {
   "cell_type": "markdown",
   "id": "4bef91e0",
   "metadata": {},
   "source": [
    "魔术函数默认可以不用百分号，只要没有变量和函数名相同。这个特点被称为“自动魔术”，可以用%automagic打开或关闭。  \n",
    "一些魔术函数与Python函数很像，它的结果可以赋值给一个变量："
   ]
  },
  {
   "cell_type": "code",
   "execution_count": 9,
   "id": "b6c417d7",
   "metadata": {},
   "outputs": [
    {
     "name": "stdout",
     "output_type": "stream",
     "text": [
      "22.8 µs ± 732 ns per loop (mean ± std. dev. of 7 runs, 10000 loops each)\n"
     ]
    }
   ],
   "source": [
    "timeit np.dot(a, a)"
   ]
  },
  {
   "cell_type": "code",
   "execution_count": 10,
   "id": "da983bb3",
   "metadata": {},
   "outputs": [
    {
     "data": {
      "text/plain": [
       "'E:\\\\GitKraken_clones\\\\python_for_data_analysis_2nd_version_my_code'"
      ]
     },
     "execution_count": 10,
     "metadata": {},
     "output_type": "execute_result"
    }
   ],
   "source": [
    "%pwd"
   ]
  },
  {
   "cell_type": "code",
   "execution_count": 11,
   "id": "ca0c64f1",
   "metadata": {},
   "outputs": [
    {
     "data": {
      "text/plain": [
       "'E:\\\\GitKraken_clones\\\\python_for_data_analysis_2nd_version_my_code'"
      ]
     },
     "execution_count": 11,
     "metadata": {},
     "output_type": "execute_result"
    }
   ],
   "source": [
    "foo = %pwd\n",
    "\n",
    "foo"
   ]
  },
  {
   "cell_type": "markdown",
   "id": "057156a6",
   "metadata": {},
   "source": [
    "表2-2列出了一些可以提高生产率的交互计算和Python开发的IPython指令。"
   ]
  },
  {
   "cell_type": "markdown",
   "id": "ee70394b",
   "metadata": {},
   "source": [
    "![jupyter](./magic_command.png)"
   ]
  },
  {
   "cell_type": "markdown",
   "id": "850ecbbb",
   "metadata": {},
   "source": [
    "### matplotlib"
   ]
  },
  {
   "cell_type": "code",
   "execution_count": 12,
   "id": "4c0df039",
   "metadata": {},
   "outputs": [],
   "source": [
    "%matplotlib inline"
   ]
  },
  {
   "cell_type": "code",
   "execution_count": 13,
   "id": "ce0f704a",
   "metadata": {},
   "outputs": [
    {
     "data": {
      "text/plain": [
       "[<matplotlib.lines.Line2D at 0x24b5efbc5b0>]"
      ]
     },
     "execution_count": 13,
     "metadata": {},
     "output_type": "execute_result"
    },
    {
     "data": {
      "image/png": "[encoded data removed]",
      "text/plain": [
       "<Figure size 432x288 with 1 Axes>"
      ]
     },
     "metadata": {
      "needs_background": "light"
     },
     "output_type": "display_data"
    }
   ],
   "source": [
    "#os.environ[\"KMP_DUPLICATE_LIB_OK\"]=\"TRUE\"\n",
    "plt.plot(np.random.randn(50).cumsum())"
   ]
  },
  {
   "cell_type": "markdown",
   "id": "5358b79b",
   "metadata": {},
   "source": [
    "### Python语法基础"
   ]
  },
  {
   "cell_type": "markdown",
   "id": "99c05f19",
   "metadata": {},
   "source": [
    "### 使用缩进，而不是括号\n",
    "Python使用空白字符（tab和空格）来组织代码，  \n",
    "Python的语句不需要用分号结尾。但是，分号却可以用来给同在一行的语句切分。  \n",
    "Python不建议将多条语句放到一行，这会降低代码的可读性。"
   ]
  },
  {
   "cell_type": "markdown",
   "id": "96826823",
   "metadata": {},
   "source": [
    "### 万物皆对象\n",
    "Python语言的一个重要特性就是它的对象模型的一致性。每个数字、字符串、数据结构、函数、类、模块等等，都是在Python解释器的自有“盒子”内，它被认为是Python对象。每个对象都有类型（例如，字符串或函数）和内部数据。在实际中，这可以让语言非常灵活，因为函数也可以被当做对象使用。"
   ]
  },
  {
   "cell_type": "markdown",
   "id": "1c924f2b",
   "metadata": {},
   "source": [
    "### 注释\n",
    "任何前面带有井号#的文本都会被Python解释器忽略。这通常被用来添加注释。"
   ]
  },
  {
   "cell_type": "markdown",
   "id": "903ad2ce",
   "metadata": {},
   "source": [
    "### 函数和对象方法调用\n",
    "你可以用圆括号调用函数，传递零个或几个参数，或者将返回值给一个变量：  \n",
    "\n",
    "result = f(x, y, z)\n",
    "\n",
    "几乎Python中的每个对象都有附加的函数，称作方法，可以用来访问对象的内容。可以用下面的语句调用：  \n",
    "\n",
    "obj.some_method(x, y, z)\n",
    "\n",
    "函数可以使用位置和关键词参数：  \n",
    "\n",
    "result = f(a, b, c, d=5, e='foo')"
   ]
  },
  {
   "cell_type": "markdown",
   "id": "814e8e86",
   "metadata": {},
   "source": [
    "### 变量和参数传递\n",
    "当在Python中创建变量（或名字），你就在等号右边创建了一个对这个变量的引用。考虑一个整数列表：\n",
    "\n",
    "a = [1, 2, 3]\n",
    "\n",
    "假设将a赋值给一个新变量b：\n",
    "\n",
    "b = a\n",
    "\n",
    "在有些方法中，这个赋值会将数据[1, 2, 3]也复制。在Python中，a和b实际上是同一个对象，即原有列表[1, 2, 3]（见图2-7）。你可以在a中添加一个元素，然后检查b：\n",
    "\n",
    "a.append(4)  \n",
    "b  \n",
    "[1, 2, 3, 4]  \n",
    "\n",
    "当你将对象作为参数传递给函数时，新的局域变量创建了对原始对象的引用，而不是复制。如果在函数里绑定一个新对象到一个变量，这个变动不会反映到上一层。因此可以改变可变参数的内容。假设有以下函数："
   ]
  },
  {
   "cell_type": "markdown",
   "id": "121eafcb",
   "metadata": {},
   "source": [
    "### 动态引用，强类型\n",
    "与许多编译语言（如JAVA和C++）对比，Python中的对象引用不包含附属的类型。下面的代码是没有问题的："
   ]
  },
  {
   "cell_type": "code",
   "execution_count": 14,
   "id": "18220d07",
   "metadata": {},
   "outputs": [
    {
     "data": {
      "text/plain": [
       "int"
      ]
     },
     "execution_count": 14,
     "metadata": {},
     "output_type": "execute_result"
    }
   ],
   "source": [
    "a = 5\n",
    "type(a)"
   ]
  },
  {
   "cell_type": "code",
   "execution_count": 15,
   "id": "19882ec0",
   "metadata": {},
   "outputs": [
    {
     "data": {
      "text/plain": [
       "str"
      ]
     },
     "execution_count": 15,
     "metadata": {},
     "output_type": "execute_result"
    }
   ],
   "source": [
    "a = 'foo'\n",
    "type(a)"
   ]
  },
  {
   "cell_type": "markdown",
   "id": "3579fd61",
   "metadata": {},
   "source": [
    "变量是在特殊命名空间中的对象的名字，类型信息保存在对象自身中。一些人可能会说Python不是“类型化语言”。这是不正确的，看下面的例子："
   ]
  },
  {
   "cell_type": "code",
   "execution_count": 16,
   "id": "7b2a62c8",
   "metadata": {},
   "outputs": [
    {
     "ename": "TypeError",
     "evalue": "can only concatenate str (not \"int\") to str",
     "output_type": "error",
     "traceback": [
      "\u001b[1;31m---------------------------------------------------------------------------\u001b[0m",
      "\u001b[1;31mTypeError\u001b[0m                                 Traceback (most recent call last)",
      "\u001b[1;32m<ipython-input-16-e84694abbbbf>\u001b[0m in \u001b[0;36m<module>\u001b[1;34m\u001b[0m\n\u001b[1;32m----> 1\u001b[1;33m \u001b[1;34m'5'\u001b[0m\u001b[1;33m+\u001b[0m\u001b[1;36m5\u001b[0m\u001b[1;33m\u001b[0m\u001b[1;33m\u001b[0m\u001b[0m\n\u001b[0m",
      "\u001b[1;31mTypeError\u001b[0m: can only concatenate str (not \"int\") to str"
     ]
    }
   ],
   "source": [
    "'5'+ 5"
   ]
  },
  {
   "cell_type": "markdown",
   "id": "318c61cf",
   "metadata": {},
   "source": [
    "在这个方面，Python被认为是强类型化语言，意味着每个对象都有明确的类型（或类），默许转换只会发生在特定的情况下，例如："
   ]
  },
  {
   "cell_type": "code",
   "execution_count": 17,
   "id": "68a858ee",
   "metadata": {},
   "outputs": [
    {
     "data": {
      "text/plain": [
       "2.25"
      ]
     },
     "execution_count": 17,
     "metadata": {},
     "output_type": "execute_result"
    }
   ],
   "source": [
    "a = 4.5\n",
    "b = 2\n",
    "\n",
    "a/b"
   ]
  },
  {
   "cell_type": "markdown",
   "id": "c736ee70",
   "metadata": {},
   "source": [
    "知道对象的类型很重要，最好能让函数可以处理多种类型的输入。你可以用isinstance函数检查对象是某个类型的实例："
   ]
  },
  {
   "cell_type": "code",
   "execution_count": 21,
   "id": "24f59cc4",
   "metadata": {},
   "outputs": [
    {
     "data": {
      "text/plain": [
       "True"
      ]
     },
     "execution_count": 21,
     "metadata": {},
     "output_type": "execute_result"
    }
   ],
   "source": [
    "a = 5\n",
    "isinstance(a, int)"
   ]
  },
  {
   "cell_type": "code",
   "execution_count": 22,
   "id": "a45dfc36",
   "metadata": {},
   "outputs": [
    {
     "data": {
      "text/plain": [
       "True"
      ]
     },
     "execution_count": 22,
     "metadata": {},
     "output_type": "execute_result"
    }
   ],
   "source": [
    "b = 4.5\n",
    "isinstance(a, (int, float))"
   ]
  },
  {
   "cell_type": "code",
   "execution_count": 23,
   "id": "8cdfa0b2",
   "metadata": {},
   "outputs": [
    {
     "data": {
      "text/plain": [
       "True"
      ]
     },
     "execution_count": 23,
     "metadata": {},
     "output_type": "execute_result"
    }
   ],
   "source": [
    "isinstance(b, (int, float))"
   ]
  },
  {
   "cell_type": "markdown",
   "id": "487b3593",
   "metadata": {},
   "source": [
    "### 鸭子类型\n",
    "经常地，你可能不关心对象的类型，只关心对象是否有某些方法或用途。这通常被称为“鸭子类型”，来自“走起来像鸭子、叫起来像鸭子，那么它就是鸭子”的说法。例如，你可以通过验证一个对象是否遵循迭代协议，判断它是可迭代的。判断方法是使用iter函数："
   ]
  },
  {
   "cell_type": "code",
   "execution_count": 25,
   "id": "0f66badf",
   "metadata": {},
   "outputs": [],
   "source": [
    "def isiterable(obj):\n",
    "    try:\n",
    "        iter(obj)\n",
    "        return True\n",
    "    except TypeError: # not iterable\n",
    "        return False"
   ]
  },
  {
   "cell_type": "code",
   "execution_count": 26,
   "id": "0bc05f53",
   "metadata": {},
   "outputs": [
    {
     "data": {
      "text/plain": [
       "True"
      ]
     },
     "execution_count": 26,
     "metadata": {},
     "output_type": "execute_result"
    }
   ],
   "source": [
    "isiterable('a string')"
   ]
  },
  {
   "cell_type": "code",
   "execution_count": 27,
   "id": "094456b6",
   "metadata": {},
   "outputs": [
    {
     "data": {
      "text/plain": [
       "True"
      ]
     },
     "execution_count": 27,
     "metadata": {},
     "output_type": "execute_result"
    }
   ],
   "source": [
    "isiterable([1, 2, 3])"
   ]
  },
  {
   "cell_type": "code",
   "execution_count": 28,
   "id": "70f4ab52",
   "metadata": {},
   "outputs": [
    {
     "data": {
      "text/plain": [
       "False"
      ]
     },
     "execution_count": 28,
     "metadata": {},
     "output_type": "execute_result"
    }
   ],
   "source": [
    "isiterable(5)"
   ]
  },
  {
   "cell_type": "markdown",
   "id": "bb41f632",
   "metadata": {},
   "source": [
    "总是用这个功能编写可以接受多种输入类型的函数。常见的例子是编写一个函数可以接受任意类型的序列（list、tuple、ndarray）或是迭代器。你可先检验对象是否是列表（或是NUmPy数组），如果不是的话，将其转变成列表："
   ]
  },
  {
   "cell_type": "code",
   "execution_count": null,
   "id": "0f68e3e2",
   "metadata": {},
   "outputs": [],
   "source": [
    "if not isinstance(x, list) and isiterable(x):\n",
    "    x = list(x)"
   ]
  },
  {
   "cell_type": "markdown",
   "id": "34bdc6a9",
   "metadata": {},
   "source": [
    "### 引入\n",
    "在Python中，模块就是一个有.py扩展名、包含Python代码的文件。"
   ]
  },
  {
   "cell_type": "markdown",
   "id": "41a9b0c0",
   "metadata": {},
   "source": [
    "如果想从同目录下的另一个文件访问some_module.py中定义的变量和函数，可以：\n",
    "\n",
    "import some_module\n",
    "\n",
    "或者：\n",
    "\n",
    "from some_module import f, g, PI\n",
    "\n",
    "使用as关键词，你可以给引入起不同的变量名：\n",
    "\n",
    "import some_module as sm  \n",
    "from some_module import PI as pi, g as gf"
   ]
  },
  {
   "cell_type": "markdown",
   "id": "4e669ac5",
   "metadata": {},
   "source": [
    "### 二元运算符和比较运算符"
   ]
  },
  {
   "cell_type": "markdown",
   "id": "925bc559",
   "metadata": {},
   "source": [
    "![jupyter](Binary_operator.png)"
   ]
  },
  {
   "cell_type": "markdown",
   "id": "8f5e66c2",
   "metadata": {},
   "source": [
    "### 可变与不可变对象\n",
    "Python中的大多数对象，比如列表、字典、NumPy数组，和用户定义的类型（类），都是可变的。意味着这些对象或包含的值可以被修改.   \n",
    "其它的，例如字符串和元组，是不可变的."
   ]
  },
  {
   "cell_type": "markdown",
   "id": "9b185bec",
   "metadata": {},
   "source": [
    "### 标量类型\n",
    "Python的标准库中有一些内建的类型，用于处理数值数据、字符串、布尔值，和日期时间。这些单值类型被称为标量类型，本书中称其为标量。表2-4列出了主要的标量。日期和时间处理会另外讨论，因为它们是标准库的datetime模块提供的。"
   ]
  },
  {
   "cell_type": "markdown",
   "id": "491cd1fe",
   "metadata": {},
   "source": [
    "![jupyter](Scalar_type.png)"
   ]
  },
  {
   "cell_type": "markdown",
   "id": "116a4537",
   "metadata": {},
   "source": [
    "### 数值类型\n",
    "Python的主要数值类型是int和float。int可以存储任意大的数。  \n",
    "浮点数使用Python的float类型。每个数都是双精度（64位）的值。也可以用科学计数法表示.  \n",
    "不能得到整数的除法会得到浮点数.  \n",
    "要获得C-风格的整除（去掉小数部分），可以使用底除运算符//："
   ]
  },
  {
   "cell_type": "code",
   "execution_count": 32,
   "id": "6900f705",
   "metadata": {},
   "outputs": [
    {
     "data": {
      "text/plain": [
       "1"
      ]
     },
     "execution_count": 32,
     "metadata": {},
     "output_type": "execute_result"
    }
   ],
   "source": [
    "3 // 2"
   ]
  },
  {
   "cell_type": "markdown",
   "id": "95323df7",
   "metadata": {},
   "source": [
    "### 字符串\n",
    "许多人是因为Python强大而灵活的字符串处理而使用Python的。你可以用单引号或双引号来写字符串。\n",
    "对于有换行符的字符串，可以使用三引号，'''或\"\"\"都行："
   ]
  },
  {
   "cell_type": "code",
   "execution_count": 33,
   "id": "b5394190",
   "metadata": {},
   "outputs": [],
   "source": [
    "c = \"\"\"\n",
    "This is a longer string that\n",
    "spans multiple lines\n",
    "\"\"\""
   ]
  },
  {
   "cell_type": "markdown",
   "id": "8d81472b",
   "metadata": {},
   "source": [
    "字符串c实际包含四行文本，\"\"\"后面和lines后面的换行符。可以用count方法计算c中的新的行："
   ]
  },
  {
   "cell_type": "code",
   "execution_count": 34,
   "id": "d82c7a54",
   "metadata": {},
   "outputs": [
    {
     "data": {
      "text/plain": [
       "3"
      ]
     },
     "execution_count": 34,
     "metadata": {},
     "output_type": "execute_result"
    }
   ],
   "source": [
    "c.count('\\n')"
   ]
  },
  {
   "cell_type": "markdown",
   "id": "f58c489d",
   "metadata": {},
   "source": [
    "Python的字符串是不可变的，不能修改字符串.\n",
    "\n",
    "a = 'this is a string'  \n",
    "a[10] = 'f'  \n",
    "\n",
    "这样是报错的  \n",
    "许多Python对象使用str函数可以被转化为字符串："
   ]
  },
  {
   "cell_type": "code",
   "execution_count": 36,
   "id": "b72871d4",
   "metadata": {},
   "outputs": [
    {
     "name": "stdout",
     "output_type": "stream",
     "text": [
      "5.6\n"
     ]
    }
   ],
   "source": [
    "a = 5.6\n",
    "s = str(a)\n",
    "print(s)"
   ]
  },
  {
   "cell_type": "markdown",
   "id": "d9e495d0",
   "metadata": {},
   "source": [
    "反斜杠是转义字符，意思是它备用来表示特殊字符，比如换行符\\n或Unicode字符。要写一个包含反斜杠的字符串，需要进行转义."
   ]
  },
  {
   "cell_type": "markdown",
   "id": "c2e4171b",
   "metadata": {},
   "source": [
    "用+将两个字符串合并，会产生一个新的字符串。"
   ]
  },
  {
   "cell_type": "markdown",
   "id": "56af6dad",
   "metadata": {},
   "source": [
    "### 字节和Unicode\n",
    "在Python 3及以上版本中，Unicode是一级的字符串类型，这样可以更一致的处理ASCII和Non-ASCII文本。在老的Python版本中，字符串都是字节，不使用Unicode编码。假如知道字符编码，可以将其转化为Unicode。"
   ]
  },
  {
   "cell_type": "code",
   "execution_count": 37,
   "id": "83ce861f",
   "metadata": {},
   "outputs": [
    {
     "data": {
      "text/plain": [
       "'español'"
      ]
     },
     "execution_count": 37,
     "metadata": {},
     "output_type": "execute_result"
    }
   ],
   "source": [
    "val = \"español\"\n",
    "\n",
    "val"
   ]
  },
  {
   "cell_type": "code",
   "execution_count": 38,
   "id": "41cfdce4",
   "metadata": {},
   "outputs": [
    {
     "data": {
      "text/plain": [
       "b'espa\\xc3\\xb1ol'"
      ]
     },
     "execution_count": 38,
     "metadata": {},
     "output_type": "execute_result"
    }
   ],
   "source": [
    "val_utf8 = val.encode('utf-8')\n",
    "\n",
    "val_utf8"
   ]
  },
  {
   "cell_type": "code",
   "execution_count": 39,
   "id": "ff5938ed",
   "metadata": {},
   "outputs": [
    {
     "data": {
      "text/plain": [
       "bytes"
      ]
     },
     "execution_count": 39,
     "metadata": {},
     "output_type": "execute_result"
    }
   ],
   "source": [
    "type(val_utf8)"
   ]
  },
  {
   "cell_type": "markdown",
   "id": "41af77cc",
   "metadata": {},
   "source": [
    "如果你知道一个字节对象的Unicode编码，用decode方法可以解码："
   ]
  },
  {
   "cell_type": "code",
   "execution_count": 40,
   "id": "35680877",
   "metadata": {},
   "outputs": [
    {
     "data": {
      "text/plain": [
       "'español'"
      ]
     },
     "execution_count": 40,
     "metadata": {},
     "output_type": "execute_result"
    }
   ],
   "source": [
    "val_utf8.decode('utf-8')"
   ]
  },
  {
   "cell_type": "markdown",
   "id": "67ae4ea6",
   "metadata": {},
   "source": [
    "工作中碰到的文件很多都是字节对象，盲目地将所有数据编码为Unicode是不可取的。\n",
    "\n",
    "虽然用的不多，你可以在字节文本的前面加上一个b："
   ]
  },
  {
   "cell_type": "code",
   "execution_count": 42,
   "id": "54027056",
   "metadata": {},
   "outputs": [
    {
     "data": {
      "text/plain": [
       "b'this is bytes'"
      ]
     },
     "execution_count": 42,
     "metadata": {},
     "output_type": "execute_result"
    }
   ],
   "source": [
    "bytes_val = b'this is bytes'\n",
    "\n",
    "bytes_val"
   ]
  },
  {
   "cell_type": "code",
   "execution_count": 43,
   "id": "94d5b271",
   "metadata": {},
   "outputs": [
    {
     "data": {
      "text/plain": [
       "'this is bytes'"
      ]
     },
     "execution_count": 43,
     "metadata": {},
     "output_type": "execute_result"
    }
   ],
   "source": [
    "decoded = bytes_val.decode('utf8')\n",
    "\n",
    "decoded"
   ]
  },
  {
   "cell_type": "markdown",
   "id": "c1c81999",
   "metadata": {},
   "source": [
    "### 布尔值\n",
    "Python中的布尔值有两个，True和False。比较和其它条件表达式可以用True和False判断。布尔值可以与and和or结合使用："
   ]
  },
  {
   "cell_type": "code",
   "execution_count": 2,
   "id": "da8c3551",
   "metadata": {},
   "outputs": [
    {
     "data": {
      "text/plain": [
       "True"
      ]
     },
     "execution_count": 2,
     "metadata": {},
     "output_type": "execute_result"
    }
   ],
   "source": [
    "True and True"
   ]
  },
  {
   "cell_type": "code",
   "execution_count": 3,
   "id": "560ef612",
   "metadata": {},
   "outputs": [
    {
     "data": {
      "text/plain": [
       "True"
      ]
     },
     "execution_count": 3,
     "metadata": {},
     "output_type": "execute_result"
    }
   ],
   "source": [
    "True or False"
   ]
  },
  {
   "cell_type": "markdown",
   "id": "48a9ccec",
   "metadata": {},
   "source": [
    "### 类型转换\n",
    "str、bool、int和float也是函数，可以用来转换类型："
   ]
  },
  {
   "cell_type": "code",
   "execution_count": 6,
   "id": "d5cc5d4d",
   "metadata": {},
   "outputs": [
    {
     "data": {
      "text/plain": [
       "float"
      ]
     },
     "execution_count": 6,
     "metadata": {},
     "output_type": "execute_result"
    }
   ],
   "source": [
    "s = '3.1415926'\n",
    "fval = float(s)\n",
    "type(fval)"
   ]
  },
  {
   "cell_type": "code",
   "execution_count": 7,
   "id": "73d17ef7",
   "metadata": {},
   "outputs": [
    {
     "data": {
      "text/plain": [
       "3"
      ]
     },
     "execution_count": 7,
     "metadata": {},
     "output_type": "execute_result"
    }
   ],
   "source": [
    "int(fval)"
   ]
  },
  {
   "cell_type": "code",
   "execution_count": 8,
   "id": "8f3386bb",
   "metadata": {},
   "outputs": [
    {
     "data": {
      "text/plain": [
       "True"
      ]
     },
     "execution_count": 8,
     "metadata": {},
     "output_type": "execute_result"
    }
   ],
   "source": [
    "bool(fval)"
   ]
  },
  {
   "cell_type": "markdown",
   "id": "e0de151f",
   "metadata": {},
   "source": [
    "### None\n",
    "None是Python的空值类型。如果一个函数没有明确的返回值，就会默认返回None："
   ]
  },
  {
   "cell_type": "code",
   "execution_count": 9,
   "id": "77d89dd0",
   "metadata": {},
   "outputs": [
    {
     "data": {
      "text/plain": [
       "True"
      ]
     },
     "execution_count": 9,
     "metadata": {},
     "output_type": "execute_result"
    }
   ],
   "source": [
    "a = None\n",
    "a is None"
   ]
  },
  {
   "cell_type": "markdown",
   "id": "e711a4fb",
   "metadata": {},
   "source": [
    "None也常常作为函数的默认参数："
   ]
  },
  {
   "cell_type": "code",
   "execution_count": 11,
   "id": "b1698c6b",
   "metadata": {},
   "outputs": [],
   "source": [
    "def add_and_maybe_multiply(a, b, c=None):\n",
    "    result = a + b\n",
    "\n",
    "    if c is not None:\n",
    "        result = result * c\n",
    "\n",
    "    return result"
   ]
  },
  {
   "cell_type": "code",
   "execution_count": 12,
   "id": "f7af72a4",
   "metadata": {},
   "outputs": [
    {
     "data": {
      "text/plain": [
       "NoneType"
      ]
     },
     "execution_count": 12,
     "metadata": {},
     "output_type": "execute_result"
    }
   ],
   "source": [
    "type(None)"
   ]
  },
  {
   "cell_type": "markdown",
   "id": "9e7a4299",
   "metadata": {},
   "source": [
    "### 日期和时间\n",
    "Python内建的datetime模块提供了datetime、date和time类型。datetime类型结合了date和time，是最常使用的："
   ]
  },
  {
   "cell_type": "code",
   "execution_count": 14,
   "id": "d18eb51a",
   "metadata": {},
   "outputs": [
    {
     "data": {
      "text/plain": [
       "29"
      ]
     },
     "execution_count": 14,
     "metadata": {},
     "output_type": "execute_result"
    }
   ],
   "source": [
    "from datetime import datetime,date,time\n",
    "dt = datetime(2020, 10, 29, 20, 30, 21)\n",
    "dt.day"
   ]
  },
  {
   "cell_type": "code",
   "execution_count": 15,
   "id": "532f27d5",
   "metadata": {},
   "outputs": [
    {
     "data": {
      "text/plain": [
       "30"
      ]
     },
     "execution_count": 15,
     "metadata": {},
     "output_type": "execute_result"
    }
   ],
   "source": [
    "dt.minute"
   ]
  },
  {
   "cell_type": "code",
   "execution_count": 18,
   "id": "cb071d70",
   "metadata": {},
   "outputs": [
    {
     "data": {
      "text/plain": [
       "datetime.date(2020, 10, 29)"
      ]
     },
     "execution_count": 18,
     "metadata": {},
     "output_type": "execute_result"
    }
   ],
   "source": [
    "dt.date()"
   ]
  },
  {
   "cell_type": "code",
   "execution_count": 19,
   "id": "a7f580e1",
   "metadata": {},
   "outputs": [
    {
     "data": {
      "text/plain": [
       "datetime.time(20, 30, 21)"
      ]
     },
     "execution_count": 19,
     "metadata": {},
     "output_type": "execute_result"
    }
   ],
   "source": [
    "dt.time()"
   ]
  },
  {
   "cell_type": "markdown",
   "id": "fd9bf0e6",
   "metadata": {},
   "source": [
    "strftime方法可以将datetime格式化为字符串："
   ]
  },
  {
   "cell_type": "code",
   "execution_count": 20,
   "id": "19121325",
   "metadata": {},
   "outputs": [
    {
     "data": {
      "text/plain": [
       "'10/29/2020 20:30'"
      ]
     },
     "execution_count": 20,
     "metadata": {},
     "output_type": "execute_result"
    }
   ],
   "source": [
    "dt.strftime('%m/%d/%Y %H:%M')"
   ]
  },
  {
   "cell_type": "markdown",
   "id": "6b82950e",
   "metadata": {},
   "source": [
    "strptime可以将字符串转换成datetime对象："
   ]
  },
  {
   "cell_type": "code",
   "execution_count": 21,
   "id": "13d29174",
   "metadata": {},
   "outputs": [
    {
     "data": {
      "text/plain": [
       "datetime.datetime(2020, 10, 31, 0, 0)"
      ]
     },
     "execution_count": 21,
     "metadata": {},
     "output_type": "execute_result"
    }
   ],
   "source": [
    "datetime.strptime('20201031','%Y%m%d')"
   ]
  },
  {
   "cell_type": "markdown",
   "id": "7818f33e",
   "metadata": {},
   "source": [
    "### 控制流\n",
    "### if、elif和else\n",
    "if是最广为人知的控制流语句。它检查一个条件，如果为True，就执行后面的语句："
   ]
  },
  {
   "cell_type": "code",
   "execution_count": 24,
   "id": "a614f4b9",
   "metadata": {},
   "outputs": [
    {
     "name": "stdout",
     "output_type": "stream",
     "text": [
      "It’s negative\n"
     ]
    }
   ],
   "source": [
    "if -1 < 0:\n",
    "    print('It’s negative')"
   ]
  },
  {
   "cell_type": "markdown",
   "id": "615b5aea",
   "metadata": {},
   "source": [
    "if后面可以跟一个或多个elif，所有条件都是False时，还可以添加一个else："
   ]
  },
  {
   "cell_type": "code",
   "execution_count": null,
   "id": "f7c4d17c",
   "metadata": {},
   "outputs": [],
   "source": [
    "if x < 0:\n",
    "    print('It's negative')\n",
    "elif x == 0:\n",
    "    print('Equal to zero')\n",
    "elif 0 < x < 5:\n",
    "    print('Positive but smaller than 5')\n",
    "else:\n",
    "    print('Positive and larger than or equal to 5')"
   ]
  },
  {
   "cell_type": "markdown",
   "id": "77fe7f2b",
   "metadata": {},
   "source": [
    "如果某个条件为True，后面的elif就不会被执行。当使用and和or时，复合条件语句是从左到右执行："
   ]
  },
  {
   "cell_type": "markdown",
   "id": "7ca63029",
   "metadata": {},
   "source": [
    "### for循环\n",
    "for循环是在一个集合（列表或元组）中进行迭代，或者就是一个迭代器。for循环的标准语法是："
   ]
  },
  {
   "cell_type": "code",
   "execution_count": null,
   "id": "27ebbc11",
   "metadata": {},
   "outputs": [],
   "source": [
    "for value in collection:\n",
    "    # do something with value"
   ]
  },
  {
   "cell_type": "markdown",
   "id": "10b7720b",
   "metadata": {},
   "source": [
    "你可以用continue使for循环提前，跳过剩下的部分。看下面这个例子，将一个列表中的整数相加，跳过None："
   ]
  },
  {
   "cell_type": "code",
   "execution_count": null,
   "id": "419968ee",
   "metadata": {},
   "outputs": [],
   "source": [
    "sequence = [1, 2, None, 4, None, 5]\n",
    "total = 0\n",
    "for value in sequence:\n",
    "    if value is None:\n",
    "        continue\n",
    "    total += value"
   ]
  },
  {
   "cell_type": "markdown",
   "id": "97c41acc",
   "metadata": {},
   "source": [
    "可以用break跳出for循环。下面的代码将各元素相加，直到遇到5："
   ]
  },
  {
   "cell_type": "code",
   "execution_count": null,
   "id": "f701ac94",
   "metadata": {},
   "outputs": [],
   "source": [
    "sequence = [1, 2, 0, 4, 6, 5, 2, 1]\n",
    "total_until_5 = 0\n",
    "for value in sequence:\n",
    "    if value == 5:\n",
    "        break\n",
    "    total_until_5 += value"
   ]
  },
  {
   "cell_type": "markdown",
   "id": "08b58f3d",
   "metadata": {},
   "source": [
    "break只中断for循环的最内层，其余的for循环仍会运行："
   ]
  },
  {
   "cell_type": "code",
   "execution_count": 30,
   "id": "7202e6aa",
   "metadata": {},
   "outputs": [
    {
     "name": "stdout",
     "output_type": "stream",
     "text": [
      "(0, 0)\n",
      "(1, 0)\n",
      "(1, 1)\n",
      "(2, 0)\n",
      "(2, 1)\n",
      "(2, 2)\n",
      "(3, 0)\n",
      "(3, 1)\n",
      "(3, 2)\n",
      "(3, 3)\n"
     ]
    }
   ],
   "source": [
    "for i in range(4):\n",
    "    for j in range(4):\n",
    "        if j > i:\n",
    "            break\n",
    "        print((i,j))"
   ]
  },
  {
   "cell_type": "markdown",
   "id": "22df30a5",
   "metadata": {},
   "source": [
    "### While循环\n",
    "while循环指定了条件和代码，当条件为False或用break退出循环，代码才会退出："
   ]
  },
  {
   "cell_type": "code",
   "execution_count": 31,
   "id": "b23b34d0",
   "metadata": {},
   "outputs": [],
   "source": [
    "x = 256\n",
    "total = 0\n",
    "while x > 0:\n",
    "    if total > 500:\n",
    "        break\n",
    "    total += x\n",
    "    x = x // 2"
   ]
  },
  {
   "cell_type": "markdown",
   "id": "868f1248",
   "metadata": {},
   "source": [
    "### pass\n",
    "pass是Python中的非操作语句。代码块不需要任何动作时可以使用（作为未执行代码的占位符）；因为Python需要使用空白字符划定代码块，所以需要pass："
   ]
  },
  {
   "cell_type": "code",
   "execution_count": null,
   "id": "dca5d2a8",
   "metadata": {},
   "outputs": [],
   "source": [
    "if x < 0:\n",
    "    print('negative!')\n",
    "elif x == 0:\n",
    "    # TODO: put something smart here\n",
    "    pass\n",
    "else:\n",
    "    print('positive!')"
   ]
  },
  {
   "cell_type": "code",
   "execution_count": null,
   "id": "e6863014",
   "metadata": {},
   "outputs": [],
   "source": []
  }
 ],
 "metadata": {
  "kernelspec": {
   "display_name": "Python 3",
   "language": "python",
   "name": "python3"
  },
  "language_info": {
   "codemirror_mode": {
    "name": "ipython",
    "version": 3
   },
   "file_extension": ".py",
   "mimetype": "text/x-python",
   "name": "python",
   "nbconvert_exporter": "python",
   "pygments_lexer": "ipython3",
   "version": "3.8.8"
  }
 },
 "nbformat": 4,
 "nbformat_minor": 5
}
