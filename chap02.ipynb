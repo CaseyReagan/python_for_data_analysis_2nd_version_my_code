{
 "cells": [
  {
   "cell_type": "code",
   "execution_count": 6,
   "id": "d12b9e51",
   "metadata": {},
   "outputs": [],
   "source": [
    "import numpy as np"
   ]
  },
  {
   "cell_type": "code",
   "execution_count": 7,
   "id": "f17bbaac",
   "metadata": {},
   "outputs": [
    {
     "name": "stdout",
     "output_type": "stream",
     "text": [
      "Hello, World!\n"
     ]
    }
   ],
   "source": [
    "print(\"Hello, World!\")"
   ]
  },
  {
   "cell_type": "code",
   "execution_count": 8,
   "id": "43cfbee1",
   "metadata": {},
   "outputs": [],
   "source": [
    "b = [1, 2, 3]\n",
    "b?"
   ]
  },
  {
   "cell_type": "markdown",
   "id": "03d1ca42",
   "metadata": {},
   "source": [
    "使用问号可以把函数的注释里的内容打印出来："
   ]
  },
  {
   "cell_type": "code",
   "execution_count": 9,
   "id": "c514467a",
   "metadata": {},
   "outputs": [],
   "source": [
    "def add_numbers(a, b):\n",
    "    \"\"\"\n",
    "    Add two numbers together\n",
    "    \n",
    "    Returns\n",
    "    -------\n",
    "    the_sum : type of arguments\n",
    "    \"\"\"\n",
    "    return a + b\n",
    "\n",
    "add_numbers?"
   ]
  },
  {
   "cell_type": "markdown",
   "id": "a9aa3456",
   "metadata": {},
   "source": [
    "使用??会显示函数的源码："
   ]
  },
  {
   "cell_type": "code",
   "execution_count": 10,
   "id": "f44708c9",
   "metadata": {},
   "outputs": [],
   "source": [
    "add_numbers??"
   ]
  },
  {
   "cell_type": "markdown",
   "id": "6522507d",
   "metadata": {},
   "source": [
    "?还有一个用途，就是像Unix或Windows命令行一样搜索IPython的命名空间。字符与通配符结合可以匹配所有的名字。例如，我们可以获得所有包含load的顶级NumPy命名空间："
   ]
  },
  {
   "cell_type": "code",
   "execution_count": 14,
   "id": "699f24ac",
   "metadata": {},
   "outputs": [],
   "source": [
    "np.*load*?"
   ]
  },
  {
   "cell_type": "markdown",
   "id": "73da2e3c",
   "metadata": {},
   "source": [
    "### 中断运行的代码\n",
    "代码运行时按Ctrl-C，无论是%run或长时间运行命令，都会导致KeyboardInterrupt。这会导致几乎所有Python程序立即停止，除非一些特殊情况。"
   ]
  },
  {
   "cell_type": "markdown",
   "id": "55df8439",
   "metadata": {},
   "source": [
    "### 魔术命令\n",
    "IPython中特殊的命令（Python中没有）被称作“魔术”命令。这些命令可以使普通任务更便捷，更容易控制IPython系统。魔术命令是在指令前添加百分号%前缀。例如，可以用%timeit（这个命令后面会详谈）测量任何Python语句，例如矩阵乘法，的执行时间："
   ]
  },
  {
   "cell_type": "code",
   "execution_count": 15,
   "id": "4381d5ba",
   "metadata": {},
   "outputs": [
    {
     "name": "stdout",
     "output_type": "stream",
     "text": [
      "19.7 µs ± 362 ns per loop (mean ± std. dev. of 7 runs, 10000 loops each)\n"
     ]
    }
   ],
   "source": [
    "a = np.random.randn(100, 100)\n",
    "\n",
    "%timeit np.dot(a, a)"
   ]
  },
  {
   "cell_type": "code",
   "execution_count": null,
   "id": "89ed374d",
   "metadata": {},
   "outputs": [],
   "source": []
  }
 ],
 "metadata": {
  "kernelspec": {
   "display_name": "Python 3 (ipykernel)",
   "language": "python",
   "name": "python3"
  },
  "language_info": {
   "codemirror_mode": {
    "name": "ipython",
    "version": 3
   },
   "file_extension": ".py",
   "mimetype": "text/x-python",
   "name": "python",
   "nbconvert_exporter": "python",
   "pygments_lexer": "ipython3",
   "version": "3.7.0"
  }
 },
 "nbformat": 4,
 "nbformat_minor": 5
}
