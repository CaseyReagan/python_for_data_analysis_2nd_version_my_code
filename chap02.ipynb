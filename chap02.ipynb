{
 "cells": [
  {
   "cell_type": "code",
   "execution_count": 1,
   "id": "8ae7f8f4",
   "metadata": {},
   "outputs": [],
   "source": [
    "import numpy as np"
   ]
  },
  {
   "cell_type": "code",
   "execution_count": 2,
   "id": "2f3f05ae",
   "metadata": {},
   "outputs": [
    {
     "name": "stdout",
     "output_type": "stream",
     "text": [
      "Hello, World!\n"
     ]
    }
   ],
   "source": [
    "print(\"Hello, World!\")"
   ]
  },
  {
   "cell_type": "code",
   "execution_count": 3,
   "id": "ac68d6ac",
   "metadata": {},
   "outputs": [],
   "source": [
    "b = [1, 2, 3]\n",
    "b?"
   ]
  },
  {
   "cell_type": "markdown",
   "id": "ab412219",
   "metadata": {},
   "source": [
    "使用问号可以把函数的注释里的内容打印出来："
   ]
  },
  {
   "cell_type": "code",
   "execution_count": 4,
   "id": "68cf8a2b",
   "metadata": {},
   "outputs": [],
   "source": [
    "def add_numbers(a, b):\n",
    "    \"\"\"\n",
    "    Add two numbers together\n",
    "    \n",
    "    Returns\n",
    "    -------\n",
    "    the_sum : type of arguments\n",
    "    \"\"\"\n",
    "    return a + b\n",
    "\n",
    "add_numbers?"
   ]
  },
  {
   "cell_type": "markdown",
   "id": "471aa31f",
   "metadata": {},
   "source": [
    "使用??会显示函数的源码："
   ]
  },
  {
   "cell_type": "code",
   "execution_count": 5,
   "id": "240a6ffb",
   "metadata": {},
   "outputs": [],
   "source": [
    "add_numbers??"
   ]
  },
  {
   "cell_type": "markdown",
   "id": "c0b4ef82",
   "metadata": {},
   "source": [
    "?还有一个用途，就是像Unix或Windows命令行一样搜索IPython的命名空间。字符与通配符结合可以匹配所有的名字。例如，我们可以获得所有包含load的顶级NumPy命名空间："
   ]
  },
  {
   "cell_type": "code",
   "execution_count": 6,
   "id": "187fdd37",
   "metadata": {},
   "outputs": [],
   "source": [
    "np.*load*?"
   ]
  },
  {
   "cell_type": "markdown",
   "id": "d801cf3f",
   "metadata": {},
   "source": [
    "### 中断运行的代码\n",
    "代码运行时按Ctrl-C，无论是%run或长时间运行命令，都会导致KeyboardInterrupt。这会导致几乎所有Python程序立即停止，除非一些特殊情况。"
   ]
  },
  {
   "cell_type": "markdown",
   "id": "9a5fcc13",
   "metadata": {},
   "source": [
    "### 魔术命令\n",
    "IPython中特殊的命令（Python中没有）被称作“魔术”命令。这些命令可以使普通任务更便捷，更容易控制IPython系统。魔术命令是在指令前添加百分号%前缀。例如，可以用%timeit（这个命令后面会详谈）测量任何Python语句，例如矩阵乘法，的执行时间："
   ]
  },
  {
   "cell_type": "code",
   "execution_count": 7,
   "id": "26e622c9",
   "metadata": {},
   "outputs": [
    {
     "name": "stdout",
     "output_type": "stream",
     "text": [
      "21.5 µs ± 623 ns per loop (mean ± std. dev. of 7 runs, 10000 loops each)\n"
     ]
    }
   ],
   "source": [
    "a = np.random.randn(100, 100)\n",
    "\n",
    "%timeit np.dot(a, a)"
   ]
  },
  {
   "cell_type": "markdown",
   "id": "835f6f38",
   "metadata": {},
   "source": [
    "魔术命令可以被看做IPython中运行的命令行。许多魔术命令有“命令行”选项，可以通过？查看："
   ]
  },
  {
   "cell_type": "code",
   "execution_count": 9,
   "id": "c9a546a6",
   "metadata": {},
   "outputs": [
    {
     "name": "stderr",
     "output_type": "stream",
     "text": [
      "UsageError: Line magic function `%debug?` not found.\n"
     ]
    }
   ],
   "source": [
    "%debug?     # This is doesn't work"
   ]
  },
  {
   "cell_type": "markdown",
   "id": "4bef91e0",
   "metadata": {},
   "source": [
    "魔术函数默认可以不用百分号，只要没有变量和函数名相同。这个特点被称为“自动魔术”，可以用%automagic打开或关闭。  \n",
    "一些魔术函数与Python函数很像，它的结果可以赋值给一个变量："
   ]
  },
  {
   "cell_type": "code",
   "execution_count": 11,
   "id": "b6c417d7",
   "metadata": {},
   "outputs": [
    {
     "name": "stdout",
     "output_type": "stream",
     "text": [
      "21.8 µs ± 773 ns per loop (mean ± std. dev. of 7 runs, 10000 loops each)\n"
     ]
    }
   ],
   "source": [
    "timeit np.dot(a, a)"
   ]
  },
  {
   "cell_type": "code",
   "execution_count": 12,
   "id": "da983bb3",
   "metadata": {},
   "outputs": [
    {
     "data": {
      "text/plain": [
       "'E:\\\\GitKraken_clones\\\\python_for_data_analysis_2nd_version_my_code'"
      ]
     },
     "execution_count": 12,
     "metadata": {},
     "output_type": "execute_result"
    }
   ],
   "source": [
    "%pwd"
   ]
  },
  {
   "cell_type": "code",
   "execution_count": 13,
   "id": "ca0c64f1",
   "metadata": {},
   "outputs": [
    {
     "data": {
      "text/plain": [
       "'E:\\\\GitKraken_clones\\\\python_for_data_analysis_2nd_version_my_code'"
      ]
     },
     "execution_count": 13,
     "metadata": {},
     "output_type": "execute_result"
    }
   ],
   "source": [
    "foo = %pwd\n",
    "\n",
    "foo"
   ]
  },
  {
   "cell_type": "markdown",
   "id": "057156a6",
   "metadata": {},
   "source": [
    "表2-2列出了一些可以提高生产率的交互计算和Python开发的IPython指令。"
   ]
  },
  {
   "cell_type": "markdown",
   "id": "ee70394b",
   "metadata": {},
   "source": [
    "![jupyter](./magic_command.png)"
   ]
  },
  {
   "cell_type": "code",
   "execution_count": null,
   "id": "4a24c829",
   "metadata": {},
   "outputs": [],
   "source": []
  }
 ],
 "metadata": {
  "kernelspec": {
   "display_name": "Python 3 (ipykernel)",
   "language": "python",
   "name": "python3"
  },
  "language_info": {
   "codemirror_mode": {
    "name": "ipython",
    "version": 3
   },
   "file_extension": ".py",
   "mimetype": "text/x-python",
   "name": "python",
   "nbconvert_exporter": "python",
   "pygments_lexer": "ipython3",
   "version": "3.7.0"
  }
 },
 "nbformat": 4,
 "nbformat_minor": 5
}
