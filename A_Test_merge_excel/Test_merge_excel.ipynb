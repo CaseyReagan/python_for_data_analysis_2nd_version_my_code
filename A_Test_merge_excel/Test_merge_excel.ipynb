{
 "cells": [
  {
   "cell_type": "code",
   "execution_count": 4,
   "id": "5c29fcb6",
   "metadata": {},
   "outputs": [],
   "source": [
    "# -*- coding:utf8 -*-\n",
    "# xlrd模块主要用于读取Excel\n",
    "import xlrd as xl\n",
    "import os\n",
    "import re\n",
    " \n",
    "# 过滤重复的人，并保存到txt文件里"
   ]
  },
  {
   "cell_type": "code",
   "execution_count": 5,
   "id": "20399acd",
   "metadata": {},
   "outputs": [
    {
     "ename": "XLRDError",
     "evalue": "Excel xlsx file; not supported",
     "output_type": "error",
     "traceback": [
      "\u001b[1;31m---------------------------------------------------------------------------\u001b[0m",
      "\u001b[1;31mXLRDError\u001b[0m                                 Traceback (most recent call last)",
      "\u001b[1;32m<ipython-input-5-90f7342f9d61>\u001b[0m in \u001b[0;36m<module>\u001b[1;34m\u001b[0m\n\u001b[0;32m     24\u001b[0m \u001b[1;33m\u001b[0m\u001b[0m\n\u001b[0;32m     25\u001b[0m \u001b[1;32mif\u001b[0m \u001b[0m__name__\u001b[0m \u001b[1;33m==\u001b[0m \u001b[1;34m'__main__'\u001b[0m\u001b[1;33m:\u001b[0m\u001b[1;33m\u001b[0m\u001b[1;33m\u001b[0m\u001b[0m\n\u001b[1;32m---> 26\u001b[1;33m     \u001b[0mreadExcel\u001b[0m\u001b[1;33m(\u001b[0m\u001b[1;34m\"1.xlsx\"\u001b[0m\u001b[1;33m)\u001b[0m\u001b[1;33m\u001b[0m\u001b[1;33m\u001b[0m\u001b[0m\n\u001b[0m",
      "\u001b[1;32m<ipython-input-5-90f7342f9d61>\u001b[0m in \u001b[0;36mreadExcel\u001b[1;34m(fileName, sheetName)\u001b[0m\n\u001b[0;32m      1\u001b[0m \u001b[1;32mdef\u001b[0m \u001b[0mreadExcel\u001b[0m\u001b[1;33m(\u001b[0m\u001b[0mfileName\u001b[0m\u001b[1;33m=\u001b[0m\u001b[1;34m\"\"\u001b[0m\u001b[1;33m,\u001b[0m \u001b[0msheetName\u001b[0m\u001b[1;33m=\u001b[0m\u001b[1;34m\"Sheet1\"\u001b[0m\u001b[1;33m)\u001b[0m\u001b[1;33m:\u001b[0m\u001b[1;33m\u001b[0m\u001b[1;33m\u001b[0m\u001b[0m\n\u001b[0;32m      2\u001b[0m     \u001b[1;31m# 打开fileName表格\u001b[0m\u001b[1;33m\u001b[0m\u001b[1;33m\u001b[0m\u001b[1;33m\u001b[0m\u001b[0m\n\u001b[1;32m----> 3\u001b[1;33m     \u001b[0mxls_file\u001b[0m \u001b[1;33m=\u001b[0m \u001b[0mxl\u001b[0m\u001b[1;33m.\u001b[0m\u001b[0mopen_workbook\u001b[0m\u001b[1;33m(\u001b[0m\u001b[0mfileName\u001b[0m\u001b[1;33m)\u001b[0m  \u001b[1;31m# 打开文件\u001b[0m\u001b[1;33m\u001b[0m\u001b[1;33m\u001b[0m\u001b[0m\n\u001b[0m\u001b[0;32m      4\u001b[0m     \u001b[0mxls_sheet\u001b[0m \u001b[1;33m=\u001b[0m \u001b[0mxls_file\u001b[0m\u001b[1;33m.\u001b[0m\u001b[0msheet_by_name\u001b[0m\u001b[1;33m(\u001b[0m\u001b[0msheetName\u001b[0m\u001b[1;33m)\u001b[0m  \u001b[1;31m# 通过工作簿名称获\u001b[0m\u001b[1;33m\u001b[0m\u001b[1;33m\u001b[0m\u001b[0m\n\u001b[0;32m      5\u001b[0m     \u001b[0mcv0\u001b[0m \u001b[1;33m=\u001b[0m \u001b[0mxls_sheet\u001b[0m\u001b[1;33m.\u001b[0m\u001b[0mcol_values\u001b[0m\u001b[1;33m(\u001b[0m\u001b[1;36m0\u001b[0m\u001b[1;33m)\u001b[0m  \u001b[1;31m# 第一列所有的值\u001b[0m\u001b[1;33m\u001b[0m\u001b[1;33m\u001b[0m\u001b[0m\n",
      "\u001b[1;32mD:\\tools\\anaconda\\lib\\site-packages\\xlrd\\__init__.py\u001b[0m in \u001b[0;36mopen_workbook\u001b[1;34m(filename, logfile, verbosity, use_mmap, file_contents, encoding_override, formatting_info, on_demand, ragged_rows, ignore_workbook_corruption)\u001b[0m\n\u001b[0;32m    168\u001b[0m     \u001b[1;31m# files that xlrd can parse don't start with the expected signature.\u001b[0m\u001b[1;33m\u001b[0m\u001b[1;33m\u001b[0m\u001b[1;33m\u001b[0m\u001b[0m\n\u001b[0;32m    169\u001b[0m     \u001b[1;32mif\u001b[0m \u001b[0mfile_format\u001b[0m \u001b[1;32mand\u001b[0m \u001b[0mfile_format\u001b[0m \u001b[1;33m!=\u001b[0m \u001b[1;34m'xls'\u001b[0m\u001b[1;33m:\u001b[0m\u001b[1;33m\u001b[0m\u001b[1;33m\u001b[0m\u001b[0m\n\u001b[1;32m--> 170\u001b[1;33m         \u001b[1;32mraise\u001b[0m \u001b[0mXLRDError\u001b[0m\u001b[1;33m(\u001b[0m\u001b[0mFILE_FORMAT_DESCRIPTIONS\u001b[0m\u001b[1;33m[\u001b[0m\u001b[0mfile_format\u001b[0m\u001b[1;33m]\u001b[0m\u001b[1;33m+\u001b[0m\u001b[1;34m'; not supported'\u001b[0m\u001b[1;33m)\u001b[0m\u001b[1;33m\u001b[0m\u001b[1;33m\u001b[0m\u001b[0m\n\u001b[0m\u001b[0;32m    171\u001b[0m \u001b[1;33m\u001b[0m\u001b[0m\n\u001b[0;32m    172\u001b[0m     bk = open_workbook_xls(\n",
      "\u001b[1;31mXLRDError\u001b[0m: Excel xlsx file; not supported"
     ]
    }
   ],
   "source": [
    "def readExcel(fileName=\"\", sheetName=\"Sheet1\"):\n",
    "    # 打开fileName表格\n",
    "    xls_file = xl.open_workbook(fileName)  # 打开文件\n",
    "    xls_sheet = xls_file.sheet_by_name(sheetName)  # 通过工作簿名称获\n",
    "    cv0 = xls_sheet.col_values(0)  # 第一列所有的值\n",
    "    cv1 = xls_sheet.col_values(1)  # 第二列所有的值\n",
    "    cv2 = xls_sheet.col_values(2)  # 第三列所有的值\n",
    " \n",
    "    # 打开2.xlsx\n",
    "    xls_file2 = xl.open_workbook(\"2.xlsx\")  # 打开文件\n",
    "    xls_sheet2 = xls_file2.sheet_by_name(sheetName)  # 通过工作簿名称获\n",
    "    sheet2cv0 = xls_sheet2.col_values(0)  # 第一列所有的值\n",
    "    sheet2cv1 = xls_sheet2.col_values(1)  # 第二列所有的值\n",
    " \n",
    "    for index, nameItem in enumerate(cv0):\n",
    "        tmpIndex = sheet2cv0.index(nameItem)\n",
    "        # print(\"tmpIndex=\", tmpIndex)\n",
    "        # “a+” 以”读写”模式打开,追加\n",
    "        with open(\"合并.csv\", \"a+\", encoding=\"utf-8\") as f:\n",
    " \n",
    "            f.writelines(\n",
    "                [nameItem,  \",\", cv1[index], \",\", cv2[index], \",\", sheet2cv1[tmpIndex], \"\\n\"])\n",
    " \n",
    " \n",
    "if __name__ == '__main__':\n",
    "    readExcel(\"1.xlsx\")"
   ]
  },
  {
   "cell_type": "code",
   "execution_count": null,
   "id": "42179f06",
   "metadata": {},
   "outputs": [],
   "source": []
  }
 ],
 "metadata": {
  "kernelspec": {
   "display_name": "Python 3",
   "language": "python",
   "name": "python3"
  },
  "language_info": {
   "codemirror_mode": {
    "name": "ipython",
    "version": 3
   },
   "file_extension": ".py",
   "mimetype": "text/x-python",
   "name": "python",
   "nbconvert_exporter": "python",
   "pygments_lexer": "ipython3",
   "version": "3.8.8"
  }
 },
 "nbformat": 4,
 "nbformat_minor": 5
}
