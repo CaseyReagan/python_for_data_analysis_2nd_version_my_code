{
 "cells": [
  {
   "cell_type": "markdown",
   "id": "73190590",
   "metadata": {},
   "source": [
    "本章讨论Python的内置功能，我们会从Python最基础的数据结构开始：元组、列表、字典和集合。然后会讨论创建你自己的、可重复使用的Python函数。最后，会学习Python的文件对象，以及如何与本地硬盘交互。"
   ]
  },
  {
   "cell_type": "markdown",
   "id": "a1035715",
   "metadata": {},
   "source": [
    "# 3.1 数据结构和序列"
   ]
  },
  {
   "cell_type": "markdown",
   "id": "59a1e5b2",
   "metadata": {},
   "source": [
    "## 元组"
   ]
  },
  {
   "cell_type": "markdown",
   "id": "4b738419",
   "metadata": {},
   "source": [
    "元组是一个固定长度，不可改变的Python序列对象。创建元组的最简单方式，是用逗号分隔一列值："
   ]
  },
  {
   "cell_type": "code",
   "execution_count": 3,
   "id": "61a28873",
   "metadata": {},
   "outputs": [
    {
     "data": {
      "text/plain": [
       "(4, 5, 6)"
      ]
     },
     "execution_count": 3,
     "metadata": {},
     "output_type": "execute_result"
    }
   ],
   "source": [
    "tup = (4, 5, 6)\n",
    "tup"
   ]
  },
  {
   "cell_type": "code",
   "execution_count": 5,
   "id": "61f02e4f",
   "metadata": {},
   "outputs": [
    {
     "data": {
      "text/plain": [
       "((4, 5, 6), (7, 8))"
      ]
     },
     "execution_count": 5,
     "metadata": {},
     "output_type": "execute_result"
    }
   ],
   "source": [
    "nested_tup = ((4, 5, 6),(7, 8))\n",
    "nested_tup"
   ]
  },
  {
   "cell_type": "markdown",
   "id": "cdbdd13d",
   "metadata": {},
   "source": [
    "用tuple可以将任意序列或迭代器转换成元组："
   ]
  },
  {
   "cell_type": "code",
   "execution_count": 6,
   "id": "5ce0fd0e",
   "metadata": {},
   "outputs": [
    {
     "data": {
      "text/plain": [
       "(4, 0, 2)"
      ]
     },
     "execution_count": 6,
     "metadata": {},
     "output_type": "execute_result"
    }
   ],
   "source": [
    "tuple([4, 0, 2])"
   ]
  },
  {
   "cell_type": "code",
   "execution_count": 8,
   "id": "798cbbd0",
   "metadata": {},
   "outputs": [
    {
     "data": {
      "text/plain": [
       "('s', 't', 'r', 'i', 'n', 'g')"
      ]
     },
     "execution_count": 8,
     "metadata": {},
     "output_type": "execute_result"
    }
   ],
   "source": [
    "tup = tuple('string')\n",
    "tup"
   ]
  },
  {
   "cell_type": "markdown",
   "id": "51387d2c",
   "metadata": {},
   "source": [
    "可以用方括号访问元组中的元素。和C、C++、JAVA等语言一样，序列是从0开始的："
   ]
  },
  {
   "cell_type": "code",
   "execution_count": 9,
   "id": "46ecd817",
   "metadata": {},
   "outputs": [
    {
     "data": {
      "text/plain": [
       "'t'"
      ]
     },
     "execution_count": 9,
     "metadata": {},
     "output_type": "execute_result"
    }
   ],
   "source": [
    "tup[1]"
   ]
  },
  {
   "cell_type": "markdown",
   "id": "55cb5c24",
   "metadata": {},
   "source": [
    "一旦创建了元组，元组中的对象就不能修改了."
   ]
  },
  {
   "cell_type": "code",
   "execution_count": 10,
   "id": "082c8bcc",
   "metadata": {},
   "outputs": [
    {
     "data": {
      "text/plain": [
       "('foo', [1, 2, 3], True)"
      ]
     },
     "execution_count": 10,
     "metadata": {},
     "output_type": "execute_result"
    }
   ],
   "source": [
    "tup = tuple(['foo', [1, 2], True])\n",
    "\n",
    "tup[1].append(3)\n",
    "\n",
    "tup"
   ]
  },
  {
   "cell_type": "markdown",
   "id": "2613d1e3",
   "metadata": {},
   "source": [
    "可以用加号运算符将元组串联起来："
   ]
  },
  {
   "cell_type": "code",
   "execution_count": 11,
   "id": "dc167ef0",
   "metadata": {},
   "outputs": [
    {
     "data": {
      "text/plain": [
       "(4, None, 'foo', 6, 0, 'bar')"
      ]
     },
     "execution_count": 11,
     "metadata": {},
     "output_type": "execute_result"
    }
   ],
   "source": [
    "(4, None, 'foo') + (6, 0) + ('bar',)"
   ]
  },
  {
   "cell_type": "markdown",
   "id": "bb3ca220",
   "metadata": {},
   "source": [
    "元组乘以一个整数，像列表一样，会将几个元组的复制串联起来："
   ]
  },
  {
   "cell_type": "code",
   "execution_count": 12,
   "id": "6ccce355",
   "metadata": {},
   "outputs": [
    {
     "data": {
      "text/plain": [
       "('foo', 'bar', 'foo', 'bar', 'foo', 'bar', 'foo', 'bar')"
      ]
     },
     "execution_count": 12,
     "metadata": {},
     "output_type": "execute_result"
    }
   ],
   "source": [
    "('foo', 'bar') * 4"
   ]
  },
  {
   "cell_type": "markdown",
   "id": "e08c56de",
   "metadata": {},
   "source": [
    "### 拆分元组\n",
    "如果你想将元组赋值给类似元组的变量，Python会试图拆分等号右边的值："
   ]
  },
  {
   "cell_type": "code",
   "execution_count": 13,
   "id": "b78b3b6c",
   "metadata": {},
   "outputs": [
    {
     "data": {
      "text/plain": [
       "5"
      ]
     },
     "execution_count": 13,
     "metadata": {},
     "output_type": "execute_result"
    }
   ],
   "source": [
    "tup = (4, 5, 6)\n",
    "a, b, c = tup\n",
    "b"
   ]
  },
  {
   "cell_type": "markdown",
   "id": "f245fcf1",
   "metadata": {},
   "source": [
    "即使含有元组的元组也会被拆分："
   ]
  },
  {
   "cell_type": "code",
   "execution_count": 15,
   "id": "1408d2ad",
   "metadata": {},
   "outputs": [
    {
     "data": {
      "text/plain": [
       "7"
      ]
     },
     "execution_count": 15,
     "metadata": {},
     "output_type": "execute_result"
    }
   ],
   "source": [
    "tup = (4, 5, (6, 7))\n",
    "a, b, (c, d) = tup\n",
    "\n",
    "d"
   ]
  },
  {
   "cell_type": "markdown",
   "id": "0d6c345c",
   "metadata": {},
   "source": [
    "使用这个功能，你可以很容易地替换变量的名字，其它语言可能是这样："
   ]
  },
  {
   "cell_type": "code",
   "execution_count": null,
   "id": "165567a9",
   "metadata": {},
   "outputs": [],
   "source": [
    "tmp = a\n",
    "a = b\n",
    "b = tmp"
   ]
  },
  {
   "cell_type": "markdown",
   "id": "4cfe8d32",
   "metadata": {},
   "source": [
    "但是在Python中，替换可以这样做："
   ]
  },
  {
   "cell_type": "code",
   "execution_count": 17,
   "id": "ca4692fd",
   "metadata": {},
   "outputs": [
    {
     "data": {
      "text/plain": [
       "2"
      ]
     },
     "execution_count": 17,
     "metadata": {},
     "output_type": "execute_result"
    }
   ],
   "source": [
    "a, b = 1, 2\n",
    "b, a = a, b\n",
    "a"
   ]
  },
  {
   "cell_type": "markdown",
   "id": "1ba70499",
   "metadata": {},
   "source": [
    "变量拆分常用来迭代元组或列表序列："
   ]
  },
  {
   "cell_type": "code",
   "execution_count": 18,
   "id": "0a198bb7",
   "metadata": {},
   "outputs": [
    {
     "name": "stdout",
     "output_type": "stream",
     "text": [
      "a=1, b=2, c=3\n",
      "a=4, b=5, c=6\n",
      "a=7, b=8, c=9\n"
     ]
    }
   ],
   "source": [
    "seq = [(1, 2, 3), (4, 5, 6), (7, 8, 9)]\n",
    "for a, b, c in seq:\n",
    "    print('a={0}, b={1}, c={2}'.format(a, b, c))"
   ]
  },
  {
   "cell_type": "markdown",
   "id": "02b2f811",
   "metadata": {},
   "source": [
    "Python最近新增了更多高级的元组拆分功能，允许从元组的开头“摘取”几个元素。它使用了特殊的语法*rest，这也用在函数签名中以抓取任意长度列表的位置参数："
   ]
  },
  {
   "cell_type": "code",
   "execution_count": 19,
   "id": "7315e1da",
   "metadata": {},
   "outputs": [
    {
     "data": {
      "text/plain": [
       "1"
      ]
     },
     "execution_count": 19,
     "metadata": {},
     "output_type": "execute_result"
    }
   ],
   "source": [
    "values = (1, 2, 3, 4, 5)\n",
    "\n",
    "a, b, *rest = values\n",
    "\n",
    "a"
   ]
  },
  {
   "cell_type": "code",
   "execution_count": 20,
   "id": "ae32ca6e",
   "metadata": {},
   "outputs": [
    {
     "data": {
      "text/plain": [
       "(1, 2)"
      ]
     },
     "execution_count": 20,
     "metadata": {},
     "output_type": "execute_result"
    }
   ],
   "source": [
    "a,b"
   ]
  },
  {
   "cell_type": "code",
   "execution_count": 21,
   "id": "4d8b5de1",
   "metadata": {},
   "outputs": [
    {
     "data": {
      "text/plain": [
       "[3, 4, 5]"
      ]
     },
     "execution_count": 21,
     "metadata": {},
     "output_type": "execute_result"
    }
   ],
   "source": [
    "rest"
   ]
  },
  {
   "cell_type": "markdown",
   "id": "df447b6d",
   "metadata": {},
   "source": [
    "rest的部分是想要舍弃的部分，rest的名字不重要。作为惯用写法，许多Python程序员会将不需要的变量使用下划线："
   ]
  },
  {
   "cell_type": "code",
   "execution_count": 25,
   "id": "0f3fd7f7",
   "metadata": {},
   "outputs": [
    {
     "data": {
      "text/plain": [
       "(1, 2)"
      ]
     },
     "execution_count": 25,
     "metadata": {},
     "output_type": "execute_result"
    }
   ],
   "source": [
    "a, b, *_ = values\n",
    "a,b"
   ]
  },
  {
   "cell_type": "markdown",
   "id": "6fe177f5",
   "metadata": {},
   "source": [
    "### tuple方法\n",
    "因为元组的大小和内容不能修改，它的实例方法都很轻量。其中一个很有用的就是count（也适用于列表），它可以统计某个值得出现频率："
   ]
  },
  {
   "cell_type": "code",
   "execution_count": 26,
   "id": "19d9e5ef",
   "metadata": {},
   "outputs": [
    {
     "data": {
      "text/plain": [
       "4"
      ]
     },
     "execution_count": 26,
     "metadata": {},
     "output_type": "execute_result"
    }
   ],
   "source": [
    "a = (1, 2, 2, 2, 3, 4, 2)\n",
    "\n",
    "a.count(2)"
   ]
  },
  {
   "cell_type": "markdown",
   "id": "c84a84da",
   "metadata": {},
   "source": [
    "## 列表\n",
    "与元组对比，列表的长度可变、内容可以被修改。你可以用方括号定义，或用list函数："
   ]
  },
  {
   "cell_type": "code",
   "execution_count": 27,
   "id": "598ae2b4",
   "metadata": {},
   "outputs": [
    {
     "data": {
      "text/plain": [
       "['foo', 'bar', 'baz']"
      ]
     },
     "execution_count": 27,
     "metadata": {},
     "output_type": "execute_result"
    }
   ],
   "source": [
    "a_list = [2, 3, 7, None]\n",
    "\n",
    "tup = ('foo', 'bar', 'baz')\n",
    "\n",
    "b_list = list(tup)\n",
    "\n",
    "b_list"
   ]
  },
  {
   "cell_type": "code",
   "execution_count": 28,
   "id": "c2710756",
   "metadata": {},
   "outputs": [
    {
     "data": {
      "text/plain": [
       "['foo', 'peekaboo', 'baz']"
      ]
     },
     "execution_count": 28,
     "metadata": {},
     "output_type": "execute_result"
    }
   ],
   "source": [
    "b_list[1] = 'peekaboo'\n",
    "\n",
    "b_list"
   ]
  },
  {
   "cell_type": "markdown",
   "id": "b283b2cc",
   "metadata": {},
   "source": [
    "list函数常用来在数据处理中实体化迭代器或生成器："
   ]
  },
  {
   "cell_type": "code",
   "execution_count": 29,
   "id": "8377b855",
   "metadata": {},
   "outputs": [
    {
     "data": {
      "text/plain": [
       "[0, 1, 2, 3, 4, 5, 6, 7, 8, 9]"
      ]
     },
     "execution_count": 29,
     "metadata": {},
     "output_type": "execute_result"
    }
   ],
   "source": [
    "gen = range(10)\n",
    "\n",
    "list(gen)"
   ]
  },
  {
   "cell_type": "markdown",
   "id": "d485b1e0",
   "metadata": {},
   "source": [
    "### 添加和删除元素\n",
    "可以用append在列表末尾添加元素："
   ]
  },
  {
   "cell_type": "code",
   "execution_count": 30,
   "id": "d267b683",
   "metadata": {},
   "outputs": [
    {
     "data": {
      "text/plain": [
       "['foo', 'peekaboo', 'baz', 'dwarf']"
      ]
     },
     "execution_count": 30,
     "metadata": {},
     "output_type": "execute_result"
    }
   ],
   "source": [
    "b_list.append('dwarf')\n",
    "\n",
    "b_list"
   ]
  },
  {
   "cell_type": "markdown",
   "id": "27fb93bd",
   "metadata": {},
   "source": [
    "insert可以在特定的位置插入元素："
   ]
  },
  {
   "cell_type": "code",
   "execution_count": 31,
   "id": "dcfdb5f1",
   "metadata": {},
   "outputs": [
    {
     "data": {
      "text/plain": [
       "['foo', 'red', 'peekaboo', 'baz', 'dwarf']"
      ]
     },
     "execution_count": 31,
     "metadata": {},
     "output_type": "execute_result"
    }
   ],
   "source": [
    "b_list.insert(1, 'red')\n",
    "\n",
    "b_list"
   ]
  },
  {
   "cell_type": "markdown",
   "id": "def45903",
   "metadata": {},
   "source": [
    ">警告：与append相比，insert耗费的计算量大，因为对后续元素的引用必须在内部迁移，以便为新元素提供空间。如果要在序列的头部和尾部插入元素，你可能需要使用collections.deque，一个双尾部队列。"
   ]
  },
  {
   "cell_type": "markdown",
   "id": "bc85e057",
   "metadata": {},
   "source": [
    "insert的逆运算是pop，它移除并返回指定位置的元素："
   ]
  },
  {
   "cell_type": "code",
   "execution_count": 32,
   "id": "fcff1dd6",
   "metadata": {},
   "outputs": [
    {
     "data": {
      "text/plain": [
       "'peekaboo'"
      ]
     },
     "execution_count": 32,
     "metadata": {},
     "output_type": "execute_result"
    }
   ],
   "source": [
    "b_list.pop(2)"
   ]
  },
  {
   "cell_type": "code",
   "execution_count": 33,
   "id": "567f0125",
   "metadata": {},
   "outputs": [
    {
     "data": {
      "text/plain": [
       "['foo', 'red', 'baz', 'dwarf']"
      ]
     },
     "execution_count": 33,
     "metadata": {},
     "output_type": "execute_result"
    }
   ],
   "source": [
    "b_list"
   ]
  },
  {
   "cell_type": "markdown",
   "id": "c79a4ecf",
   "metadata": {},
   "source": [
    "可以用remove去除某个值，remove会先寻找第一个值并除去："
   ]
  },
  {
   "cell_type": "code",
   "execution_count": 34,
   "id": "85bf41de",
   "metadata": {},
   "outputs": [
    {
     "data": {
      "text/plain": [
       "['foo', 'red', 'baz', 'dwarf', 'foo']"
      ]
     },
     "execution_count": 34,
     "metadata": {},
     "output_type": "execute_result"
    }
   ],
   "source": [
    "b_list.append('foo')\n",
    "\n",
    "b_list"
   ]
  },
  {
   "cell_type": "code",
   "execution_count": 35,
   "id": "1d80f33a",
   "metadata": {},
   "outputs": [
    {
     "data": {
      "text/plain": [
       "['red', 'baz', 'dwarf', 'foo']"
      ]
     },
     "execution_count": 35,
     "metadata": {},
     "output_type": "execute_result"
    }
   ],
   "source": [
    "b_list.remove('foo')\n",
    "\n",
    "b_list"
   ]
  },
  {
   "cell_type": "markdown",
   "id": "f44ed2ff",
   "metadata": {},
   "source": [
    "用in可以检查列表是否包含某个值："
   ]
  },
  {
   "cell_type": "code",
   "execution_count": 36,
   "id": "e65eb28c",
   "metadata": {},
   "outputs": [
    {
     "data": {
      "text/plain": [
       "True"
      ]
     },
     "execution_count": 36,
     "metadata": {},
     "output_type": "execute_result"
    }
   ],
   "source": [
    "'dwarf' in b_list"
   ]
  },
  {
   "cell_type": "markdown",
   "id": "3a231f4d",
   "metadata": {},
   "source": [
    "否定in可以再加一个not："
   ]
  },
  {
   "cell_type": "code",
   "execution_count": 37,
   "id": "e369fa8e",
   "metadata": {},
   "outputs": [
    {
     "data": {
      "text/plain": [
       "False"
      ]
     },
     "execution_count": 37,
     "metadata": {},
     "output_type": "execute_result"
    }
   ],
   "source": [
    "'dwarf' not in b_list"
   ]
  },
  {
   "cell_type": "markdown",
   "id": "65ab5faa",
   "metadata": {},
   "source": [
    "### 串联和组合列表\n",
    "与元组类似，可以用加号将两个列表串联起来："
   ]
  },
  {
   "cell_type": "code",
   "execution_count": 38,
   "id": "36119bd8",
   "metadata": {},
   "outputs": [
    {
     "data": {
      "text/plain": [
       "[4, None, 'foo', 7, 8, (2, 3)]"
      ]
     },
     "execution_count": 38,
     "metadata": {},
     "output_type": "execute_result"
    }
   ],
   "source": [
    "[4, None, 'foo'] + [7, 8, (2, 3)]"
   ]
  },
  {
   "cell_type": "markdown",
   "id": "d7d8d1a7",
   "metadata": {},
   "source": [
    "如果已经定义了一个列表，用extend方法可以追加多个元素："
   ]
  },
  {
   "cell_type": "code",
   "execution_count": 39,
   "id": "f9e40194",
   "metadata": {},
   "outputs": [
    {
     "data": {
      "text/plain": [
       "[4, None, 'foo', 7, 8, (2, 3)]"
      ]
     },
     "execution_count": 39,
     "metadata": {},
     "output_type": "execute_result"
    }
   ],
   "source": [
    "x = [4, None, 'foo']\n",
    "\n",
    "x.extend([7, 8, (2,3)])\n",
    "\n",
    "x"
   ]
  },
  {
   "cell_type": "markdown",
   "id": "19737206",
   "metadata": {},
   "source": [
    "通过加法将列表串联的计算量较大，因为要新建一个列表，并且要复制对象。用extend追加元素，尤其是到一个大列表中，更为可取。因此："
   ]
  },
  {
   "cell_type": "code",
   "execution_count": null,
   "id": "f5310862",
   "metadata": {},
   "outputs": [],
   "source": [
    "everything = []\n",
    "for chunk in list_of_lists:\n",
    "    everything.extend(chunk)"
   ]
  },
  {
   "cell_type": "markdown",
   "id": "ad367c3d",
   "metadata": {},
   "source": [
    "要比串联方法快："
   ]
  },
  {
   "cell_type": "code",
   "execution_count": null,
   "id": "c21c20f8",
   "metadata": {},
   "outputs": [],
   "source": [
    "everything = []\n",
    "for chunk in list_of_lists:\n",
    "    everything = everything + chunk"
   ]
  },
  {
   "cell_type": "markdown",
   "id": "2d1b2281",
   "metadata": {},
   "source": [
    "### 排序\n",
    "你可以用sort函数将一个列表原地排序（不创建新的对象）："
   ]
  },
  {
   "cell_type": "code",
   "execution_count": 41,
   "id": "e266ad34",
   "metadata": {},
   "outputs": [
    {
     "data": {
      "text/plain": [
       "[1, 2, 3, 5, 7]"
      ]
     },
     "execution_count": 41,
     "metadata": {},
     "output_type": "execute_result"
    }
   ],
   "source": [
    "a = [7, 2, 5, 1, 3]\n",
    "\n",
    "a.sort()\n",
    "\n",
    "a"
   ]
  },
  {
   "cell_type": "markdown",
   "id": "00f0999e",
   "metadata": {},
   "source": [
    "sort有一些选项，有时会很好用。其中之一是二级排序key，可以用这个key进行排序。例如，我们可以按长度对字符串进行排序："
   ]
  },
  {
   "cell_type": "code",
   "execution_count": 42,
   "id": "e63d1a6c",
   "metadata": {},
   "outputs": [
    {
     "data": {
      "text/plain": [
       "['He', 'saw', 'six', 'small', 'foxes']"
      ]
     },
     "execution_count": 42,
     "metadata": {},
     "output_type": "execute_result"
    }
   ],
   "source": [
    "b = ['saw', 'small', 'He', 'foxes', 'six']\n",
    "\n",
    "b.sort(key=len)\n",
    "\n",
    "b"
   ]
  },
  {
   "cell_type": "markdown",
   "id": "aaf424fc",
   "metadata": {},
   "source": [
    "### 二分搜索和维护已排序的列表\n",
    "bisect模块支持二分查找，和向已排序的列表插入值。bisect.bisect可以找到插入值后仍保证排序的位置，bisect.insort是向这个位置插入值："
   ]
  },
  {
   "cell_type": "code",
   "execution_count": 44,
   "id": "3986452e",
   "metadata": {},
   "outputs": [
    {
     "data": {
      "text/plain": [
       "4"
      ]
     },
     "execution_count": 44,
     "metadata": {},
     "output_type": "execute_result"
    }
   ],
   "source": [
    "import bisect\n",
    "\n",
    "c = [1, 2, 2, 2, 3, 4, 7]\n",
    "\n",
    "bisect.bisect(c,2)"
   ]
  },
  {
   "cell_type": "code",
   "execution_count": 45,
   "id": "e99b92ae",
   "metadata": {},
   "outputs": [
    {
     "data": {
      "text/plain": [
       "[1, 2, 2, 2, 3, 4, 7]"
      ]
     },
     "execution_count": 45,
     "metadata": {},
     "output_type": "execute_result"
    }
   ],
   "source": [
    "c"
   ]
  },
  {
   "cell_type": "code",
   "execution_count": 46,
   "id": "0fd35341",
   "metadata": {},
   "outputs": [
    {
     "data": {
      "text/plain": [
       "6"
      ]
     },
     "execution_count": 46,
     "metadata": {},
     "output_type": "execute_result"
    }
   ],
   "source": [
    "bisect.bisect(c,5)"
   ]
  },
  {
   "cell_type": "code",
   "execution_count": 48,
   "id": "c614d955",
   "metadata": {},
   "outputs": [
    {
     "data": {
      "text/plain": [
       "[1, 2, 2, 2, 3, 4, 6, 6, 7]"
      ]
     },
     "execution_count": 48,
     "metadata": {},
     "output_type": "execute_result"
    }
   ],
   "source": [
    "bisect.insort(c,6)\n",
    "\n",
    "c"
   ]
  },
  {
   "cell_type": "markdown",
   "id": "d5c67775",
   "metadata": {},
   "source": [
    ">注意：bisect模块不会检查列表是否已排好序，进行检查的话会耗费大量计算。因此，对未排序的列表使用bisect不会产生错误，但结果不一定正确。"
   ]
  },
  {
   "cell_type": "markdown",
   "id": "99a3bb7f",
   "metadata": {},
   "source": [
    "### 切片\n",
    "用切片可以选取大多数序列类型的一部分，切片的基本形式是在方括号中使用start:stop"
   ]
  },
  {
   "cell_type": "code",
   "execution_count": 49,
   "id": "871457f4",
   "metadata": {},
   "outputs": [
    {
     "data": {
      "text/plain": [
       "[2, 3, 7, 5]"
      ]
     },
     "execution_count": 49,
     "metadata": {},
     "output_type": "execute_result"
    }
   ],
   "source": [
    "seq = [7, 2, 3, 7, 5, 6, 0, 1]\n",
    "\n",
    "seq[1:5]"
   ]
  },
  {
   "cell_type": "markdown",
   "id": "ce886f59",
   "metadata": {},
   "source": [
    "切片也可以被序列赋值："
   ]
  },
  {
   "cell_type": "code",
   "execution_count": 50,
   "id": "4f83d598",
   "metadata": {},
   "outputs": [
    {
     "data": {
      "text/plain": [
       "[7, 2, 3, 6, 3, 5, 6, 0, 1]"
      ]
     },
     "execution_count": 50,
     "metadata": {},
     "output_type": "execute_result"
    }
   ],
   "source": [
    "seq[3:4] = [6, 3]\n",
    "\n",
    "seq"
   ]
  },
  {
   "cell_type": "markdown",
   "id": "2c4f7858",
   "metadata": {},
   "source": [
    "切片的起始元素是包括的，不包含结束元素。"
   ]
  },
  {
   "cell_type": "code",
   "execution_count": 51,
   "id": "7a2a6469",
   "metadata": {},
   "outputs": [
    {
     "data": {
      "text/plain": [
       "[7, 2, 3, 6, 3]"
      ]
     },
     "execution_count": 51,
     "metadata": {},
     "output_type": "execute_result"
    }
   ],
   "source": [
    "seq[:5]"
   ]
  },
  {
   "cell_type": "code",
   "execution_count": 52,
   "id": "126a773d",
   "metadata": {},
   "outputs": [
    {
     "data": {
      "text/plain": [
       "[6, 3, 5, 6, 0, 1]"
      ]
     },
     "execution_count": 52,
     "metadata": {},
     "output_type": "execute_result"
    }
   ],
   "source": [
    "seq[3:]"
   ]
  },
  {
   "cell_type": "markdown",
   "id": "7110d323",
   "metadata": {},
   "source": [
    "负数表明从后向前切片："
   ]
  },
  {
   "cell_type": "code",
   "execution_count": 53,
   "id": "6976f7cc",
   "metadata": {},
   "outputs": [
    {
     "data": {
      "text/plain": [
       "[5, 6, 0, 1]"
      ]
     },
     "execution_count": 53,
     "metadata": {},
     "output_type": "execute_result"
    }
   ],
   "source": [
    "seq[-4:]"
   ]
  },
  {
   "cell_type": "code",
   "execution_count": 54,
   "id": "ad2845e1",
   "metadata": {},
   "outputs": [
    {
     "data": {
      "text/plain": [
       "[6, 3, 5, 6]"
      ]
     },
     "execution_count": 54,
     "metadata": {},
     "output_type": "execute_result"
    }
   ],
   "source": [
    "seq[-6:-2]"
   ]
  },
  {
   "cell_type": "markdown",
   "id": "8684dd02",
   "metadata": {},
   "source": [
    "在第二个冒号后面使用step，可以隔一个取一个元素："
   ]
  },
  {
   "cell_type": "markdown",
   "id": "844aee72",
   "metadata": {},
   "source": [
    "一个聪明的方法是使用-1，它可以将列表或元组颠倒过来："
   ]
  },
  {
   "cell_type": "code",
   "execution_count": 56,
   "id": "f36b6408",
   "metadata": {},
   "outputs": [
    {
     "data": {
      "text/plain": [
       "[1, 0, 6, 5, 3, 6, 3, 2, 7]"
      ]
     },
     "execution_count": 56,
     "metadata": {},
     "output_type": "execute_result"
    }
   ],
   "source": [
    "seq[::-1]"
   ]
  },
  {
   "cell_type": "markdown",
   "id": "546eea4a",
   "metadata": {},
   "source": [
    "### 序列函数\n",
    "Python有一些有用的序列函数。\n",
    "### enumerate函数\n",
    "迭代一个序列时，你可能想跟踪当前项的序号。Python内建了一个enumerate函数，可以返回(i, value)元组序列："
   ]
  },
  {
   "cell_type": "code",
   "execution_count": null,
   "id": "e1ee447a",
   "metadata": {},
   "outputs": [],
   "source": [
    "for i, value in enumerate(collection):\n",
    "   # do something with value"
   ]
  },
  {
   "cell_type": "code",
   "execution_count": 1,
   "id": "23dd207e",
   "metadata": {},
   "outputs": [
    {
     "data": {
      "text/plain": [
       "{'bar': 0, 'foo': 1, 'baz': 2}"
      ]
     },
     "execution_count": 1,
     "metadata": {},
     "output_type": "execute_result"
    }
   ],
   "source": [
    "some_list = {'foo', 'bar', 'baz'}\n",
    "\n",
    "mapping = {}\n",
    "\n",
    "for i,v in enumerate(some_list):\n",
    "    mapping[v] = i\n",
    "    \n",
    "mapping"
   ]
  },
  {
   "cell_type": "markdown",
   "id": "d1bafc11",
   "metadata": {},
   "source": [
    "### sorted函数\n",
    "sorted函数可以从任意序列的元素返回一个新的排好序的列表：  \n",
    "与sort函数的区别在于，sorted是返回一个新的列表，sort是原列表。"
   ]
  },
  {
   "cell_type": "code",
   "execution_count": 2,
   "id": "bb30e5be",
   "metadata": {},
   "outputs": [
    {
     "data": {
      "text/plain": [
       "[0, 1, 2, 2, 3, 5, 7]"
      ]
     },
     "execution_count": 2,
     "metadata": {},
     "output_type": "execute_result"
    }
   ],
   "source": [
    "sorted([7 , 1, 2, 5, 0, 3, 2])"
   ]
  },
  {
   "cell_type": "code",
   "execution_count": 3,
   "id": "c8183d21",
   "metadata": {},
   "outputs": [
    {
     "data": {
      "text/plain": [
       "[' ', 'a', 'c', 'e', 'e', 'h', 'o', 'r', 'r', 's']"
      ]
     },
     "execution_count": 3,
     "metadata": {},
     "output_type": "execute_result"
    }
   ],
   "source": [
    "sorted('horse race')"
   ]
  },
  {
   "cell_type": "markdown",
   "id": "881fb9a6",
   "metadata": {},
   "source": [
    "sorted函数可以接受和sort相同的参数。"
   ]
  },
  {
   "cell_type": "markdown",
   "id": "2515c738",
   "metadata": {},
   "source": [
    "### zip函数\n",
    "zip可以将多个列表、元组或其它序列成对组合成一个元组列表."
   ]
  },
  {
   "cell_type": "code",
   "execution_count": 4,
   "id": "dbe2d07a",
   "metadata": {},
   "outputs": [
    {
     "data": {
      "text/plain": [
       "[('foo', 'one'), ('bar', 'two'), ('baz', 'three')]"
      ]
     },
     "execution_count": 4,
     "metadata": {},
     "output_type": "execute_result"
    }
   ],
   "source": [
    "seq1 = ['foo', 'bar', 'baz']\n",
    "seq2 = ['one', 'two', 'three']\n",
    "\n",
    "zipped = zip(seq1, seq2)\n",
    "\n",
    "list(zipped)"
   ]
  },
  {
   "cell_type": "markdown",
   "id": "e81dfe75",
   "metadata": {},
   "source": [
    "zip可以处理任意多的序列，元素的个数取决于最短的序列："
   ]
  },
  {
   "cell_type": "code",
   "execution_count": 5,
   "id": "263c21a2",
   "metadata": {},
   "outputs": [
    {
     "data": {
      "text/plain": [
       "[('foo', 'one', False), ('bar', 'two', True)]"
      ]
     },
     "execution_count": 5,
     "metadata": {},
     "output_type": "execute_result"
    }
   ],
   "source": [
    "seq3 = [False, True]\n",
    "\n",
    "list(zip(seq1, seq2, seq3))"
   ]
  },
  {
   "cell_type": "markdown",
   "id": "59030af6",
   "metadata": {},
   "source": [
    "zip的常见用法之一是同时迭代多个序列，可能结合enumerate使用."
   ]
  },
  {
   "cell_type": "code",
   "execution_count": 6,
   "id": "a15773ee",
   "metadata": {},
   "outputs": [
    {
     "name": "stdout",
     "output_type": "stream",
     "text": [
      "0:foo,one\n",
      "1:bar,two\n",
      "2:baz,three\n"
     ]
    }
   ],
   "source": [
    "for i,(a, b) in enumerate(zip(seq1, seq2)):\n",
    "    print('{0}:{1},{2}'.format(i, a, b))"
   ]
  },
  {
   "cell_type": "markdown",
   "id": "9da182df",
   "metadata": {},
   "source": [
    "给出一个“被压缩的”序列，zip可以被用来解压序列。也可以当作把行的列表转换为列的列表。"
   ]
  },
  {
   "cell_type": "code",
   "execution_count": 7,
   "id": "cdc04667",
   "metadata": {},
   "outputs": [
    {
     "data": {
      "text/plain": [
       "('Nolan', 'Roger', 'Schilling')"
      ]
     },
     "execution_count": 7,
     "metadata": {},
     "output_type": "execute_result"
    }
   ],
   "source": [
    "pitchers = [('Nolan', 'Ryan'), ('Roger', 'Clemens'),('Schilling', 'Curt')]\n",
    "\n",
    "first_names, last_names = zip(*pitchers)\n",
    "\n",
    "first_names"
   ]
  },
  {
   "cell_type": "code",
   "execution_count": 8,
   "id": "efc7584f",
   "metadata": {},
   "outputs": [
    {
     "data": {
      "text/plain": [
       "('Ryan', 'Clemens', 'Curt')"
      ]
     },
     "execution_count": 8,
     "metadata": {},
     "output_type": "execute_result"
    }
   ],
   "source": [
    "last_names"
   ]
  },
  {
   "cell_type": "markdown",
   "id": "f4b1dcf3",
   "metadata": {},
   "source": [
    "### reversed函数\n",
    "reversed可以从后向前迭代一个序列."
   ]
  },
  {
   "cell_type": "code",
   "execution_count": 10,
   "id": "a18f76c5",
   "metadata": {},
   "outputs": [
    {
     "data": {
      "text/plain": [
       "[9, 8, 7, 6, 5, 4, 3, 2, 1, 0]"
      ]
     },
     "execution_count": 10,
     "metadata": {},
     "output_type": "execute_result"
    }
   ],
   "source": [
    "list(reversed(range(10)))"
   ]
  },
  {
   "cell_type": "code",
   "execution_count": null,
   "id": "4da8440a",
   "metadata": {},
   "outputs": [],
   "source": []
  }
 ],
 "metadata": {
  "kernelspec": {
   "display_name": "Python 3",
   "language": "python",
   "name": "python3"
  },
  "language_info": {
   "codemirror_mode": {
    "name": "ipython",
    "version": 3
   },
   "file_extension": ".py",
   "mimetype": "text/x-python",
   "name": "python",
   "nbconvert_exporter": "python",
   "pygments_lexer": "ipython3",
   "version": "3.8.8"
  }
 },
 "nbformat": 4,
 "nbformat_minor": 5
}
