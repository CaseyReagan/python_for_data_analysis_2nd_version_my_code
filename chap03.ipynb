{
 "cells": [
  {
   "cell_type": "markdown",
   "id": "73190590",
   "metadata": {},
   "source": [
    "本章讨论Python的内置功能，我们会从Python最基础的数据结构开始：元组、列表、字典和集合。然后会讨论创建你自己的、可重复使用的Python函数。最后，会学习Python的文件对象，以及如何与本地硬盘交互。"
   ]
  },
  {
   "cell_type": "markdown",
   "id": "a1035715",
   "metadata": {},
   "source": [
    "# 3.1 数据结构和序列"
   ]
  },
  {
   "cell_type": "markdown",
   "id": "59a1e5b2",
   "metadata": {},
   "source": [
    "## 元组"
   ]
  },
  {
   "cell_type": "markdown",
   "id": "4b738419",
   "metadata": {},
   "source": [
    "元组是一个固定长度，不可改变的Python序列对象。创建元组的最简单方式，是用逗号分隔一列值："
   ]
  },
  {
   "cell_type": "code",
   "execution_count": 3,
   "id": "61a28873",
   "metadata": {},
   "outputs": [
    {
     "data": {
      "text/plain": [
       "(4, 5, 6)"
      ]
     },
     "execution_count": 3,
     "metadata": {},
     "output_type": "execute_result"
    }
   ],
   "source": [
    "tup = (4, 5, 6)\n",
    "tup"
   ]
  },
  {
   "cell_type": "code",
   "execution_count": 5,
   "id": "61f02e4f",
   "metadata": {},
   "outputs": [
    {
     "data": {
      "text/plain": [
       "((4, 5, 6), (7, 8))"
      ]
     },
     "execution_count": 5,
     "metadata": {},
     "output_type": "execute_result"
    }
   ],
   "source": [
    "nested_tup = ((4, 5, 6),(7, 8))\n",
    "nested_tup"
   ]
  },
  {
   "cell_type": "markdown",
   "id": "cdbdd13d",
   "metadata": {},
   "source": [
    "用tuple可以将任意序列或迭代器转换成元组："
   ]
  },
  {
   "cell_type": "code",
   "execution_count": 6,
   "id": "5ce0fd0e",
   "metadata": {},
   "outputs": [
    {
     "data": {
      "text/plain": [
       "(4, 0, 2)"
      ]
     },
     "execution_count": 6,
     "metadata": {},
     "output_type": "execute_result"
    }
   ],
   "source": [
    "tuple([4, 0, 2])"
   ]
  },
  {
   "cell_type": "code",
   "execution_count": 8,
   "id": "798cbbd0",
   "metadata": {},
   "outputs": [
    {
     "data": {
      "text/plain": [
       "('s', 't', 'r', 'i', 'n', 'g')"
      ]
     },
     "execution_count": 8,
     "metadata": {},
     "output_type": "execute_result"
    }
   ],
   "source": [
    "tup = tuple('string')\n",
    "tup"
   ]
  },
  {
   "cell_type": "markdown",
   "id": "51387d2c",
   "metadata": {},
   "source": [
    "可以用方括号访问元组中的元素。和C、C++、JAVA等语言一样，序列是从0开始的："
   ]
  },
  {
   "cell_type": "code",
   "execution_count": 9,
   "id": "46ecd817",
   "metadata": {},
   "outputs": [
    {
     "data": {
      "text/plain": [
       "'t'"
      ]
     },
     "execution_count": 9,
     "metadata": {},
     "output_type": "execute_result"
    }
   ],
   "source": [
    "tup[1]"
   ]
  },
  {
   "cell_type": "markdown",
   "id": "55cb5c24",
   "metadata": {},
   "source": [
    "一旦创建了元组，元组中的对象就不能修改了."
   ]
  },
  {
   "cell_type": "code",
   "execution_count": 10,
   "id": "082c8bcc",
   "metadata": {},
   "outputs": [
    {
     "data": {
      "text/plain": [
       "('foo', [1, 2, 3], True)"
      ]
     },
     "execution_count": 10,
     "metadata": {},
     "output_type": "execute_result"
    }
   ],
   "source": [
    "tup = tuple(['foo', [1, 2], True])\n",
    "\n",
    "tup[1].append(3)\n",
    "\n",
    "tup"
   ]
  },
  {
   "cell_type": "markdown",
   "id": "2613d1e3",
   "metadata": {},
   "source": [
    "可以用加号运算符将元组串联起来："
   ]
  },
  {
   "cell_type": "code",
   "execution_count": 11,
   "id": "dc167ef0",
   "metadata": {},
   "outputs": [
    {
     "data": {
      "text/plain": [
       "(4, None, 'foo', 6, 0, 'bar')"
      ]
     },
     "execution_count": 11,
     "metadata": {},
     "output_type": "execute_result"
    }
   ],
   "source": [
    "(4, None, 'foo') + (6, 0) + ('bar',)"
   ]
  },
  {
   "cell_type": "markdown",
   "id": "bb3ca220",
   "metadata": {},
   "source": [
    "元组乘以一个整数，像列表一样，会将几个元组的复制串联起来："
   ]
  },
  {
   "cell_type": "code",
   "execution_count": 12,
   "id": "6ccce355",
   "metadata": {},
   "outputs": [
    {
     "data": {
      "text/plain": [
       "('foo', 'bar', 'foo', 'bar', 'foo', 'bar', 'foo', 'bar')"
      ]
     },
     "execution_count": 12,
     "metadata": {},
     "output_type": "execute_result"
    }
   ],
   "source": [
    "('foo', 'bar') * 4"
   ]
  },
  {
   "cell_type": "markdown",
   "id": "e08c56de",
   "metadata": {},
   "source": [
    "### 拆分元组\n",
    "如果你想将元组赋值给类似元组的变量，Python会试图拆分等号右边的值："
   ]
  },
  {
   "cell_type": "code",
   "execution_count": 13,
   "id": "b78b3b6c",
   "metadata": {},
   "outputs": [
    {
     "data": {
      "text/plain": [
       "5"
      ]
     },
     "execution_count": 13,
     "metadata": {},
     "output_type": "execute_result"
    }
   ],
   "source": [
    "tup = (4, 5, 6)\n",
    "a, b, c = tup\n",
    "b"
   ]
  },
  {
   "cell_type": "markdown",
   "id": "f245fcf1",
   "metadata": {},
   "source": [
    "即使含有元组的元组也会被拆分："
   ]
  },
  {
   "cell_type": "code",
   "execution_count": 15,
   "id": "1408d2ad",
   "metadata": {},
   "outputs": [
    {
     "data": {
      "text/plain": [
       "7"
      ]
     },
     "execution_count": 15,
     "metadata": {},
     "output_type": "execute_result"
    }
   ],
   "source": [
    "tup = (4, 5, (6, 7))\n",
    "a, b, (c, d) = tup\n",
    "\n",
    "d"
   ]
  },
  {
   "cell_type": "markdown",
   "id": "0d6c345c",
   "metadata": {},
   "source": [
    "使用这个功能，你可以很容易地替换变量的名字，其它语言可能是这样："
   ]
  },
  {
   "cell_type": "code",
   "execution_count": null,
   "id": "165567a9",
   "metadata": {},
   "outputs": [],
   "source": [
    "tmp = a\n",
    "a = b\n",
    "b = tmp"
   ]
  },
  {
   "cell_type": "markdown",
   "id": "4cfe8d32",
   "metadata": {},
   "source": [
    "但是在Python中，替换可以这样做："
   ]
  },
  {
   "cell_type": "code",
   "execution_count": 17,
   "id": "ca4692fd",
   "metadata": {},
   "outputs": [
    {
     "data": {
      "text/plain": [
       "2"
      ]
     },
     "execution_count": 17,
     "metadata": {},
     "output_type": "execute_result"
    }
   ],
   "source": [
    "a, b = 1, 2\n",
    "b, a = a, b\n",
    "a"
   ]
  },
  {
   "cell_type": "markdown",
   "id": "1ba70499",
   "metadata": {},
   "source": [
    "变量拆分常用来迭代元组或列表序列："
   ]
  },
  {
   "cell_type": "code",
   "execution_count": 18,
   "id": "0a198bb7",
   "metadata": {},
   "outputs": [
    {
     "name": "stdout",
     "output_type": "stream",
     "text": [
      "a=1, b=2, c=3\n",
      "a=4, b=5, c=6\n",
      "a=7, b=8, c=9\n"
     ]
    }
   ],
   "source": [
    "seq = [(1, 2, 3), (4, 5, 6), (7, 8, 9)]\n",
    "for a, b, c in seq:\n",
    "    print('a={0}, b={1}, c={2}'.format(a, b, c))"
   ]
  },
  {
   "cell_type": "markdown",
   "id": "02b2f811",
   "metadata": {},
   "source": [
    "Python最近新增了更多高级的元组拆分功能，允许从元组的开头“摘取”几个元素。它使用了特殊的语法*rest，这也用在函数签名中以抓取任意长度列表的位置参数："
   ]
  },
  {
   "cell_type": "code",
   "execution_count": 19,
   "id": "7315e1da",
   "metadata": {},
   "outputs": [
    {
     "data": {
      "text/plain": [
       "1"
      ]
     },
     "execution_count": 19,
     "metadata": {},
     "output_type": "execute_result"
    }
   ],
   "source": [
    "values = (1, 2, 3, 4, 5)\n",
    "\n",
    "a, b, *rest = values\n",
    "\n",
    "a"
   ]
  },
  {
   "cell_type": "code",
   "execution_count": 20,
   "id": "ae32ca6e",
   "metadata": {},
   "outputs": [
    {
     "data": {
      "text/plain": [
       "(1, 2)"
      ]
     },
     "execution_count": 20,
     "metadata": {},
     "output_type": "execute_result"
    }
   ],
   "source": [
    "a,b"
   ]
  },
  {
   "cell_type": "code",
   "execution_count": 21,
   "id": "4d8b5de1",
   "metadata": {},
   "outputs": [
    {
     "data": {
      "text/plain": [
       "[3, 4, 5]"
      ]
     },
     "execution_count": 21,
     "metadata": {},
     "output_type": "execute_result"
    }
   ],
   "source": [
    "rest"
   ]
  },
  {
   "cell_type": "markdown",
   "id": "df447b6d",
   "metadata": {},
   "source": [
    "rest的部分是想要舍弃的部分，rest的名字不重要。作为惯用写法，许多Python程序员会将不需要的变量使用下划线："
   ]
  },
  {
   "cell_type": "code",
   "execution_count": 25,
   "id": "0f3fd7f7",
   "metadata": {},
   "outputs": [
    {
     "data": {
      "text/plain": [
       "(1, 2)"
      ]
     },
     "execution_count": 25,
     "metadata": {},
     "output_type": "execute_result"
    }
   ],
   "source": [
    "a, b, *_ = values\n",
    "a,b"
   ]
  },
  {
   "cell_type": "markdown",
   "id": "6fe177f5",
   "metadata": {},
   "source": [
    "### tuple方法\n",
    "因为元组的大小和内容不能修改，它的实例方法都很轻量。其中一个很有用的就是count（也适用于列表），它可以统计某个值得出现频率："
   ]
  },
  {
   "cell_type": "code",
   "execution_count": 26,
   "id": "19d9e5ef",
   "metadata": {},
   "outputs": [
    {
     "data": {
      "text/plain": [
       "4"
      ]
     },
     "execution_count": 26,
     "metadata": {},
     "output_type": "execute_result"
    }
   ],
   "source": [
    "a = (1, 2, 2, 2, 3, 4, 2)\n",
    "\n",
    "a.count(2)"
   ]
  },
  {
   "cell_type": "markdown",
   "id": "c84a84da",
   "metadata": {},
   "source": [
    "## 列表\n",
    "与元组对比，列表的长度可变、内容可以被修改。你可以用方括号定义，或用list函数："
   ]
  },
  {
   "cell_type": "code",
   "execution_count": 27,
   "id": "598ae2b4",
   "metadata": {},
   "outputs": [
    {
     "data": {
      "text/plain": [
       "['foo', 'bar', 'baz']"
      ]
     },
     "execution_count": 27,
     "metadata": {},
     "output_type": "execute_result"
    }
   ],
   "source": [
    "a_list = [2, 3, 7, None]\n",
    "\n",
    "tup = ('foo', 'bar', 'baz')\n",
    "\n",
    "b_list = list(tup)\n",
    "\n",
    "b_list"
   ]
  },
  {
   "cell_type": "code",
   "execution_count": 28,
   "id": "c2710756",
   "metadata": {},
   "outputs": [
    {
     "data": {
      "text/plain": [
       "['foo', 'peekaboo', 'baz']"
      ]
     },
     "execution_count": 28,
     "metadata": {},
     "output_type": "execute_result"
    }
   ],
   "source": [
    "b_list[1] = 'peekaboo'\n",
    "\n",
    "b_list"
   ]
  },
  {
   "cell_type": "markdown",
   "id": "b283b2cc",
   "metadata": {},
   "source": [
    "list函数常用来在数据处理中实体化迭代器或生成器："
   ]
  },
  {
   "cell_type": "code",
   "execution_count": 29,
   "id": "8377b855",
   "metadata": {},
   "outputs": [
    {
     "data": {
      "text/plain": [
       "[0, 1, 2, 3, 4, 5, 6, 7, 8, 9]"
      ]
     },
     "execution_count": 29,
     "metadata": {},
     "output_type": "execute_result"
    }
   ],
   "source": [
    "gen = range(10)\n",
    "\n",
    "list(gen)"
   ]
  },
  {
   "cell_type": "markdown",
   "id": "d485b1e0",
   "metadata": {},
   "source": [
    "### 添加和删除元素\n",
    "可以用append在列表末尾添加元素："
   ]
  },
  {
   "cell_type": "code",
   "execution_count": 30,
   "id": "d267b683",
   "metadata": {},
   "outputs": [
    {
     "data": {
      "text/plain": [
       "['foo', 'peekaboo', 'baz', 'dwarf']"
      ]
     },
     "execution_count": 30,
     "metadata": {},
     "output_type": "execute_result"
    }
   ],
   "source": [
    "b_list.append('dwarf')\n",
    "\n",
    "b_list"
   ]
  },
  {
   "cell_type": "markdown",
   "id": "27fb93bd",
   "metadata": {},
   "source": [
    "insert可以在特定的位置插入元素："
   ]
  },
  {
   "cell_type": "code",
   "execution_count": 31,
   "id": "dcfdb5f1",
   "metadata": {},
   "outputs": [
    {
     "data": {
      "text/plain": [
       "['foo', 'red', 'peekaboo', 'baz', 'dwarf']"
      ]
     },
     "execution_count": 31,
     "metadata": {},
     "output_type": "execute_result"
    }
   ],
   "source": [
    "b_list.insert(1, 'red')\n",
    "\n",
    "b_list"
   ]
  },
  {
   "cell_type": "markdown",
   "id": "def45903",
   "metadata": {},
   "source": [
    ">警告：与append相比，insert耗费的计算量大，因为对后续元素的引用必须在内部迁移，以便为新元素提供空间。如果要在序列的头部和尾部插入元素，你可能需要使用collections.deque，一个双尾部队列。"
   ]
  },
  {
   "cell_type": "markdown",
   "id": "bc85e057",
   "metadata": {},
   "source": [
    "insert的逆运算是pop，它移除并返回指定位置的元素："
   ]
  },
  {
   "cell_type": "code",
   "execution_count": 32,
   "id": "fcff1dd6",
   "metadata": {},
   "outputs": [
    {
     "data": {
      "text/plain": [
       "'peekaboo'"
      ]
     },
     "execution_count": 32,
     "metadata": {},
     "output_type": "execute_result"
    }
   ],
   "source": [
    "b_list.pop(2)"
   ]
  },
  {
   "cell_type": "code",
   "execution_count": 33,
   "id": "567f0125",
   "metadata": {},
   "outputs": [
    {
     "data": {
      "text/plain": [
       "['foo', 'red', 'baz', 'dwarf']"
      ]
     },
     "execution_count": 33,
     "metadata": {},
     "output_type": "execute_result"
    }
   ],
   "source": [
    "b_list"
   ]
  },
  {
   "cell_type": "markdown",
   "id": "c79a4ecf",
   "metadata": {},
   "source": [
    "可以用remove去除某个值，remove会先寻找第一个值并除去："
   ]
  },
  {
   "cell_type": "code",
   "execution_count": 34,
   "id": "85bf41de",
   "metadata": {},
   "outputs": [
    {
     "data": {
      "text/plain": [
       "['foo', 'red', 'baz', 'dwarf', 'foo']"
      ]
     },
     "execution_count": 34,
     "metadata": {},
     "output_type": "execute_result"
    }
   ],
   "source": [
    "b_list.append('foo')\n",
    "\n",
    "b_list"
   ]
  },
  {
   "cell_type": "code",
   "execution_count": 35,
   "id": "1d80f33a",
   "metadata": {},
   "outputs": [
    {
     "data": {
      "text/plain": [
       "['red', 'baz', 'dwarf', 'foo']"
      ]
     },
     "execution_count": 35,
     "metadata": {},
     "output_type": "execute_result"
    }
   ],
   "source": [
    "b_list.remove('foo')\n",
    "\n",
    "b_list"
   ]
  },
  {
   "cell_type": "markdown",
   "id": "f44ed2ff",
   "metadata": {},
   "source": [
    "用in可以检查列表是否包含某个值："
   ]
  },
  {
   "cell_type": "code",
   "execution_count": 36,
   "id": "e65eb28c",
   "metadata": {},
   "outputs": [
    {
     "data": {
      "text/plain": [
       "True"
      ]
     },
     "execution_count": 36,
     "metadata": {},
     "output_type": "execute_result"
    }
   ],
   "source": [
    "'dwarf' in b_list"
   ]
  },
  {
   "cell_type": "markdown",
   "id": "3a231f4d",
   "metadata": {},
   "source": [
    "否定in可以再加一个not："
   ]
  },
  {
   "cell_type": "code",
   "execution_count": 37,
   "id": "e369fa8e",
   "metadata": {},
   "outputs": [
    {
     "data": {
      "text/plain": [
       "False"
      ]
     },
     "execution_count": 37,
     "metadata": {},
     "output_type": "execute_result"
    }
   ],
   "source": [
    "'dwarf' not in b_list"
   ]
  },
  {
   "cell_type": "markdown",
   "id": "65ab5faa",
   "metadata": {},
   "source": [
    "### 串联和组合列表\n",
    "与元组类似，可以用加号将两个列表串联起来："
   ]
  },
  {
   "cell_type": "code",
   "execution_count": 38,
   "id": "36119bd8",
   "metadata": {},
   "outputs": [
    {
     "data": {
      "text/plain": [
       "[4, None, 'foo', 7, 8, (2, 3)]"
      ]
     },
     "execution_count": 38,
     "metadata": {},
     "output_type": "execute_result"
    }
   ],
   "source": [
    "[4, None, 'foo'] + [7, 8, (2, 3)]"
   ]
  },
  {
   "cell_type": "markdown",
   "id": "d7d8d1a7",
   "metadata": {},
   "source": [
    "如果已经定义了一个列表，用extend方法可以追加多个元素："
   ]
  },
  {
   "cell_type": "code",
   "execution_count": 39,
   "id": "f9e40194",
   "metadata": {},
   "outputs": [
    {
     "data": {
      "text/plain": [
       "[4, None, 'foo', 7, 8, (2, 3)]"
      ]
     },
     "execution_count": 39,
     "metadata": {},
     "output_type": "execute_result"
    }
   ],
   "source": [
    "x = [4, None, 'foo']\n",
    "\n",
    "x.extend([7, 8, (2,3)])\n",
    "\n",
    "x"
   ]
  },
  {
   "cell_type": "markdown",
   "id": "19737206",
   "metadata": {},
   "source": [
    "通过加法将列表串联的计算量较大，因为要新建一个列表，并且要复制对象。用extend追加元素，尤其是到一个大列表中，更为可取。因此："
   ]
  },
  {
   "cell_type": "code",
   "execution_count": null,
   "id": "f5310862",
   "metadata": {},
   "outputs": [],
   "source": [
    "everything = []\n",
    "for chunk in list_of_lists:\n",
    "    everything.extend(chunk)"
   ]
  },
  {
   "cell_type": "markdown",
   "id": "ad367c3d",
   "metadata": {},
   "source": [
    "要比串联方法快："
   ]
  },
  {
   "cell_type": "code",
   "execution_count": null,
   "id": "c21c20f8",
   "metadata": {},
   "outputs": [],
   "source": [
    "everything = []\n",
    "for chunk in list_of_lists:\n",
    "    everything = everything + chunk"
   ]
  },
  {
   "cell_type": "markdown",
   "id": "2d1b2281",
   "metadata": {},
   "source": [
    "### 排序\n",
    "你可以用sort函数将一个列表原地排序（不创建新的对象）："
   ]
  },
  {
   "cell_type": "code",
   "execution_count": 41,
   "id": "e266ad34",
   "metadata": {},
   "outputs": [
    {
     "data": {
      "text/plain": [
       "[1, 2, 3, 5, 7]"
      ]
     },
     "execution_count": 41,
     "metadata": {},
     "output_type": "execute_result"
    }
   ],
   "source": [
    "a = [7, 2, 5, 1, 3]\n",
    "\n",
    "a.sort()\n",
    "\n",
    "a"
   ]
  },
  {
   "cell_type": "markdown",
   "id": "00f0999e",
   "metadata": {},
   "source": [
    "sort有一些选项，有时会很好用。其中之一是二级排序key，可以用这个key进行排序。例如，我们可以按长度对字符串进行排序："
   ]
  },
  {
   "cell_type": "code",
   "execution_count": 42,
   "id": "e63d1a6c",
   "metadata": {},
   "outputs": [
    {
     "data": {
      "text/plain": [
       "['He', 'saw', 'six', 'small', 'foxes']"
      ]
     },
     "execution_count": 42,
     "metadata": {},
     "output_type": "execute_result"
    }
   ],
   "source": [
    "b = ['saw', 'small', 'He', 'foxes', 'six']\n",
    "\n",
    "b.sort(key=len)\n",
    "\n",
    "b"
   ]
  },
  {
   "cell_type": "markdown",
   "id": "aaf424fc",
   "metadata": {},
   "source": [
    "### 二分搜索和维护已排序的列表\n",
    "bisect模块支持二分查找，和向已排序的列表插入值。bisect.bisect可以找到插入值后仍保证排序的位置，bisect.insort是向这个位置插入值："
   ]
  },
  {
   "cell_type": "code",
   "execution_count": 44,
   "id": "3986452e",
   "metadata": {},
   "outputs": [
    {
     "data": {
      "text/plain": [
       "4"
      ]
     },
     "execution_count": 44,
     "metadata": {},
     "output_type": "execute_result"
    }
   ],
   "source": [
    "import bisect\n",
    "\n",
    "c = [1, 2, 2, 2, 3, 4, 7]\n",
    "\n",
    "bisect.bisect(c,2)"
   ]
  },
  {
   "cell_type": "code",
   "execution_count": 45,
   "id": "e99b92ae",
   "metadata": {},
   "outputs": [
    {
     "data": {
      "text/plain": [
       "[1, 2, 2, 2, 3, 4, 7]"
      ]
     },
     "execution_count": 45,
     "metadata": {},
     "output_type": "execute_result"
    }
   ],
   "source": [
    "c"
   ]
  },
  {
   "cell_type": "code",
   "execution_count": 46,
   "id": "0fd35341",
   "metadata": {},
   "outputs": [
    {
     "data": {
      "text/plain": [
       "6"
      ]
     },
     "execution_count": 46,
     "metadata": {},
     "output_type": "execute_result"
    }
   ],
   "source": [
    "bisect.bisect(c,5)"
   ]
  },
  {
   "cell_type": "code",
   "execution_count": 48,
   "id": "c614d955",
   "metadata": {},
   "outputs": [
    {
     "data": {
      "text/plain": [
       "[1, 2, 2, 2, 3, 4, 6, 6, 7]"
      ]
     },
     "execution_count": 48,
     "metadata": {},
     "output_type": "execute_result"
    }
   ],
   "source": [
    "bisect.insort(c,6)\n",
    "\n",
    "c"
   ]
  },
  {
   "cell_type": "markdown",
   "id": "d5c67775",
   "metadata": {},
   "source": [
    ">注意：bisect模块不会检查列表是否已排好序，进行检查的话会耗费大量计算。因此，对未排序的列表使用bisect不会产生错误，但结果不一定正确。"
   ]
  },
  {
   "cell_type": "markdown",
   "id": "99a3bb7f",
   "metadata": {},
   "source": [
    "### 切片\n",
    "用切片可以选取大多数序列类型的一部分，切片的基本形式是在方括号中使用start:stop"
   ]
  },
  {
   "cell_type": "code",
   "execution_count": 49,
   "id": "871457f4",
   "metadata": {},
   "outputs": [
    {
     "data": {
      "text/plain": [
       "[2, 3, 7, 5]"
      ]
     },
     "execution_count": 49,
     "metadata": {},
     "output_type": "execute_result"
    }
   ],
   "source": [
    "seq = [7, 2, 3, 7, 5, 6, 0, 1]\n",
    "\n",
    "seq[1:5]"
   ]
  },
  {
   "cell_type": "markdown",
   "id": "ce886f59",
   "metadata": {},
   "source": [
    "切片也可以被序列赋值："
   ]
  },
  {
   "cell_type": "code",
   "execution_count": 50,
   "id": "4f83d598",
   "metadata": {},
   "outputs": [
    {
     "data": {
      "text/plain": [
       "[7, 2, 3, 6, 3, 5, 6, 0, 1]"
      ]
     },
     "execution_count": 50,
     "metadata": {},
     "output_type": "execute_result"
    }
   ],
   "source": [
    "seq[3:4] = [6, 3]\n",
    "\n",
    "seq"
   ]
  },
  {
   "cell_type": "markdown",
   "id": "2c4f7858",
   "metadata": {},
   "source": [
    "切片的起始元素是包括的，不包含结束元素。"
   ]
  },
  {
   "cell_type": "code",
   "execution_count": 51,
   "id": "7a2a6469",
   "metadata": {},
   "outputs": [
    {
     "data": {
      "text/plain": [
       "[7, 2, 3, 6, 3]"
      ]
     },
     "execution_count": 51,
     "metadata": {},
     "output_type": "execute_result"
    }
   ],
   "source": [
    "seq[:5]"
   ]
  },
  {
   "cell_type": "code",
   "execution_count": 52,
   "id": "126a773d",
   "metadata": {},
   "outputs": [
    {
     "data": {
      "text/plain": [
       "[6, 3, 5, 6, 0, 1]"
      ]
     },
     "execution_count": 52,
     "metadata": {},
     "output_type": "execute_result"
    }
   ],
   "source": [
    "seq[3:]"
   ]
  },
  {
   "cell_type": "markdown",
   "id": "7110d323",
   "metadata": {},
   "source": [
    "负数表明从后向前切片："
   ]
  },
  {
   "cell_type": "code",
   "execution_count": 53,
   "id": "6976f7cc",
   "metadata": {},
   "outputs": [
    {
     "data": {
      "text/plain": [
       "[5, 6, 0, 1]"
      ]
     },
     "execution_count": 53,
     "metadata": {},
     "output_type": "execute_result"
    }
   ],
   "source": [
    "seq[-4:]"
   ]
  },
  {
   "cell_type": "code",
   "execution_count": 54,
   "id": "ad2845e1",
   "metadata": {},
   "outputs": [
    {
     "data": {
      "text/plain": [
       "[6, 3, 5, 6]"
      ]
     },
     "execution_count": 54,
     "metadata": {},
     "output_type": "execute_result"
    }
   ],
   "source": [
    "seq[-6:-2]"
   ]
  },
  {
   "cell_type": "markdown",
   "id": "8684dd02",
   "metadata": {},
   "source": [
    "在第二个冒号后面使用step，可以隔一个取一个元素："
   ]
  },
  {
   "cell_type": "markdown",
   "id": "844aee72",
   "metadata": {},
   "source": [
    "一个聪明的方法是使用-1，它可以将列表或元组颠倒过来："
   ]
  },
  {
   "cell_type": "code",
   "execution_count": 56,
   "id": "f36b6408",
   "metadata": {},
   "outputs": [
    {
     "data": {
      "text/plain": [
       "[1, 0, 6, 5, 3, 6, 3, 2, 7]"
      ]
     },
     "execution_count": 56,
     "metadata": {},
     "output_type": "execute_result"
    }
   ],
   "source": [
    "seq[::-1]"
   ]
  },
  {
   "cell_type": "markdown",
   "id": "db837697",
   "metadata": {},
   "source": [
    "### 序列函数\n",
    "Python有一些有用的序列函数。\n",
    "### enumerate函数\n",
    "迭代一个序列时，你可能想跟踪当前项的序号。Python内建了一个enumerate函数，可以返回(i, value)元组序列："
   ]
  },
  {
   "cell_type": "code",
   "execution_count": null,
   "id": "5b4682c3",
   "metadata": {},
   "outputs": [],
   "source": [
    "for i, value in enumerate(collection):\n",
    "   # do something with value"
   ]
  },
  {
   "cell_type": "code",
   "execution_count": 1,
   "id": "81371f8f",
   "metadata": {},
   "outputs": [
    {
     "data": {
      "text/plain": [
       "{'bar': 0, 'foo': 1, 'baz': 2}"
      ]
     },
     "execution_count": 1,
     "metadata": {},
     "output_type": "execute_result"
    }
   ],
   "source": [
    "some_list = {'foo', 'bar', 'baz'}\n",
    "\n",
    "mapping = {}\n",
    "\n",
    "for i,v in enumerate(some_list):\n",
    "    mapping[v] = i\n",
    "    \n",
    "mapping"
   ]
  },
  {
   "cell_type": "markdown",
   "id": "00d3ef4a",
   "metadata": {},
   "source": [
    "### sorted函数\n",
    "sorted函数可以从任意序列的元素返回一个新的排好序的列表：  \n",
    "与sort函数的区别在于，sorted是返回一个新的列表，sort是原列表。"
   ]
  },
  {
   "cell_type": "code",
   "execution_count": 2,
   "id": "8e17f64c",
   "metadata": {},
   "outputs": [
    {
     "data": {
      "text/plain": [
       "[0, 1, 2, 2, 3, 5, 7]"
      ]
     },
     "execution_count": 2,
     "metadata": {},
     "output_type": "execute_result"
    }
   ],
   "source": [
    "sorted([7 , 1, 2, 5, 0, 3, 2])"
   ]
  },
  {
   "cell_type": "code",
   "execution_count": 3,
   "id": "16b3cd80",
   "metadata": {},
   "outputs": [
    {
     "data": {
      "text/plain": [
       "[' ', 'a', 'c', 'e', 'e', 'h', 'o', 'r', 'r', 's']"
      ]
     },
     "execution_count": 3,
     "metadata": {},
     "output_type": "execute_result"
    }
   ],
   "source": [
    "sorted('horse race')"
   ]
  },
  {
   "cell_type": "markdown",
   "id": "3c2ff43b",
   "metadata": {},
   "source": [
    "sorted函数可以接受和sort相同的参数。"
   ]
  },
  {
   "cell_type": "markdown",
   "id": "023ff1a1",
   "metadata": {},
   "source": [
    "### zip函数\n",
    "zip可以将多个列表、元组或其它序列成对组合成一个元组列表."
   ]
  },
  {
   "cell_type": "code",
   "execution_count": 4,
   "id": "d7fc8811",
   "metadata": {},
   "outputs": [
    {
     "data": {
      "text/plain": [
       "[('foo', 'one'), ('bar', 'two'), ('baz', 'three')]"
      ]
     },
     "execution_count": 4,
     "metadata": {},
     "output_type": "execute_result"
    }
   ],
   "source": [
    "seq1 = ['foo', 'bar', 'baz']\n",
    "seq2 = ['one', 'two', 'three']\n",
    "\n",
    "zipped = zip(seq1, seq2)\n",
    "\n",
    "list(zipped)"
   ]
  },
  {
   "cell_type": "markdown",
   "id": "cb81b2cc",
   "metadata": {},
   "source": [
    "zip可以处理任意多的序列，元素的个数取决于最短的序列："
   ]
  },
  {
   "cell_type": "code",
   "execution_count": 5,
   "id": "b878e5cd",
   "metadata": {},
   "outputs": [
    {
     "data": {
      "text/plain": [
       "[('foo', 'one', False), ('bar', 'two', True)]"
      ]
     },
     "execution_count": 5,
     "metadata": {},
     "output_type": "execute_result"
    }
   ],
   "source": [
    "seq3 = [False, True]\n",
    "\n",
    "list(zip(seq1, seq2, seq3))"
   ]
  },
  {
   "cell_type": "markdown",
   "id": "7c456ea7",
   "metadata": {},
   "source": [
    "zip的常见用法之一是同时迭代多个序列，可能结合enumerate使用."
   ]
  },
  {
   "cell_type": "code",
   "execution_count": 6,
   "id": "24dc2850",
   "metadata": {},
   "outputs": [
    {
     "name": "stdout",
     "output_type": "stream",
     "text": [
      "0:foo,one\n",
      "1:bar,two\n",
      "2:baz,three\n"
     ]
    }
   ],
   "source": [
    "for i,(a, b) in enumerate(zip(seq1, seq2)):\n",
    "    print('{0}:{1},{2}'.format(i, a, b))"
   ]
  },
  {
   "cell_type": "markdown",
   "id": "4418b71b",
   "metadata": {},
   "source": [
    "给出一个“被压缩的”序列，zip可以被用来解压序列。也可以当作把行的列表转换为列的列表。"
   ]
  },
  {
   "cell_type": "code",
   "execution_count": 7,
   "id": "194b025d",
   "metadata": {},
   "outputs": [
    {
     "data": {
      "text/plain": [
       "('Nolan', 'Roger', 'Schilling')"
      ]
     },
     "execution_count": 7,
     "metadata": {},
     "output_type": "execute_result"
    }
   ],
   "source": [
    "pitchers = [('Nolan', 'Ryan'), ('Roger', 'Clemens'),('Schilling', 'Curt')]\n",
    "\n",
    "first_names, last_names = zip(*pitchers)\n",
    "\n",
    "first_names"
   ]
  },
  {
   "cell_type": "code",
   "execution_count": 8,
   "id": "08fa3427",
   "metadata": {},
   "outputs": [
    {
     "data": {
      "text/plain": [
       "('Ryan', 'Clemens', 'Curt')"
      ]
     },
     "execution_count": 8,
     "metadata": {},
     "output_type": "execute_result"
    }
   ],
   "source": [
    "last_names"
   ]
  },
  {
   "cell_type": "markdown",
   "id": "639abbd4",
   "metadata": {},
   "source": [
    "### reversed函数\n",
    "reversed可以从后向前迭代一个序列."
   ]
  },
  {
   "cell_type": "code",
   "execution_count": 10,
   "id": "db676fa8",
   "metadata": {},
   "outputs": [
    {
     "data": {
      "text/plain": [
       "[9, 8, 7, 6, 5, 4, 3, 2, 1, 0]"
      ]
     },
     "execution_count": 10,
     "metadata": {},
     "output_type": "execute_result"
    }
   ],
   "source": [
    "list(reversed(range(10)))"
   ]
  },
  {
   "cell_type": "markdown",
   "id": "d3acce2f",
   "metadata": {},
   "source": [
    "### 字典\n",
    "字典可能是Python最为重要的数据结构。它更为常见的名字是哈希映射或关联数组。它是键值对的大小可变集合，键和值都是Python对象。创建字典的方法之一是使用尖括号，用冒号分隔键和值："
   ]
  },
  {
   "cell_type": "code",
   "execution_count": 11,
   "id": "071706e5",
   "metadata": {},
   "outputs": [
    {
     "data": {
      "text/plain": [
       "{'a': 'some value', 'b': [1, 2, 3, 4]}"
      ]
     },
     "execution_count": 11,
     "metadata": {},
     "output_type": "execute_result"
    }
   ],
   "source": [
    "empty_dict = {}\n",
    "\n",
    "d1 = {'a' : 'some value', 'b' : [1, 2, 3, 4]}\n",
    "\n",
    "d1"
   ]
  },
  {
   "cell_type": "markdown",
   "id": "7886c27a",
   "metadata": {},
   "source": [
    "你可以像访问列表或元组中的元素一样，访问、插入或设定字典中的元素："
   ]
  },
  {
   "cell_type": "code",
   "execution_count": 12,
   "id": "9a620852",
   "metadata": {},
   "outputs": [
    {
     "data": {
      "text/plain": [
       "{'a': 'some value', 'b': [1, 2, 3, 4], 7: 'an integer'}"
      ]
     },
     "execution_count": 12,
     "metadata": {},
     "output_type": "execute_result"
    }
   ],
   "source": [
    "d1[7] = 'an integer'\n",
    "\n",
    "d1"
   ]
  },
  {
   "cell_type": "code",
   "execution_count": 13,
   "id": "50df68de",
   "metadata": {},
   "outputs": [
    {
     "data": {
      "text/plain": [
       "[1, 2, 3, 4]"
      ]
     },
     "execution_count": 13,
     "metadata": {},
     "output_type": "execute_result"
    }
   ],
   "source": [
    "d1['b']"
   ]
  },
  {
   "cell_type": "markdown",
   "id": "f4e1fa5d",
   "metadata": {},
   "source": [
    "你可以用检查列表和元组是否包含某个值的方法，检查字典中是否包含某个键："
   ]
  },
  {
   "cell_type": "code",
   "execution_count": 14,
   "id": "ff1c7dc0",
   "metadata": {},
   "outputs": [
    {
     "data": {
      "text/plain": [
       "True"
      ]
     },
     "execution_count": 14,
     "metadata": {},
     "output_type": "execute_result"
    }
   ],
   "source": [
    "'b' in d1"
   ]
  },
  {
   "cell_type": "markdown",
   "id": "41aaebc0",
   "metadata": {},
   "source": [
    "可以用del关键字或pop方法（返回值的同时删除键）删除值"
   ]
  },
  {
   "cell_type": "code",
   "execution_count": 19,
   "id": "bf3c724b",
   "metadata": {},
   "outputs": [
    {
     "data": {
      "text/plain": [
       "{'a': 'some value',\n",
       " 'b': [1, 2, 3, 4],\n",
       " 7: 'an integer',\n",
       " 'dummy': 'another value',\n",
       " 5: 'some value'}"
      ]
     },
     "execution_count": 19,
     "metadata": {},
     "output_type": "execute_result"
    }
   ],
   "source": [
    "d1[5] = 'some value'\n",
    "\n",
    "d1"
   ]
  },
  {
   "cell_type": "code",
   "execution_count": 20,
   "id": "bfb81f8f",
   "metadata": {},
   "outputs": [
    {
     "data": {
      "text/plain": [
       "{'a': 'some value',\n",
       " 'b': [1, 2, 3, 4],\n",
       " 7: 'an integer',\n",
       " 'dummy': 'another value',\n",
       " 5: 'some value'}"
      ]
     },
     "execution_count": 20,
     "metadata": {},
     "output_type": "execute_result"
    }
   ],
   "source": [
    "d1['dummy'] = 'another value'\n",
    "\n",
    "d1"
   ]
  },
  {
   "cell_type": "code",
   "execution_count": 21,
   "id": "884f3697",
   "metadata": {},
   "outputs": [
    {
     "data": {
      "text/plain": [
       "{'a': 'some value',\n",
       " 'b': [1, 2, 3, 4],\n",
       " 7: 'an integer',\n",
       " 'dummy': 'another value'}"
      ]
     },
     "execution_count": 21,
     "metadata": {},
     "output_type": "execute_result"
    }
   ],
   "source": [
    "del d1[5]\n",
    "\n",
    "d1"
   ]
  },
  {
   "cell_type": "code",
   "execution_count": 22,
   "id": "e3facb9e",
   "metadata": {},
   "outputs": [
    {
     "data": {
      "text/plain": [
       "'another value'"
      ]
     },
     "execution_count": 22,
     "metadata": {},
     "output_type": "execute_result"
    }
   ],
   "source": [
    "ret = d1.pop('dummy')\n",
    "\n",
    "ret"
   ]
  },
  {
   "cell_type": "code",
   "execution_count": 23,
   "id": "738f1f8d",
   "metadata": {},
   "outputs": [
    {
     "data": {
      "text/plain": [
       "{'a': 'some value', 'b': [1, 2, 3, 4], 7: 'an integer'}"
      ]
     },
     "execution_count": 23,
     "metadata": {},
     "output_type": "execute_result"
    }
   ],
   "source": [
    "d1"
   ]
  },
  {
   "cell_type": "markdown",
   "id": "8b4d7bc6",
   "metadata": {},
   "source": [
    "keys和values是字典的键和值的迭代器方法。虽然键值对没有顺序，这两个方法可以用相同的顺序输出键和值："
   ]
  },
  {
   "cell_type": "code",
   "execution_count": 24,
   "id": "18d3644a",
   "metadata": {},
   "outputs": [
    {
     "data": {
      "text/plain": [
       "['a', 'b', 7]"
      ]
     },
     "execution_count": 24,
     "metadata": {},
     "output_type": "execute_result"
    }
   ],
   "source": [
    "list(d1.keys())"
   ]
  },
  {
   "cell_type": "code",
   "execution_count": 25,
   "id": "a3e1cc48",
   "metadata": {},
   "outputs": [
    {
     "data": {
      "text/plain": [
       "['some value', [1, 2, 3, 4], 'an integer']"
      ]
     },
     "execution_count": 25,
     "metadata": {},
     "output_type": "execute_result"
    }
   ],
   "source": [
    "list(d1.values())"
   ]
  },
  {
   "cell_type": "markdown",
   "id": "9656839c",
   "metadata": {},
   "source": [
    "用update方法可以将一个字典与另一个融合"
   ]
  },
  {
   "cell_type": "code",
   "execution_count": 27,
   "id": "85ecfd45",
   "metadata": {},
   "outputs": [
    {
     "data": {
      "text/plain": [
       "{'a': 'some value', 'b': 'foo', 7: 'an integer', 'c': 12}"
      ]
     },
     "execution_count": 27,
     "metadata": {},
     "output_type": "execute_result"
    }
   ],
   "source": [
    "d1.update({'b' : 'foo', 'c' : 12})\n",
    "\n",
    "d1"
   ]
  },
  {
   "cell_type": "markdown",
   "id": "68d5a3c4",
   "metadata": {},
   "source": [
    "update方法是原地改变字典，因此任何传递给update的键的旧的值都会被舍弃。"
   ]
  },
  {
   "cell_type": "markdown",
   "id": "c4e3f1aa",
   "metadata": {},
   "source": [
    "### 用序列创建字典\n",
    "常常，你可能想将两个序列配对组合成字典。下面是一种写法："
   ]
  },
  {
   "cell_type": "code",
   "execution_count": null,
   "id": "c1b3516a",
   "metadata": {},
   "outputs": [],
   "source": [
    "mapping = {}\n",
    "for key, value in zip(key_list, value_list):\n",
    "    mapping[key] = value"
   ]
  },
  {
   "cell_type": "markdown",
   "id": "b0ef61f7",
   "metadata": {},
   "source": [
    "因为字典本质上是2元元组的集合，dict可以接受2元元组的列表："
   ]
  },
  {
   "cell_type": "code",
   "execution_count": 1,
   "id": "3a46c51b",
   "metadata": {},
   "outputs": [
    {
     "data": {
      "text/plain": [
       "{0: 4, 1: 3, 2: 2, 3: 1, 4: 0}"
      ]
     },
     "execution_count": 1,
     "metadata": {},
     "output_type": "execute_result"
    }
   ],
   "source": [
    "mapping = dict(zip(range(5), reversed(range(5))))\n",
    "\n",
    "mapping"
   ]
  },
  {
   "cell_type": "markdown",
   "id": "27e2933e",
   "metadata": {},
   "source": [
    "### 默认值\n",
    "下面的逻辑很常见："
   ]
  },
  {
   "cell_type": "code",
   "execution_count": null,
   "id": "2396c318",
   "metadata": {},
   "outputs": [],
   "source": [
    "if key in some_dict:\n",
    "    value = some_dict[key]\n",
    "else:\n",
    "    value = default_value"
   ]
  },
  {
   "cell_type": "markdown",
   "id": "6106cb96",
   "metadata": {},
   "source": [
    "上面的if-else语句可以简写成下面："
   ]
  },
  {
   "cell_type": "code",
   "execution_count": null,
   "id": "0a624ee8",
   "metadata": {},
   "outputs": [],
   "source": [
    "value = some_dict.get(key, default_value)"
   ]
  },
  {
   "cell_type": "markdown",
   "id": "70967323",
   "metadata": {},
   "source": [
    "get默认会返回None，如果不存在键，pop会抛出一个例外。"
   ]
  },
  {
   "cell_type": "code",
   "execution_count": 2,
   "id": "63cef625",
   "metadata": {},
   "outputs": [
    {
     "data": {
      "text/plain": [
       "{'a': ['apple', 'atom'], 'b': ['bat', 'bar', 'book']}"
      ]
     },
     "execution_count": 2,
     "metadata": {},
     "output_type": "execute_result"
    }
   ],
   "source": [
    "words = ['apple', 'bat', 'bar', 'atom', 'book']\n",
    "\n",
    "by_letter = {}\n",
    "\n",
    "for word in words:\n",
    "    letter = word[0]\n",
    "    if letter not in by_letter:\n",
    "        by_letter[letter] = [word]\n",
    "    else:\n",
    "        by_letter[letter].append(word)\n",
    "        \n",
    "by_letter"
   ]
  },
  {
   "cell_type": "markdown",
   "id": "83d11bcb",
   "metadata": {},
   "source": [
    "setdefault方法就正是干这个的。前面的for循环可以改写为："
   ]
  },
  {
   "cell_type": "code",
   "execution_count": 3,
   "id": "c908e928",
   "metadata": {},
   "outputs": [],
   "source": [
    "for word in words:\n",
    "    letter = word[0]\n",
    "    by_letter.setdefault(letter, []).append(word)"
   ]
  },
  {
   "cell_type": "markdown",
   "id": "eb392261",
   "metadata": {},
   "source": [
    "collections模块有一个很有用的类，defaultdict，它可以进一步简化上面。传递类型或函数以生成每个位置的默认值："
   ]
  },
  {
   "cell_type": "code",
   "execution_count": null,
   "id": "4d5f3a4f",
   "metadata": {},
   "outputs": [],
   "source": [
    "from collection import defaultdict\n",
    "by_letter = defaultdict(list)\n",
    "\n",
    "for word in words:\n",
    "    by_letter[word[0]].append(word)"
   ]
  },
  {
   "cell_type": "markdown",
   "id": "2fb23994",
   "metadata": {},
   "source": [
    "### 有效的键类型\n",
    "字典的值可以是任意Python对象，而键通常是不可变的标量类型（整数、浮点型、字符串）或元组（元组中的对象必须是不可变的）。这被称为“可哈希性”。可以用hash函数检测一个对象是否是可哈希的（可被用作字典的键）："
   ]
  },
  {
   "cell_type": "code",
   "execution_count": 5,
   "id": "90ba0482",
   "metadata": {},
   "outputs": [
    {
     "data": {
      "text/plain": [
       "-7030935589391437487"
      ]
     },
     "execution_count": 5,
     "metadata": {},
     "output_type": "execute_result"
    }
   ],
   "source": [
    "hash('string')"
   ]
  },
  {
   "cell_type": "code",
   "execution_count": 6,
   "id": "f12e9290",
   "metadata": {},
   "outputs": [
    {
     "data": {
      "text/plain": [
       "-9209053662355515447"
      ]
     },
     "execution_count": 6,
     "metadata": {},
     "output_type": "execute_result"
    }
   ],
   "source": [
    "hash((1, 2, (2, 3)))"
   ]
  },
  {
   "cell_type": "code",
   "execution_count": null,
   "id": "eb8c001c",
   "metadata": {},
   "outputs": [],
   "source": [
    "hash((1, 2, [2, 3])) # fails because lists are mutable"
   ]
  },
  {
   "cell_type": "markdown",
   "id": "1daeb72a",
   "metadata": {},
   "source": [
    "要用列表当做键，一种方法是将列表转化为元组，只要内部元素可以被哈希，它也就可以被哈希："
   ]
  },
  {
   "cell_type": "code",
   "execution_count": 8,
   "id": "a6253322",
   "metadata": {},
   "outputs": [
    {
     "data": {
      "text/plain": [
       "{(1, 2, 3): 5}"
      ]
     },
     "execution_count": 8,
     "metadata": {},
     "output_type": "execute_result"
    }
   ],
   "source": [
    "d = {}\n",
    "\n",
    "d[tuple([1, 2, 3])] = 5\n",
    "\n",
    "d"
   ]
  },
  {
   "cell_type": "markdown",
   "id": "178f1143",
   "metadata": {},
   "source": [
    "### 集合\n",
    "集合是无序的不可重复的元素的集合。你可以把它当做字典，但是只有键没有值。可以用两种方式创建集合：通过set函数或使用尖括号set语句："
   ]
  },
  {
   "cell_type": "code",
   "execution_count": 9,
   "id": "14ec11bb",
   "metadata": {},
   "outputs": [
    {
     "data": {
      "text/plain": [
       "{1, 2, 3}"
      ]
     },
     "execution_count": 9,
     "metadata": {},
     "output_type": "execute_result"
    }
   ],
   "source": [
    "set([2, 2, 3, 2, 1, 3, 3])"
   ]
  },
  {
   "cell_type": "code",
   "execution_count": 10,
   "id": "5ed5d568",
   "metadata": {},
   "outputs": [
    {
     "data": {
      "text/plain": [
       "{1, 2, 3}"
      ]
     },
     "execution_count": 10,
     "metadata": {},
     "output_type": "execute_result"
    }
   ],
   "source": [
    "{2, 2, 3, 2, 1, 3, 3}"
   ]
  },
  {
   "cell_type": "markdown",
   "id": "0fffaf88",
   "metadata": {},
   "source": [
    "集合支持合并、交集、差分和对称差等数学集合运算。"
   ]
  },
  {
   "cell_type": "code",
   "execution_count": 11,
   "id": "acf3cc51",
   "metadata": {},
   "outputs": [],
   "source": [
    "a = {1, 2, 3, 4, 5}\n",
    "\n",
    "b = {3, 4, 5, 6, 7, 8}"
   ]
  },
  {
   "cell_type": "markdown",
   "id": "90d1bb5b",
   "metadata": {},
   "source": [
    "合并是取两个集合中不重复的元素。可以用union方法，或者|运算符："
   ]
  },
  {
   "cell_type": "code",
   "execution_count": 12,
   "id": "01bd885c",
   "metadata": {},
   "outputs": [
    {
     "data": {
      "text/plain": [
       "{1, 2, 3, 4, 5, 6, 7, 8}"
      ]
     },
     "execution_count": 12,
     "metadata": {},
     "output_type": "execute_result"
    }
   ],
   "source": [
    "a.union(b)"
   ]
  },
  {
   "cell_type": "code",
   "execution_count": 13,
   "id": "f482eb97",
   "metadata": {},
   "outputs": [
    {
     "data": {
      "text/plain": [
       "{1, 2, 3, 4, 5, 6, 7, 8}"
      ]
     },
     "execution_count": 13,
     "metadata": {},
     "output_type": "execute_result"
    }
   ],
   "source": [
    "a | b"
   ]
  },
  {
   "cell_type": "markdown",
   "id": "67e16fd1",
   "metadata": {},
   "source": [
    "交集的元素包含在两个集合中。可以用intersection或&运算符："
   ]
  },
  {
   "cell_type": "code",
   "execution_count": 14,
   "id": "2388bd62",
   "metadata": {},
   "outputs": [
    {
     "data": {
      "text/plain": [
       "{3, 4, 5}"
      ]
     },
     "execution_count": 14,
     "metadata": {},
     "output_type": "execute_result"
    }
   ],
   "source": [
    "a.intersection(b)"
   ]
  },
  {
   "cell_type": "code",
   "execution_count": 15,
   "id": "cede83ad",
   "metadata": {},
   "outputs": [
    {
     "data": {
      "text/plain": [
       "{3, 4, 5}"
      ]
     },
     "execution_count": 15,
     "metadata": {},
     "output_type": "execute_result"
    }
   ],
   "source": [
    "a & b"
   ]
  },
  {
   "cell_type": "markdown",
   "id": "98f402ac",
   "metadata": {},
   "source": [
    "![jupyter](./set_function.png)"
   ]
  },
  {
   "cell_type": "markdown",
   "id": "e541012c",
   "metadata": {},
   "source": [
    "所有逻辑集合操作都有另外的原地实现方法，可以直接用结果替代集合的内容。对于大的集合，这么做效率更高："
   ]
  },
  {
   "cell_type": "code",
   "execution_count": 16,
   "id": "17081668",
   "metadata": {},
   "outputs": [
    {
     "data": {
      "text/plain": [
       "{1, 2, 3, 4, 5, 6, 7, 8}"
      ]
     },
     "execution_count": 16,
     "metadata": {},
     "output_type": "execute_result"
    }
   ],
   "source": [
    "c = a.copy()\n",
    "\n",
    "c |= b\n",
    "\n",
    "c"
   ]
  },
  {
   "cell_type": "code",
   "execution_count": 17,
   "id": "bb668237",
   "metadata": {},
   "outputs": [
    {
     "data": {
      "text/plain": [
       "{3, 4, 5}"
      ]
     },
     "execution_count": 17,
     "metadata": {},
     "output_type": "execute_result"
    }
   ],
   "source": [
    "d = a.copy()\n",
    "\n",
    "d &= b\n",
    "\n",
    "d"
   ]
  },
  {
   "cell_type": "markdown",
   "id": "c0e9a517",
   "metadata": {},
   "source": [
    "与字典类似，集合元素通常都是不可变的。要获得类似列表的元素，必须转换成元组："
   ]
  },
  {
   "cell_type": "code",
   "execution_count": 18,
   "id": "2b4c1007",
   "metadata": {},
   "outputs": [
    {
     "data": {
      "text/plain": [
       "{(1, 2, 3, 4)}"
      ]
     },
     "execution_count": 18,
     "metadata": {},
     "output_type": "execute_result"
    }
   ],
   "source": [
    "my_data = [1, 2, 3, 4]\n",
    "\n",
    "my_set = {tuple(my_data)}\n",
    "\n",
    "my_set"
   ]
  },
  {
   "cell_type": "markdown",
   "id": "7d70ad2e",
   "metadata": {},
   "source": [
    "你还可以检测一个集合是否是另一个集合的子集或父集："
   ]
  },
  {
   "cell_type": "code",
   "execution_count": 19,
   "id": "9998b7f4",
   "metadata": {},
   "outputs": [
    {
     "data": {
      "text/plain": [
       "True"
      ]
     },
     "execution_count": 19,
     "metadata": {},
     "output_type": "execute_result"
    }
   ],
   "source": [
    "a_set = {1, 2, 3, 4, 5}\n",
    "\n",
    "{1, 2, 3}.issubset(a_set)"
   ]
  },
  {
   "cell_type": "code",
   "execution_count": 21,
   "id": "6c140214",
   "metadata": {},
   "outputs": [
    {
     "data": {
      "text/plain": [
       "True"
      ]
     },
     "execution_count": 21,
     "metadata": {},
     "output_type": "execute_result"
    }
   ],
   "source": [
    "a_set.issuperset({1 ,2 ,3})"
   ]
  },
  {
   "cell_type": "markdown",
   "id": "3aba7b69",
   "metadata": {},
   "source": [
    "集合的内容相同时，集合才对等"
   ]
  },
  {
   "cell_type": "code",
   "execution_count": 22,
   "id": "3260028b",
   "metadata": {},
   "outputs": [
    {
     "data": {
      "text/plain": [
       "True"
      ]
     },
     "execution_count": 22,
     "metadata": {},
     "output_type": "execute_result"
    }
   ],
   "source": [
    "{1, 2, 3} == {3, 2, 1}"
   ]
  },
  {
   "cell_type": "markdown",
   "id": "0ca16abc",
   "metadata": {},
   "source": [
    "### 列表、集合和字典推导式\n",
    "列表推导式是Python最受喜爱的特性之一。它允许用户方便的从一个集合过滤元素，形成列表，在传递参数的过程中还可以修改元素。形式如下："
   ]
  },
  {
   "cell_type": "code",
   "execution_count": null,
   "id": "242d3f0c",
   "metadata": {},
   "outputs": [],
   "source": [
    "[expr for val in collection if condition]"
   ]
  },
  {
   "cell_type": "markdown",
   "id": "df75756c",
   "metadata": {},
   "source": [
    "它等同于下面的for循环"
   ]
  },
  {
   "cell_type": "code",
   "execution_count": null,
   "id": "9af94145",
   "metadata": {},
   "outputs": [],
   "source": [
    "result = []\n",
    "for val in collection:\n",
    "    if condition:\n",
    "        result.append(expr)"
   ]
  },
  {
   "cell_type": "markdown",
   "id": "2bc6e970",
   "metadata": {},
   "source": [
    "filter条件可以被忽略，只留下表达式就行。例如，给定一个字符串列表，我们可以过滤出长度在2及以下的字符串，并将其转换成大写："
   ]
  },
  {
   "cell_type": "code",
   "execution_count": 25,
   "id": "e67a142c",
   "metadata": {},
   "outputs": [
    {
     "data": {
      "text/plain": [
       "['BAT', 'CAR', 'DOVE', 'PYTHON']"
      ]
     },
     "execution_count": 25,
     "metadata": {},
     "output_type": "execute_result"
    }
   ],
   "source": [
    "strings = ['a', 'as', 'bat', 'car', 'dove', 'python']\n",
    "\n",
    "[x.upper() for x in strings if len(x) > 2]"
   ]
  },
  {
   "cell_type": "markdown",
   "id": "d981e5d2",
   "metadata": {},
   "source": [
    "用相似的方法，还可以推导集合和字典。字典的推导式如下所示："
   ]
  },
  {
   "cell_type": "code",
   "execution_count": null,
   "id": "973ce41c",
   "metadata": {},
   "outputs": [],
   "source": [
    "dict_comp = {key-expr : value-expr for value in collection if condition}"
   ]
  },
  {
   "cell_type": "markdown",
   "id": "7d275f61",
   "metadata": {},
   "source": [
    "集合的推导式与列表很像，只不过用的是尖括号："
   ]
  },
  {
   "cell_type": "code",
   "execution_count": null,
   "id": "3288156b",
   "metadata": {},
   "outputs": [],
   "source": [
    "set_comp = {expr for value in collection if condition}"
   ]
  },
  {
   "cell_type": "markdown",
   "id": "2e7909f4",
   "metadata": {},
   "source": [
    "与列表推导式类似，集合与字典的推导也很方便，而且使代码的读写都很容易。来看前面的字符串列表。假如我们只想要字符串的长度，用集合推导式的方法非常方便："
   ]
  },
  {
   "cell_type": "code",
   "execution_count": 26,
   "id": "f2058313",
   "metadata": {},
   "outputs": [
    {
     "data": {
      "text/plain": [
       "{1, 2, 3, 4, 6}"
      ]
     },
     "execution_count": 26,
     "metadata": {},
     "output_type": "execute_result"
    }
   ],
   "source": [
    "unique_lengths = {len(x) for x in strings}\n",
    "\n",
    "unique_lengths"
   ]
  },
  {
   "cell_type": "markdown",
   "id": "949fb666",
   "metadata": {},
   "source": [
    "map函数可以进一步简化："
   ]
  },
  {
   "cell_type": "code",
   "execution_count": 27,
   "id": "76733f2d",
   "metadata": {},
   "outputs": [
    {
     "data": {
      "text/plain": [
       "{1, 2, 3, 4, 6}"
      ]
     },
     "execution_count": 27,
     "metadata": {},
     "output_type": "execute_result"
    }
   ],
   "source": [
    "set(map(len, strings))"
   ]
  },
  {
   "cell_type": "markdown",
   "id": "3d3fd51b",
   "metadata": {},
   "source": [
    "作为一个字典推导式的例子，我们可以创建一个字符串的查找映射表以确定它在列表中的位置："
   ]
  },
  {
   "cell_type": "code",
   "execution_count": 28,
   "id": "e9fbbf3a",
   "metadata": {},
   "outputs": [
    {
     "data": {
      "text/plain": [
       "{'a': 0, 'as': 1, 'bat': 2, 'car': 3, 'dove': 4, 'python': 5}"
      ]
     },
     "execution_count": 28,
     "metadata": {},
     "output_type": "execute_result"
    }
   ],
   "source": [
    "loc_mapping = {val : index for index, val in enumerate(strings)}\n",
    "\n",
    "loc_mapping"
   ]
  },
  {
   "cell_type": "markdown",
   "id": "ec5320e5",
   "metadata": {},
   "source": [
    "### 嵌套列表推导式\n",
    "假设我们有一个包含列表的列表，包含了一些英文名和西班牙名："
   ]
  },
  {
   "cell_type": "code",
   "execution_count": 2,
   "id": "7027bf4b",
   "metadata": {},
   "outputs": [],
   "source": [
    "all_data = [['John', 'Emily', 'Michael', 'Mary', 'Steven'],\n",
    "            ['Maria', 'Juan', 'Javier', 'Natalia', 'Pilar']]"
   ]
  },
  {
   "cell_type": "markdown",
   "id": "467c4497",
   "metadata": {},
   "source": [
    "你可能是从一些文件得到的这些名字，然后想按照语言进行分类。现在假设我们想用一个列表包含所有的名字，这些名字中包含两个或更多的e。可以用for循环来做："
   ]
  },
  {
   "cell_type": "code",
   "execution_count": 3,
   "id": "ec9bbb34",
   "metadata": {},
   "outputs": [],
   "source": [
    "names_of_interest = []\n",
    "for names in all_data:\n",
    "    enough_es = [name for name in names if name.count('e') >= 2]"
   ]
  },
  {
   "cell_type": "code",
   "execution_count": 4,
   "id": "7f924f61",
   "metadata": {},
   "outputs": [
    {
     "data": {
      "text/plain": [
       "['Steven']"
      ]
     },
     "execution_count": 4,
     "metadata": {},
     "output_type": "execute_result"
    }
   ],
   "source": [
    "result = [name for names in all_data for name in names if name.count('e') >= 2]\n",
    "\n",
    "result"
   ]
  },
  {
   "cell_type": "markdown",
   "id": "f61c802d",
   "metadata": {},
   "source": [
    "嵌套列表推导式看起来有些复杂。列表推导式的for部分是根据嵌套的顺序，过滤条件还是放在最后。下面是另一个例子，我们将一个整数元组的列表扁平化成了一个整数列表："
   ]
  },
  {
   "cell_type": "code",
   "execution_count": 5,
   "id": "2625bf98",
   "metadata": {},
   "outputs": [
    {
     "data": {
      "text/plain": [
       "[1, 2, 3, 4, 5, 6, 7, 8, 9]"
      ]
     },
     "execution_count": 5,
     "metadata": {},
     "output_type": "execute_result"
    }
   ],
   "source": [
    "some_tuples = [(1, 2, 3), (4, 5, 6), (7, 8, 9)]\n",
    "\n",
    "flatened = [x for tup in some_tuples for x in tup]\n",
    "\n",
    "flatened"
   ]
  },
  {
   "cell_type": "code",
   "execution_count": 6,
   "id": "831e15e6",
   "metadata": {},
   "outputs": [
    {
     "data": {
      "text/plain": [
       "[1, 2, 3, 4, 5, 6, 7, 8, 9]"
      ]
     },
     "execution_count": 6,
     "metadata": {},
     "output_type": "execute_result"
    }
   ],
   "source": [
    "flattened = []\n",
    "\n",
    "for tup in some_tuples:\n",
    "    for x in tup:\n",
    "        flattened.append(x)\n",
    "        \n",
    "flattened"
   ]
  },
  {
   "cell_type": "markdown",
   "id": "7cc57aea",
   "metadata": {},
   "source": [
    "你可以有任意多级别的嵌套，但是如果你有两三个以上的嵌套，你就应该考虑下代码可读性的问题了。分辨列表推导式的列表推导式中的语法也是很重要的："
   ]
  },
  {
   "cell_type": "code",
   "execution_count": 7,
   "id": "d330c9b6",
   "metadata": {},
   "outputs": [
    {
     "data": {
      "text/plain": [
       "[[1, 2, 3], [4, 5, 6], [7, 8, 9]]"
      ]
     },
     "execution_count": 7,
     "metadata": {},
     "output_type": "execute_result"
    }
   ],
   "source": [
    "[[x for x in tup] for tup in some_tuples]"
   ]
  },
  {
   "cell_type": "markdown",
   "id": "ab5843f1",
   "metadata": {},
   "source": [
    "这段代码产生了一个列表的列表，而不是扁平化的只包含元素的列表。"
   ]
  },
  {
   "cell_type": "markdown",
   "id": "9757be1a",
   "metadata": {},
   "source": [
    "## 3.2 函数\n",
    "如果你要重复使用相同或非常类似的代码，就需要写一个函数。通过给函数起一个名字，还可以提高代码的可读性。  \n",
    "\n",
    "函数使用def关键字声明，用return关键字返回值："
   ]
  },
  {
   "cell_type": "code",
   "execution_count": 8,
   "id": "2f872295",
   "metadata": {},
   "outputs": [],
   "source": [
    "def my_function(x, y, z=1.5):\n",
    "    if z > 1:\n",
    "        return z * (x + y)\n",
    "    else:\n",
    "        return z / (x + y)"
   ]
  },
  {
   "cell_type": "markdown",
   "id": "2da20699",
   "metadata": {},
   "source": [
    "如果到达函数末尾时没有遇到任何一条return语句，则返回None。  \n",
    "\n",
    "函数可以有一些位置参数（positional）和一些关键字参数（keyword）。关键字参数通常用于指定默认值或可选参数。在上面的函数中，x和y是位置参数，而z则是关键字参数。也就是说，该函数可以下面这两种方式进行调用："
   ]
  },
  {
   "cell_type": "code",
   "execution_count": 10,
   "id": "770ba73f",
   "metadata": {},
   "outputs": [
    {
     "data": {
      "text/plain": [
       "45.0"
      ]
     },
     "execution_count": 10,
     "metadata": {},
     "output_type": "execute_result"
    }
   ],
   "source": [
    "my_function(5, 6, z=0.7)\n",
    "my_function(3.14, 7, 3.5)\n",
    "my_function(10, 20)    #这种z就是默认值"
   ]
  },
  {
   "cell_type": "markdown",
   "id": "ab862358",
   "metadata": {},
   "source": [
    "函数参数的主要限制在于：关键字参数必须位于位置参数（如果有的话）之后。你可以任何顺序指定关键字参数。也就是说，你不用死记硬背函数参数的顺序，只要记得它们的名字就可以了。"
   ]
  },
  {
   "cell_type": "code",
   "execution_count": 11,
   "id": "07d2fbb6",
   "metadata": {},
   "outputs": [
    {
     "data": {
      "text/plain": [
       "77"
      ]
     },
     "execution_count": 11,
     "metadata": {},
     "output_type": "execute_result"
    }
   ],
   "source": [
    "my_function(x=5, y=6, z=7)\n",
    "my_function(y=6, x=5, z=7)"
   ]
  },
  {
   "cell_type": "markdown",
   "id": "a616abb2",
   "metadata": {},
   "source": [
    "这种写法可以提高可读性。"
   ]
  },
  {
   "cell_type": "markdown",
   "id": "3c2958f1",
   "metadata": {},
   "source": [
    "### 命名空间、作用域，和局部函数\n",
    "函数可以访问两种不同作用域中的变量：全局（global）和局部（local）。 \n",
    "\n",
    "Python有一种更科学的用于描述变量作用域的名称，即命名空间（namespace）。任何在函数中赋值的变量默认都是被分配到局部命名空间（local namespace）中的。\n",
    "局部命名空间是在函数被调用时创建的，函数参数会立即填入该命名空间。在函数执行完毕之后，局部命名空间就会被销毁（会有一些例外的情况，具体请参见后面介绍闭包的那一节）。看看下面这个函数："
   ]
  },
  {
   "cell_type": "code",
   "execution_count": 15,
   "id": "5e11014d",
   "metadata": {},
   "outputs": [],
   "source": [
    "def func():\n",
    "    a = []\n",
    "    for i in range(5):\n",
    "        a.append(i)"
   ]
  },
  {
   "cell_type": "markdown",
   "id": "48925e98",
   "metadata": {},
   "source": [
    "调用func()之后，首先会创建出空列表a，然后添加5个元素，最后a会在该函数退出的时候被销毁。假如我们像下面这样定义a："
   ]
  },
  {
   "cell_type": "code",
   "execution_count": 20,
   "id": "af39d433",
   "metadata": {},
   "outputs": [
    {
     "data": {
      "text/plain": [
       "[0, 1, 2, 3, 4]"
      ]
     },
     "execution_count": 20,
     "metadata": {},
     "output_type": "execute_result"
    }
   ],
   "source": [
    "a = []\n",
    "def func():\n",
    "    for i in range(5):\n",
    "        a.append(i)\n",
    "        \n",
    "func()\n",
    "a"
   ]
  },
  {
   "cell_type": "markdown",
   "id": "d3e21aa7",
   "metadata": {},
   "source": [
    "虽然可以在函数中对全局变量进行赋值操作，但是那些变量必须用global关键字声明成全局的才行："
   ]
  },
  {
   "cell_type": "code",
   "execution_count": 29,
   "id": "a1634d17",
   "metadata": {},
   "outputs": [
    {
     "name": "stdout",
     "output_type": "stream",
     "text": [
      "[2]\n"
     ]
    }
   ],
   "source": [
    "a = [2]\n",
    "\n",
    "def bind_a_variable():\n",
    "    #global a\n",
    "    a = [1]\n",
    "bind_a_variable()\n",
    "\n",
    "print(a)"
   ]
  },
  {
   "cell_type": "code",
   "execution_count": 27,
   "id": "8c57f757",
   "metadata": {},
   "outputs": [
    {
     "name": "stdout",
     "output_type": "stream",
     "text": [
      "[2, 1]\n"
     ]
    }
   ],
   "source": [
    "a = [2]\n",
    "\n",
    "def bind_a_variable():\n",
    "    #global a\n",
    "    a.append(1)\n",
    "bind_a_variable()\n",
    "\n",
    "print(a)"
   ]
  },
  {
   "cell_type": "markdown",
   "id": "591f7155",
   "metadata": {},
   "source": [
    ">>这里个人总结，如果在函数内要对全局变量赋值，不加global关键词申明是做不到的。但是为什么append函数可以呢，个人理解是append必须是操作已存在的列表，所以肯定不是新建一个局部变量。"
   ]
  },
  {
   "cell_type": "markdown",
   "id": "71efaf0c",
   "metadata": {},
   "source": [
    ">注意：我常常建议人们不要频繁使用global关键字。因为全局变量一般是用于存放系统的某些状态的。如果你发现自己用了很多，那可能就说明得要来点儿面向对象编程了（即使用类）。"
   ]
  },
  {
   "cell_type": "markdown",
   "id": "96ffd4f2",
   "metadata": {},
   "source": [
    "### 返回多个值\n",
    "函数可以返回多个值。下面是一个简单的例子："
   ]
  },
  {
   "cell_type": "code",
   "execution_count": 31,
   "id": "9291c449",
   "metadata": {},
   "outputs": [],
   "source": [
    "def f():\n",
    "    a = 5\n",
    "    b = 6\n",
    "    c = 7\n",
    "    return a, b, c\n",
    "\n",
    "a, b, c = f()"
   ]
  },
  {
   "cell_type": "markdown",
   "id": "3c347d01",
   "metadata": {},
   "source": [
    "函数其实只返回了一个对象，也就是一个元组，最后该元组会被拆包到各个结果变量中。在上面的例子中，我们还可以这样写："
   ]
  },
  {
   "cell_type": "code",
   "execution_count": 32,
   "id": "04e96820",
   "metadata": {},
   "outputs": [
    {
     "data": {
      "text/plain": [
       "(5, 6, 7)"
      ]
     },
     "execution_count": 32,
     "metadata": {},
     "output_type": "execute_result"
    }
   ],
   "source": [
    "return_value = f()\n",
    "\n",
    "return_value"
   ]
  },
  {
   "cell_type": "markdown",
   "id": "b32a6928",
   "metadata": {},
   "source": [
    "此外，还有一种非常具有吸引力的多值返回方式——返回字典："
   ]
  },
  {
   "cell_type": "code",
   "execution_count": 33,
   "id": "214b55ca",
   "metadata": {},
   "outputs": [],
   "source": [
    "def f():\n",
    "    a = 5\n",
    "    b = 6\n",
    "    c = 7\n",
    "    return {'a' : a, 'b' : b, 'c' : c}"
   ]
  },
  {
   "cell_type": "markdown",
   "id": "1c3b6e78",
   "metadata": {},
   "source": [
    "### 函数也是对象\n",
    "由于Python函数都是对象，因此，在其他语言中较难表达的一些设计思想在Python中就要简单很多了。假设我们有下面这样一个字符串数组，希望对其进行一些数据清理工作并执行一堆转换："
   ]
  },
  {
   "cell_type": "code",
   "execution_count": 36,
   "id": "c2ad56e0",
   "metadata": {},
   "outputs": [],
   "source": [
    "states = ['   Alabama ', 'Georgia!', 'Georgia', 'georgia', 'FlOrIda',\n",
    "          'south   carolina##', 'West virginia?', 'the World of Goo']"
   ]
  },
  {
   "cell_type": "markdown",
   "id": "28bf7416",
   "metadata": {},
   "source": [
    "不管是谁，只要处理过由用户提交的调查数据，就能明白这种乱七八糟的数据是怎么一回事。为了得到一组能用于分析工作的格式统一的字符串，需要做很多事情：去除空白符、删除各种标点符号、正确的大写格式等。做法之一是使用内建的字符串方法和正则表达式re模块："
   ]
  },
  {
   "cell_type": "code",
   "execution_count": 37,
   "id": "c8fc38ca",
   "metadata": {},
   "outputs": [
    {
     "data": {
      "text/plain": [
       "['Alabama',\n",
       " 'Georgia',\n",
       " 'Georgia',\n",
       " 'Georgia',\n",
       " 'Florida',\n",
       " 'South   Carolina',\n",
       " 'West Virginia',\n",
       " 'The World Of Goo']"
      ]
     },
     "execution_count": 37,
     "metadata": {},
     "output_type": "execute_result"
    }
   ],
   "source": [
    "import re\n",
    "\n",
    "def clean_strings(strings):\n",
    "    result = []\n",
    "    for value in strings:\n",
    "        value = value.strip()\n",
    "        value = re.sub('[!#?]','',value)  # re是regular expression的所写，表示正则表达式\n",
    "                                        # sub是substitute的所写，表示替换\n",
    "        value = value.title()  # Python title() 方法返回\"标题化\"的字符串,就是说所有单词都是以大写开始，其余字母均为小写\n",
    "        result.append(value)\n",
    "    return result\n",
    "\n",
    "clean_strings(states)"
   ]
  },
  {
   "cell_type": "markdown",
   "id": "9a729ee4",
   "metadata": {},
   "source": [
    "其实还有另外一种不错的办法：将需要在一组给定字符串上执行的所有运算做成一个列表："
   ]
  },
  {
   "cell_type": "code",
   "execution_count": 41,
   "id": "dfb30500",
   "metadata": {},
   "outputs": [
    {
     "data": {
      "text/plain": [
       "['Alabama',\n",
       " 'Georgia',\n",
       " 'Georgia',\n",
       " 'Georgia',\n",
       " 'Florida',\n",
       " 'South   Carolina',\n",
       " 'West Virginia',\n",
       " 'The World Of Goo']"
      ]
     },
     "execution_count": 41,
     "metadata": {},
     "output_type": "execute_result"
    }
   ],
   "source": [
    "def remove_punctuation(value):\n",
    "    return re.sub('[!#?]','',value)\n",
    "\n",
    "clean_ops = [str.strip, remove_punctuation, str.title]\n",
    "\n",
    "def clean_strings2(strings, ops):\n",
    "    result = []\n",
    "    for value in strings:\n",
    "        for function in ops:\n",
    "            value = function(value)\n",
    "        result.append(value)\n",
    "    return result\n",
    "\n",
    "clean_strings2(states, clean_ops)"
   ]
  },
  {
   "cell_type": "markdown",
   "id": "c3815463",
   "metadata": {},
   "source": [
    ">不太理解这种模式为什么clean_ops里可以不写成strip()，只能说应该是list里存的是一个函数名的话，python会自动识别？"
   ]
  },
  {
   "cell_type": "markdown",
   "id": "7cd6ea34",
   "metadata": {},
   "source": [
    "这种多函数模式使你能在很高的层次上轻松修改字符串的转换方式。此时的clean_strings也更具可复用性！\n",
    "\n",
    "还可以将函数用作其他函数的参数，比如内置的map函数，它用于在一组数据上应用一个函数："
   ]
  },
  {
   "cell_type": "code",
   "execution_count": 44,
   "id": "e873d125",
   "metadata": {},
   "outputs": [
    {
     "name": "stdout",
     "output_type": "stream",
     "text": [
      "   Alabama \n",
      "Georgia\n",
      "Georgia\n",
      "georgia\n",
      "FlOrIda\n",
      "south   carolina\n",
      "West virginia\n",
      "the World of Goo\n"
     ]
    }
   ],
   "source": [
    "for x in map(remove_punctuation, states):\n",
    "    print(x)"
   ]
  },
  {
   "cell_type": "code",
   "execution_count": null,
   "id": "a287228a",
   "metadata": {},
   "outputs": [],
   "source": []
  }
 ],
 "metadata": {
  "kernelspec": {
   "display_name": "Python 3",
   "language": "python",
   "name": "python3"
  },
  "language_info": {
   "codemirror_mode": {
    "name": "ipython",
    "version": 3
   },
   "file_extension": ".py",
   "mimetype": "text/x-python",
   "name": "python",
   "nbconvert_exporter": "python",
   "pygments_lexer": "ipython3",
   "version": "3.8.8"
  }
 },
 "nbformat": 4,
 "nbformat_minor": 5
}
