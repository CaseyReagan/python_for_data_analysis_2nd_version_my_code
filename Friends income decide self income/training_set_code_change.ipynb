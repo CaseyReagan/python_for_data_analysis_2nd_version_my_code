{
 "cells": [
  {
   "cell_type": "code",
   "execution_count": 22,
   "id": "cf1e87d5",
   "metadata": {},
   "outputs": [],
   "source": [
    "import pandas as pd \n",
    "import numpy as np\n",
    "from mlxtend.plotting import plot_decision_regions\n",
    "import matplotlib.pyplot as plt\n",
    "import seaborn as sns\n",
    "sns.set()\n",
    "from sklearn.neighbors import KNeighborsClassifier\n",
    "from sklearn.model_selection import GridSearchCV\n",
    "from sklearn.model_selection import train_test_split\n",
    "from sklearn import cluster\n",
    "from sklearn.metrics import accuracy_score, confusion_matrix, classification_report\n",
    "from openpyxl import load_workbook\n",
    "import csv"
   ]
  },
  {
   "cell_type": "markdown",
   "id": "ed7bc8a6",
   "metadata": {},
   "source": [
    "#Loading the dataset"
   ]
  },
  {
   "cell_type": "code",
   "execution_count": 23,
   "id": "65e43b8c",
   "metadata": {},
   "outputs": [],
   "source": [
    "sm_df = pd.read_csv(\"./training_set.csv\")"
   ]
  },
  {
   "cell_type": "code",
   "execution_count": 24,
   "id": "b3b05ead",
   "metadata": {},
   "outputs": [
    {
     "data": {
      "text/plain": [
       "(100000, 4)"
      ]
     },
     "execution_count": 24,
     "metadata": {},
     "output_type": "execute_result"
    }
   ],
   "source": [
    "sm_df.shape"
   ]
  },
  {
   "cell_type": "markdown",
   "id": "88c85e72",
   "metadata": {},
   "source": [
    "#Print the first 5 rows of the dataframe to check the content of the dataset"
   ]
  },
  {
   "cell_type": "code",
   "execution_count": 25,
   "id": "eba236e1",
   "metadata": {
    "scrolled": true
   },
   "outputs": [
    {
     "data": {
      "text/html": [
       "<div>\n",
       "<style scoped>\n",
       "    .dataframe tbody tr th:only-of-type {\n",
       "        vertical-align: middle;\n",
       "    }\n",
       "\n",
       "    .dataframe tbody tr th {\n",
       "        vertical-align: top;\n",
       "    }\n",
       "\n",
       "    .dataframe thead th {\n",
       "        text-align: right;\n",
       "    }\n",
       "</style>\n",
       "<table border=\"1\" class=\"dataframe\">\n",
       "  <thead>\n",
       "    <tr style=\"text-align: right;\">\n",
       "      <th></th>\n",
       "      <th>id</th>\n",
       "      <th>income</th>\n",
       "      <th>age</th>\n",
       "      <th>friends_list</th>\n",
       "    </tr>\n",
       "  </thead>\n",
       "  <tbody>\n",
       "    <tr>\n",
       "      <th>0</th>\n",
       "      <td>249893612</td>\n",
       "      <td>38083.0</td>\n",
       "      <td>44.8677</td>\n",
       "      <td>4202980087,2258284167,4614845762,233604503,650...</td>\n",
       "    </tr>\n",
       "    <tr>\n",
       "      <th>1</th>\n",
       "      <td>2264281529</td>\n",
       "      <td>29429.0</td>\n",
       "      <td>30.2327</td>\n",
       "      <td>26600353,47515927,20896265,23449295,501162087,...</td>\n",
       "    </tr>\n",
       "    <tr>\n",
       "      <th>2</th>\n",
       "      <td>555636171</td>\n",
       "      <td>111127.0</td>\n",
       "      <td>29.5693</td>\n",
       "      <td>5540122414,4285863106,3061861070,2977843626,14...</td>\n",
       "    </tr>\n",
       "    <tr>\n",
       "      <th>3</th>\n",
       "      <td>3976714904</td>\n",
       "      <td>62514.0</td>\n",
       "      <td>37.8036</td>\n",
       "      <td>791994715,1991840134,3317519232,35655282,27074...</td>\n",
       "    </tr>\n",
       "    <tr>\n",
       "      <th>4</th>\n",
       "      <td>1773172946</td>\n",
       "      <td>46892.0</td>\n",
       "      <td>34.6590</td>\n",
       "      <td>6089602574,6038882552,5681654631,1591004024,42...</td>\n",
       "    </tr>\n",
       "  </tbody>\n",
       "</table>\n",
       "</div>"
      ],
      "text/plain": [
       "           id    income      age  \\\n",
       "0   249893612   38083.0  44.8677   \n",
       "1  2264281529   29429.0  30.2327   \n",
       "2   555636171  111127.0  29.5693   \n",
       "3  3976714904   62514.0  37.8036   \n",
       "4  1773172946   46892.0  34.6590   \n",
       "\n",
       "                                        friends_list  \n",
       "0  4202980087,2258284167,4614845762,233604503,650...  \n",
       "1  26600353,47515927,20896265,23449295,501162087,...  \n",
       "2  5540122414,4285863106,3061861070,2977843626,14...  \n",
       "3  791994715,1991840134,3317519232,35655282,27074...  \n",
       "4  6089602574,6038882552,5681654631,1591004024,42...  "
      ]
     },
     "execution_count": 25,
     "metadata": {},
     "output_type": "execute_result"
    }
   ],
   "source": [
    "sm_df.head()"
   ]
  },
  {
   "cell_type": "markdown",
   "id": "4520cf38",
   "metadata": {},
   "source": [
    "#Basic statistic details about the data"
   ]
  },
  {
   "cell_type": "code",
   "execution_count": 26,
   "id": "493595e5",
   "metadata": {},
   "outputs": [
    {
     "data": {
      "text/html": [
       "<div>\n",
       "<style scoped>\n",
       "    .dataframe tbody tr th:only-of-type {\n",
       "        vertical-align: middle;\n",
       "    }\n",
       "\n",
       "    .dataframe tbody tr th {\n",
       "        vertical-align: top;\n",
       "    }\n",
       "\n",
       "    .dataframe thead th {\n",
       "        text-align: right;\n",
       "    }\n",
       "</style>\n",
       "<table border=\"1\" class=\"dataframe\">\n",
       "  <thead>\n",
       "    <tr style=\"text-align: right;\">\n",
       "      <th></th>\n",
       "      <th>id</th>\n",
       "      <th>income</th>\n",
       "      <th>age</th>\n",
       "    </tr>\n",
       "  </thead>\n",
       "  <tbody>\n",
       "    <tr>\n",
       "      <th>count</th>\n",
       "      <td>1.000000e+05</td>\n",
       "      <td>100000.000000</td>\n",
       "      <td>100000.000000</td>\n",
       "    </tr>\n",
       "    <tr>\n",
       "      <th>mean</th>\n",
       "      <td>9.387667e+08</td>\n",
       "      <td>59501.578690</td>\n",
       "      <td>34.508510</td>\n",
       "    </tr>\n",
       "    <tr>\n",
       "      <th>std</th>\n",
       "      <td>1.021930e+09</td>\n",
       "      <td>37263.852762</td>\n",
       "      <td>11.336781</td>\n",
       "    </tr>\n",
       "    <tr>\n",
       "      <th>min</th>\n",
       "      <td>5.090000e+02</td>\n",
       "      <td>4755.000000</td>\n",
       "      <td>15.110520</td>\n",
       "    </tr>\n",
       "    <tr>\n",
       "      <th>25%</th>\n",
       "      <td>2.078216e+08</td>\n",
       "      <td>34774.750000</td>\n",
       "      <td>26.475600</td>\n",
       "    </tr>\n",
       "    <tr>\n",
       "      <th>50%</th>\n",
       "      <td>4.442616e+08</td>\n",
       "      <td>50659.000000</td>\n",
       "      <td>31.319750</td>\n",
       "    </tr>\n",
       "    <tr>\n",
       "      <th>75%</th>\n",
       "      <td>1.508312e+09</td>\n",
       "      <td>67150.250000</td>\n",
       "      <td>39.047600</td>\n",
       "    </tr>\n",
       "    <tr>\n",
       "      <th>max</th>\n",
       "      <td>1.650528e+10</td>\n",
       "      <td>177306.000000</td>\n",
       "      <td>80.000000</td>\n",
       "    </tr>\n",
       "  </tbody>\n",
       "</table>\n",
       "</div>"
      ],
      "text/plain": [
       "                 id         income            age\n",
       "count  1.000000e+05  100000.000000  100000.000000\n",
       "mean   9.387667e+08   59501.578690      34.508510\n",
       "std    1.021930e+09   37263.852762      11.336781\n",
       "min    5.090000e+02    4755.000000      15.110520\n",
       "25%    2.078216e+08   34774.750000      26.475600\n",
       "50%    4.442616e+08   50659.000000      31.319750\n",
       "75%    1.508312e+09   67150.250000      39.047600\n",
       "max    1.650528e+10  177306.000000      80.000000"
      ]
     },
     "execution_count": 26,
     "metadata": {},
     "output_type": "execute_result"
    }
   ],
   "source": [
    "sm_df.describe()"
   ]
  },
  {
   "cell_type": "markdown",
   "id": "d9115a58",
   "metadata": {},
   "source": [
    "#Information about the data types, columns, null value counts etc"
   ]
  },
  {
   "cell_type": "code",
   "execution_count": 27,
   "id": "c9408cb5",
   "metadata": {},
   "outputs": [
    {
     "name": "stdout",
     "output_type": "stream",
     "text": [
      "<class 'pandas.core.frame.DataFrame'>\n",
      "RangeIndex: 100000 entries, 0 to 99999\n",
      "Data columns (total 4 columns):\n",
      " #   Column        Non-Null Count   Dtype  \n",
      "---  ------        --------------   -----  \n",
      " 0   id            100000 non-null  int64  \n",
      " 1   income        100000 non-null  float64\n",
      " 2   age           100000 non-null  float64\n",
      " 3   friends_list  100000 non-null  object \n",
      "dtypes: float64(2), int64(1), object(1)\n",
      "memory usage: 3.1+ MB\n"
     ]
    }
   ],
   "source": [
    "sm_df.info()"
   ]
  },
  {
   "cell_type": "markdown",
   "id": "8bb6d7fe",
   "metadata": {},
   "source": [
    "#Show the count of Nans"
   ]
  },
  {
   "cell_type": "code",
   "execution_count": 30,
   "id": "b694c46b",
   "metadata": {},
   "outputs": [
    {
     "name": "stdout",
     "output_type": "stream",
     "text": [
      "id              0\n",
      "income          0\n",
      "age             0\n",
      "friends_list    0\n",
      "dtype: int64\n"
     ]
    }
   ],
   "source": [
    "print(sm_df.isnull().sum(axis=0))"
   ]
  },
  {
   "cell_type": "markdown",
   "id": "37505543",
   "metadata": {},
   "source": [
    "#There is no Null value in the dataset which is good, but still would be good to know the Distribution of the income and age"
   ]
  },
  {
   "cell_type": "code",
   "execution_count": null,
   "id": "d29ef3a6",
   "metadata": {
    "scrolled": true
   },
   "outputs": [],
   "source": [
    "P = sm_df.hist(figsize = (200,200)"
   ]
  },
  {
   "cell_type": "code",
   "execution_count": 32,
   "id": "c2ddbc10",
   "metadata": {},
   "outputs": [
    {
     "name": "stdout",
     "output_type": "stream",
     "text": [
      "(100000, 4)\n"
     ]
    }
   ],
   "source": [
    "print(sm_df.shape)"
   ]
  },
  {
   "cell_type": "markdown",
   "id": "cd4a4c74",
   "metadata": {},
   "source": [
    "#Besides friend list, check if age matters the income"
   ]
  },
  {
   "cell_type": "code",
   "execution_count": 33,
   "id": "1d87cf35",
   "metadata": {},
   "outputs": [
    {
     "data": {
      "image/png": "[encoded data removed]",
      "text/plain": [
       "<Figure size 432x288 with 1 Axes>"
      ]
     },
     "metadata": {},
     "output_type": "display_data"
    }
   ],
   "source": [
    "age_inc = cluster.KMeans(n_clusters=10,random_state=10)\n",
    "age_inc.fit(sm_df[['age','income']])\n",
    "sm_df['cluaster']=age_inc.labels_\n",
    "plt.scatter(x='age',y='income',data=sm_df,s=200,alpha=0.1,label=cluster)\n",
    "plt.xlabel('age')\n",
    "plt.ylabel('income')\n",
    "plt.show()"
   ]
  },
  {
   "cell_type": "markdown",
   "id": "b707bb8d",
   "metadata": {},
   "source": [
    "#Apparently, the elder users are, the higher the minimum income is. So, age does matter the minimum income."
   ]
  },
  {
   "cell_type": "code",
   "execution_count": 34,
   "id": "bda4bc59",
   "metadata": {},
   "outputs": [
    {
     "data": {
      "text/html": [
       "<div>\n",
       "<style scoped>\n",
       "    .dataframe tbody tr th:only-of-type {\n",
       "        vertical-align: middle;\n",
       "    }\n",
       "\n",
       "    .dataframe tbody tr th {\n",
       "        vertical-align: top;\n",
       "    }\n",
       "\n",
       "    .dataframe thead th {\n",
       "        text-align: right;\n",
       "    }\n",
       "</style>\n",
       "<table border=\"1\" class=\"dataframe\">\n",
       "  <thead>\n",
       "    <tr style=\"text-align: right;\">\n",
       "      <th></th>\n",
       "      <th>id</th>\n",
       "      <th>income</th>\n",
       "      <th>age</th>\n",
       "      <th>friends_list</th>\n",
       "      <th>cluaster</th>\n",
       "      <th>avg_income</th>\n",
       "    </tr>\n",
       "  </thead>\n",
       "  <tbody>\n",
       "    <tr>\n",
       "      <th>0</th>\n",
       "      <td>249893612</td>\n",
       "      <td>38083.0</td>\n",
       "      <td>44.8677</td>\n",
       "      <td>4202980087,2258284167,4614845762,233604503,650...</td>\n",
       "      <td>0</td>\n",
       "      <td></td>\n",
       "    </tr>\n",
       "    <tr>\n",
       "      <th>1</th>\n",
       "      <td>2264281529</td>\n",
       "      <td>29429.0</td>\n",
       "      <td>30.2327</td>\n",
       "      <td>26600353,47515927,20896265,23449295,501162087,...</td>\n",
       "      <td>7</td>\n",
       "      <td></td>\n",
       "    </tr>\n",
       "    <tr>\n",
       "      <th>2</th>\n",
       "      <td>555636171</td>\n",
       "      <td>111127.0</td>\n",
       "      <td>29.5693</td>\n",
       "      <td>5540122414,4285863106,3061861070,2977843626,14...</td>\n",
       "      <td>8</td>\n",
       "      <td></td>\n",
       "    </tr>\n",
       "    <tr>\n",
       "      <th>3</th>\n",
       "      <td>3976714904</td>\n",
       "      <td>62514.0</td>\n",
       "      <td>37.8036</td>\n",
       "      <td>791994715,1991840134,3317519232,35655282,27074...</td>\n",
       "      <td>9</td>\n",
       "      <td></td>\n",
       "    </tr>\n",
       "    <tr>\n",
       "      <th>4</th>\n",
       "      <td>1773172946</td>\n",
       "      <td>46892.0</td>\n",
       "      <td>34.6590</td>\n",
       "      <td>6089602574,6038882552,5681654631,1591004024,42...</td>\n",
       "      <td>6</td>\n",
       "      <td></td>\n",
       "    </tr>\n",
       "  </tbody>\n",
       "</table>\n",
       "</div>"
      ],
      "text/plain": [
       "           id    income      age  \\\n",
       "0   249893612   38083.0  44.8677   \n",
       "1  2264281529   29429.0  30.2327   \n",
       "2   555636171  111127.0  29.5693   \n",
       "3  3976714904   62514.0  37.8036   \n",
       "4  1773172946   46892.0  34.6590   \n",
       "\n",
       "                                        friends_list  cluaster avg_income  \n",
       "0  4202980087,2258284167,4614845762,233604503,650...         0             \n",
       "1  26600353,47515927,20896265,23449295,501162087,...         7             \n",
       "2  5540122414,4285863106,3061861070,2977843626,14...         8             \n",
       "3  791994715,1991840134,3317519232,35655282,27074...         9             \n",
       "4  6089602574,6038882552,5681654631,1591004024,42...         6             "
      ]
     },
     "execution_count": 34,
     "metadata": {},
     "output_type": "execute_result"
    }
   ],
   "source": [
    "sm_df['avg_income'] = ''\n",
    "sm_df.head()"
   ]
  },
  {
   "cell_type": "code",
   "execution_count": 40,
   "id": "8215b38c",
   "metadata": {},
   "outputs": [],
   "source": [
    "data = sm_df.values\n",
    "# print(data)\n",
    "ids = list(data[:,0])\n",
    "# print(ids)\n",
    "fri_lists = data[:,3]\n",
    "# print(fri_lists)\n",
    "avg_income = []"
   ]
  },
  {
   "cell_type": "code",
   "execution_count": null,
   "id": "53a3fcbd",
   "metadata": {},
   "outputs": [],
   "source": [
    "for i, fri_list in zip(range(len(fri_lists)), fri_lists):\n",
    "    fri_list = fri_list.split(',')\n",
    "    if '#' in fri_list[0]:\n",
    "        continue\n",
    "    income = 0\n",
    "    count = 0\n",
    "    for fri_id in fri_list:\n",
    "        if int(fri_id) in ids:\n",
    "            ids_index = ids.index(int(fri_id))\n",
    "            income += data[ids_index,1]\n",
    "            count += 1\n",
    "    if count != 0:\n",
    "        income /= count\n",
    "\n",
    "    data[i,4] = income\n",
    "data = data [:, [0,1,2,4]]\n",
    "sm_df = pd.DataFrame(data, columns=['id', 'income', 'age', 'avg_income'])\n",
    "sm_df.head()"
   ]
  },
  {
   "cell_type": "code",
   "execution_count": null,
   "id": "81b5edad",
   "metadata": {},
   "outputs": [],
   "source": []
  },
  {
   "cell_type": "code",
   "execution_count": null,
   "id": "bcdec03e",
   "metadata": {},
   "outputs": [],
   "source": [
    "sm_df = sm_df.astype('int64')\n",
    "print(sm_df3.info())"
   ]
  },
  {
   "cell_type": "code",
   "execution_count": null,
   "id": "181a7e65",
   "metadata": {},
   "outputs": [],
   "source": [
    "y = sm_df['income']\n",
    "X = sm_df.iloc[:,2:]\n",
    "print(X.head())"
   ]
  },
  {
   "cell_type": "code",
   "execution_count": null,
   "id": "67a61f7b",
   "metadata": {},
   "outputs": [],
   "source": [
    "x_train,x_test,y_train,y_test = train_test_split(X,y,test_size=0.3,random_state=11)\n",
    "print(x_train.shape,x_test.shape,y_train.shape,y_test.shape)"
   ]
  },
  {
   "cell_type": "code",
   "execution_count": null,
   "id": "412ed7e2",
   "metadata": {},
   "outputs": [],
   "source": [
    "knn = KNeighborsClassifier()\n",
    "knn.fit(x_train,y_train)\n",
    "y_pred_knn = knn.predict(x_test)\n",
    "acc_knn = accuracy_score(y_test, y_pred_knn)\n",
    "conf = confusion_matrix(y_test, y_pred_knn)\n",
    "clf_report = classification_report(y_test, y_pred_knn)\n",
    "print(f\"Accuracy Score of KNN is : {acc_knn}\")\n",
    "print(f\"Confusion Matrix : \\n{conf}\")\n",
    "print(f\"Classification Report : \\n{clf_report}\")"
   ]
  },
  {
   "cell_type": "code",
   "execution_count": null,
   "id": "eb64aa2a",
   "metadata": {},
   "outputs": [],
   "source": [
    "test_df = pd.read_csv(\"./idstest.csv\")\n",
    "print(test_df.info())"
   ]
  },
  {
   "cell_type": "code",
   "execution_count": null,
   "id": "3c49bbfb",
   "metadata": {},
   "outputs": [],
   "source": [
    "test_df['avg_income'] = ''\n",
    "test_df.head()"
   ]
  },
  {
   "cell_type": "code",
   "execution_count": null,
   "id": "7db02ff4",
   "metadata": {},
   "outputs": [],
   "source": [
    "data1 = test_df.values\n",
    "ids1 = list(data1[:,0])\n",
    "fri_lists1 = data1[:,3]\n",
    "avg_income = []\n",
    "for i, fri_list in zip(range(len(fri_lists1)), fri_lists1):\n",
    "    fri_list = fri_list.split(',')\n",
    "    if '#' in fri_list[0]:\n",
    "        continue\n",
    "    income = 0\n",
    "    count = 0\n",
    "    for fri_id in fri_list:\n",
    "        if int(fri_id) in ids1:\n",
    "            ids_index = ids1.index(int(fri_id))\n",
    "            income += data1[ids_index,1]\n",
    "            count += 1\n",
    "    if count != 0:\n",
    "        income /= count\n",
    "\n",
    "    data1[i,4] = income\n",
    "data1 = data1 [:, [0,1,2,4]]\n",
    "test_df = pd.DataFrame(data1, columns=['id', 'income', 'age', 'avg_income'])\n",
    "print(test_df.head)"
   ]
  },
  {
   "cell_type": "code",
   "execution_count": null,
   "id": "c9b279a3",
   "metadata": {},
   "outputs": [],
   "source": [
    "data3 = test_df.values\n",
    "x_pre = data3[:,[2,3]]\n",
    "model.fit(X,y)\n",
    "y_pre = knn.predict(X_pre)\n",
    "test_df['income']=y_pre\n",
    "test_df.to_csv(r\"/Users/yecuiling/Desktop/test_pre.csv\", mode='a',index=False)\n",
    "print(test_df.values)"
   ]
  }
 ],
 "metadata": {
  "kernelspec": {
   "display_name": "Python 3",
   "language": "python",
   "name": "python3"
  },
  "language_info": {
   "codemirror_mode": {
    "name": "ipython",
    "version": 3
   },
   "file_extension": ".py",
   "mimetype": "text/x-python",
   "name": "python",
   "nbconvert_exporter": "python",
   "pygments_lexer": "ipython3",
   "version": "3.8.8"
  }
 },
 "nbformat": 4,
 "nbformat_minor": 5
}
